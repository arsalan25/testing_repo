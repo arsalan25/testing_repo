{
  "nbformat": 4,
  "nbformat_minor": 0,
  "metadata": {
    "colab": {
      "name": "Daily Practice - Simple function",
      "provenance": [],
      "authorship_tag": "ABX9TyNbTUA2Z448koSt4expRaK9"
    },
    "kernelspec": {
      "name": "python3",
      "display_name": "Python 3"
    }
  },
  "cells": [
    {
      "cell_type": "code",
      "metadata": {
        "id": "e3-yOpBngx7q",
        "colab_type": "code",
        "colab": {}
      },
      "source": [
        "# Function that asks user to guess random number\n",
        "from random import random\n",
        "from random import seed"
      ],
      "execution_count": 0,
      "outputs": []
    },
    {
      "cell_type": "code",
      "metadata": {
        "id": "CSNDybMfkWSB",
        "colab_type": "code",
        "colab": {}
      },
      "source": [
        "seed = 42"
      ],
      "execution_count": 0,
      "outputs": []
    },
    {
      "cell_type": "code",
      "metadata": {
        "id": "i8MNKlvehy0w",
        "colab_type": "code",
        "colab": {}
      },
      "source": [
        "def Guess():\n",
        "  while guess\n",
        "  guess = input('Guess a number')\n",
        "  random_num = int(random())\n",
        "  if random_num == guess:\n",
        "    print('you win!')\n",
        "  \n",
        "  else:\n",
        "    print('no dice!')"
      ],
      "execution_count": 0,
      "outputs": []
    },
    {
      "cell_type": "code",
      "metadata": {
        "id": "EfBblpKilDEx",
        "colab_type": "code",
        "colab": {
          "base_uri": "https://localhost:8080/",
          "height": 52
        },
        "outputId": "551bfce2-fa56-44c7-aa77-e0703a0abed6"
      },
      "source": [
        "Guess()"
      ],
      "execution_count": 43,
      "outputs": [
        {
          "output_type": "stream",
          "text": [
            "Guess a number8\n",
            "no dice!\n"
          ],
          "name": "stdout"
        }
      ]
    },
    {
      "cell_type": "code",
      "metadata": {
        "id": "JhHMwE57lvuI",
        "colab_type": "code",
        "colab": {}
      },
      "source": [
        ""
      ],
      "execution_count": 0,
      "outputs": []
    }
  ]
}