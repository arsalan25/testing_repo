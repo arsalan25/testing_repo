{
  "nbformat": 4,
  "nbformat_minor": 0,
  "metadata": {
    "colab": {
      "name": "Conditional Statements",
      "provenance": [],
      "include_colab_link": true
    },
    "kernelspec": {
      "name": "python3",
      "display_name": "Python 3"
    }
  },
  "cells": [
    {
      "cell_type": "markdown",
      "metadata": {
        "id": "view-in-github",
        "colab_type": "text"
      },
      "source": [
        "<a href=\"https://colab.research.google.com/github/juansvas/testing_repo/blob/master/Conditional_Statements.ipynb\" target=\"_parent\"><img src=\"https://colab.research.google.com/assets/colab-badge.svg\" alt=\"Open In Colab\"/></a>"
      ]
    },
    {
      "cell_type": "code",
      "metadata": {
        "id": "Sqz5UzUSmm41",
        "colab_type": "code",
        "outputId": "4a53a597-e8b5-4e5a-8000-d0823cb1ec9b",
        "colab": {
          "base_uri": "https://localhost:8080/",
          "height": 353
        }
      },
      "source": [
        "# Food Tracker App\n",
        "# Header and title\n",
        "print('-' * 30)\n",
        "print('Food Tracker App')\n",
        "print('-' * 30)\n",
        "print()\n",
        "\n",
        "print('Its saturday. Should I eat cake and ice cream today?')\n",
        "\n",
        "weekdays = ['Sun', 'Mon', 'Tue', 'Wed', 'Thu', 'Fri'] # List of all other days\n",
        "answers = [] # Length of this will inform outcome\n",
        "\n",
        "for i in weekdays:\n",
        "  print(f\"Did you eat healthy on {i}?\")\n",
        "  answer = input(\"'Y' or 'N'\") # Asks user for input\n",
        "  if answer == 'Y':\n",
        "    answers.append(answer)\n",
        "\n",
        "print()\n",
        "print('Calculating the answer...')\n",
        "\n",
        "if len(answers) == 6:\n",
        "  print(\"Yes eat that cake and ice cream\")\n",
        "elif len(answers) == 5:\n",
        "  print('Maybe lay off the ice cream')\n",
        "else:\n",
        "  print('Stay away from all - make a green shake.')"
      ],
      "execution_count": 0,
      "outputs": [
        {
          "output_type": "stream",
          "text": [
            "------------------------------\n",
            "Food Tracker App\n",
            "------------------------------\n",
            "\n",
            "Its saturday. Should I eat cake and ice cream today?\n",
            "Did you eat healthy on Sun?\n",
            "'Y' or 'N'Y\n",
            "Did you eat healthy on Mon?\n",
            "'Y' or 'N'Y\n",
            "Did you eat healthy on Tue?\n",
            "'Y' or 'N'Y\n",
            "Did you eat healthy on Wed?\n",
            "'Y' or 'N'Y\n",
            "Did you eat healthy on Thu?\n",
            "'Y' or 'N'Y\n",
            "Did you eat healthy on Fri?\n",
            "'Y' or 'N'Y\n",
            "\n",
            "Calculating the answer...\n",
            "Yes eat that cake and ice cream\n"
          ],
          "name": "stdout"
        }
      ]
    },
    {
      "cell_type": "code",
      "metadata": {
        "id": "PotvSXMci8mZ",
        "colab_type": "code",
        "outputId": "0aa8fc3a-dad4-45f2-f146-5d52736196a8",
        "colab": {
          "base_uri": "https://localhost:8080/",
          "height": 34
        }
      },
      "source": [
        "# If statement\n",
        "x = 10\n",
        "y = 3\n",
        "\n",
        "if x > y:\n",
        "  print(f'{x} is greater than {y}')"
      ],
      "execution_count": 0,
      "outputs": [
        {
          "output_type": "stream",
          "text": [
            "10 is greater than 3\n"
          ],
          "name": "stdout"
        }
      ]
    },
    {
      "cell_type": "code",
      "metadata": {
        "id": "u3fdh-O7j_2j",
        "colab_type": "code",
        "outputId": "833fdb12-cc72-49b5-c2de-ce7725e1e6cb",
        "colab": {
          "base_uri": "https://localhost:8080/",
          "height": 34
        }
      },
      "source": [
        "sports = ['soccer', 'football', 'mma']\n",
        "\n",
        "if 'soccer' in sports:\n",
        "  print('Yes soccer is in there')"
      ],
      "execution_count": 0,
      "outputs": [
        {
          "output_type": "stream",
          "text": [
            "Yes soccer is in there\n"
          ],
          "name": "stdout"
        }
      ]
    },
    {
      "cell_type": "code",
      "metadata": {
        "id": "IZYZvCkHkNJs",
        "colab_type": "code",
        "outputId": "cb3b869d-1255-4e6b-8669-f8ad5d59b77a",
        "colab": {
          "base_uri": "https://localhost:8080/",
          "height": 50
        }
      },
      "source": [
        "# Else & elif\n",
        "cals_consumed = 1500\n",
        "cals_in_item = 100\n",
        "total_cals = cals_consumed + cals_in_item\n",
        "print(f\" Total Cals: {total_cals}\")\n",
        "\n",
        "if total_cals >= 1600:\n",
        "  print(\"Don't eat it!\")\n",
        "\n",
        "elif total_cals < 300:  # Asks to consider additional expression\n",
        "  print(\"Eat more!\")    # To execute new statement\n",
        "\n",
        "else:                   # Accounts for everything else \n",
        "  print(\"Sure eat it\")"
      ],
      "execution_count": 0,
      "outputs": [
        {
          "output_type": "stream",
          "text": [
            " Total Cals: 1600\n",
            "Don't eat it!\n"
          ],
          "name": "stdout"
        }
      ]
    },
    {
      "cell_type": "code",
      "metadata": {
        "id": "MZVNxP8hlQVf",
        "colab_type": "code",
        "colab": {}
      },
      "source": [
        "# Conditional Expressions - statement1 if expression else statement2\n",
        "dog_lover = True\n",
        "\n",
        "buy_a_dog = \"yes\" if dog_lover else \"Nope\""
      ],
      "execution_count": 0,
      "outputs": []
    },
    {
      "cell_type": "code",
      "metadata": {
        "id": "m_-H5ydQmNHU",
        "colab_type": "code",
        "outputId": "1abac2d0-643d-41a0-87f3-cdf4adcc5315",
        "colab": {
          "base_uri": "https://localhost:8080/",
          "height": 34
        }
      },
      "source": [
        "buy_a_dog"
      ],
      "execution_count": 0,
      "outputs": [
        {
          "output_type": "execute_result",
          "data": {
            "text/plain": [
              "'yes'"
            ]
          },
          "metadata": {
            "tags": []
          },
          "execution_count": 6
        }
      ]
    },
    {
      "cell_type": "code",
      "metadata": {
        "id": "ml7s9WPHmPwE",
        "colab_type": "code",
        "outputId": "681258ce-1505-42ae-90c4-75ed9a3dfb41",
        "colab": {
          "base_uri": "https://localhost:8080/",
          "height": 34
        }
      },
      "source": [
        "# Pass statement\n",
        "cals_consumed = 1500\n",
        "cals_in_item = 100\n",
        "total_cals = cals_consumed + cals_in_item\n",
        "print(f\" Total Cals: {total_cals}\")\n",
        "\n",
        "if total_cals >= 1600:\n",
        "  pass # example of using pass\n",
        "\n",
        "elif total_cals < 300:\n",
        "  print(\"Eat more!\")  \n",
        "\n",
        "else:                  \n",
        "  print(\"Sure eat it\")"
      ],
      "execution_count": 0,
      "outputs": [
        {
          "output_type": "stream",
          "text": [
            " Total Cals: 1600\n"
          ],
          "name": "stdout"
        }
      ]
    },
    {
      "cell_type": "code",
      "metadata": {
        "id": "1vK7fopgoCh7",
        "colab_type": "code",
        "colab": {}
      },
      "source": [
        ""
      ],
      "execution_count": 0,
      "outputs": []
    }
  ]
}