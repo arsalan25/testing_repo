{
  "nbformat": 4,
  "nbformat_minor": 0,
  "metadata": {
    "colab": {
      "name": "DTLA_Tacos",
      "provenance": [],
      "authorship_tag": "ABX9TyMRd4wFsdAlk2zd6mKgzYAH"
    },
    "kernelspec": {
      "name": "python3",
      "display_name": "Python 3"
    }
  },
  "cells": [
    {
      "cell_type": "code",
      "metadata": {
        "id": "RbiFLZsQ_xfD",
        "colab_type": "code",
        "colab": {}
      },
      "source": [
        "# Scrape and analyze coffee shops around DTLA\n",
        "import requests as r # To work with Yelp's API\n",
        "import json # To turn response into iterable data\n",
        "import pandas as pd # For data preparation\n",
        "from itertools import product # To expand search parameters\n",
        "import seaborn as sns # For visualizations\n",
        "import matplotlib.pyplot as plt # For visualizations"
      ],
      "execution_count": 0,
      "outputs": []
    },
    {
      "cell_type": "code",
      "metadata": {
        "id": "D8XVDLD2DsxV",
        "colab_type": "code",
        "colab": {}
      },
      "source": [
        "# Set up key ingredients for Yelp's API web request\n",
        "# Documentation: https://www.yelp.com/developers/documentation/v3/business_search\n",
        "url = ' https://api.yelp.com/v3/businesses/search'\n",
        "key = 'key'\n",
        "headers = {\n",
        "    'Authorization': 'Bearer %s' % key\n",
        "}"
      ],
      "execution_count": 0,
      "outputs": []
    },
    {
      "cell_type": "code",
      "metadata": {
        "id": "enxgonjaET59",
        "colab_type": "code",
        "colab": {
          "base_uri": "https://localhost:8080/",
          "height": 54
        },
        "outputId": "928520b8-4d1a-4d68-b79d-d7afd84b8846"
      },
      "source": [
        "# Get first 50 Yelp results for tacos\n",
        "# Set search criteria\n",
        "url_params = {\n",
        "    'location': '1200 W 7th Street, Los Angeles 90017',\n",
        "    'limit': 50,\n",
        "    'term': 'tacos',\n",
        "    'radius': 804,\n",
        "    'offset': 0\n",
        "}\n",
        "\n",
        "# Prepare and show response\n",
        "response = r.request('GET', url, headers=headers, params=url_params)\n",
        "data = response.json() \n",
        "print(data)"
      ],
      "execution_count": 68,
      "outputs": [
        {
          "output_type": "stream",
          "text": [
            "{'businesses': [{'id': '008auoAIybTFWng7M8D3Gw', 'alias': 'fernandos-taco-los-angeles', 'name': \"Fernando's Taco\", 'image_url': 'https://s3-media1.fl.yelpcdn.com/bphoto/2flA6pngbbkMI_ZOBHqRzw/o.jpg', 'is_closed': False, 'url': 'https://www.yelp.com/biz/fernandos-taco-los-angeles?adjust_creative=bdJBYIrivjkgp_4AV--1ew&utm_campaign=yelp_api_v3&utm_medium=api_v3_business_search&utm_source=bdJBYIrivjkgp_4AV--1ew', 'review_count': 137, 'categories': [{'alias': 'mexican', 'title': 'Mexican'}], 'rating': 4.0, 'coordinates': {'latitude': 34.0452965202771, 'longitude': -118.264306058722}, 'transactions': [], 'price': '$', 'location': {'address1': '815 W Olympic Blvd', 'address2': '', 'address3': '', 'city': 'Los Angeles', 'zip_code': '90015', 'country': 'US', 'state': 'CA', 'display_address': ['815 W Olympic Blvd', 'Los Angeles, CA 90015']}, 'phone': '+12134897615', 'display_phone': '(213) 489-7615', 'distance': 672.8857751119435}, {'id': 'gZEUgEzxGosPd-qGQGNXBQ', 'alias': 'la-guadalupana-los-angeles-3', 'name': 'La Guadalupana', 'image_url': 'https://s3-media4.fl.yelpcdn.com/bphoto/qAOdE3Jb3DpKVYhM77laSQ/o.jpg', 'is_closed': False, 'url': 'https://www.yelp.com/biz/la-guadalupana-los-angeles-3?adjust_creative=bdJBYIrivjkgp_4AV--1ew&utm_campaign=yelp_api_v3&utm_medium=api_v3_business_search&utm_source=bdJBYIrivjkgp_4AV--1ew', 'review_count': 46, 'categories': [{'alias': 'mexican', 'title': 'Mexican'}], 'rating': 4.0, 'coordinates': {'latitude': 34.0563267, 'longitude': -118.2679035}, 'transactions': ['delivery', 'pickup'], 'price': '$', 'location': {'address1': '1422 W 6th St', 'address2': '', 'address3': '', 'city': 'Los Angeles', 'zip_code': '90017', 'country': 'US', 'state': 'CA', 'display_address': ['1422 W 6th St', 'Los Angeles, CA 90017']}, 'phone': '+12134832973', 'display_phone': '(213) 483-2973', 'distance': 591.6805750255251}, {'id': 'XFGCSKSrt4Mwk2hAhtpQNA', 'alias': 'veranda-los-angeles', 'name': 'Veranda', 'image_url': 'https://s3-media2.fl.yelpcdn.com/bphoto/n6YkxNj9R2ZuqpU8Zspnyw/o.jpg', 'is_closed': False, 'url': 'https://www.yelp.com/biz/veranda-los-angeles?adjust_creative=bdJBYIrivjkgp_4AV--1ew&utm_campaign=yelp_api_v3&utm_medium=api_v3_business_search&utm_source=bdJBYIrivjkgp_4AV--1ew', 'review_count': 112, 'categories': [{'alias': 'mexican', 'title': 'Mexican'}], 'rating': 4.0, 'coordinates': {'latitude': 34.045529, 'longitude': -118.264003}, 'transactions': [], 'price': '$$', 'location': {'address1': '939 S Figueroa St', 'address2': 'Ste 500', 'address3': '', 'city': 'Los Angeles', 'zip_code': '90015', 'country': 'US', 'state': 'CA', 'display_address': ['939 S Figueroa St', 'Ste 500', 'Los Angeles, CA 90015']}, 'phone': '+12136603032', 'display_phone': '(213) 660-3032', 'distance': 653.9305334378614}, {'id': 'lFYP-es6W-gb3FwRkA67EQ', 'alias': 'east-los-angeles-tacos-los-angeles', 'name': 'East Los Angeles Tacos', 'image_url': 'https://s3-media3.fl.yelpcdn.com/bphoto/iaRCo76JsnDiQBZH5QC4sg/o.jpg', 'is_closed': False, 'url': 'https://www.yelp.com/biz/east-los-angeles-tacos-los-angeles?adjust_creative=bdJBYIrivjkgp_4AV--1ew&utm_campaign=yelp_api_v3&utm_medium=api_v3_business_search&utm_source=bdJBYIrivjkgp_4AV--1ew', 'review_count': 12, 'categories': [{'alias': 'foodtrucks', 'title': 'Food Trucks'}, {'alias': 'mexican', 'title': 'Mexican'}], 'rating': 4.0, 'coordinates': {'latitude': 34.046246, 'longitude': -118.26696}, 'transactions': [], 'price': '$', 'location': {'address1': '953 Georgia St', 'address2': None, 'address3': '', 'city': 'Los Angeles', 'zip_code': '90015', 'country': 'US', 'state': 'CA', 'display_address': ['953 Georgia St', 'Los Angeles, CA 90015']}, 'phone': '+18553528226', 'display_phone': '(855) 352-8226', 'distance': 565.080164194382}, {'id': 'ZBYpBnWlCFiex1GSHylyZg', 'alias': 'el-tejano-los-angeles-3', 'name': 'El Tejano', 'image_url': 'https://s3-media4.fl.yelpcdn.com/bphoto/hEqKMYj6wTlVlX77O2YTDA/o.jpg', 'is_closed': False, 'url': 'https://www.yelp.com/biz/el-tejano-los-angeles-3?adjust_creative=bdJBYIrivjkgp_4AV--1ew&utm_campaign=yelp_api_v3&utm_medium=api_v3_business_search&utm_source=bdJBYIrivjkgp_4AV--1ew', 'review_count': 18, 'categories': [{'alias': 'tex-mex', 'title': 'Tex-Mex'}, {'alias': 'sportsbars', 'title': 'Sports Bars'}], 'rating': 4.0, 'coordinates': {'latitude': 34.045356, 'longitude': -118.259012}, 'transactions': ['delivery', 'pickup'], 'location': {'address1': '801 S Grand Ave', 'address2': None, 'address3': '', 'city': 'Los Angeles', 'zip_code': '90017', 'country': 'US', 'state': 'CA', 'display_address': ['801 S Grand Ave', 'Los Angeles, CA 90017']}, 'phone': '+12136292449', 'display_phone': '(213) 629-2449', 'distance': 901.6005967264853}, {'id': 'X0uDdyc0qh1wRwi6STzC2Q', 'alias': 'el-charro-restaurant-los-angeles', 'name': 'El Charro Restaurant', 'image_url': 'https://s3-media2.fl.yelpcdn.com/bphoto/T7YL0RyAgRQ94yXiSqfWtQ/o.jpg', 'is_closed': False, 'url': 'https://www.yelp.com/biz/el-charro-restaurant-los-angeles?adjust_creative=bdJBYIrivjkgp_4AV--1ew&utm_campaign=yelp_api_v3&utm_medium=api_v3_business_search&utm_source=bdJBYIrivjkgp_4AV--1ew', 'review_count': 112, 'categories': [{'alias': 'mexican', 'title': 'Mexican'}], 'rating': 4.0, 'coordinates': {'latitude': 34.0572875, 'longitude': -118.2694768}, 'transactions': ['delivery', 'pickup'], 'price': '$', 'location': {'address1': '1621 W 6th St', 'address2': '', 'address3': '', 'city': 'Los Angeles', 'zip_code': '90017', 'country': 'US', 'state': 'CA', 'display_address': ['1621 W 6th St', 'Los Angeles, CA 90017']}, 'phone': '+12132920668', 'display_phone': '(213) 292-0668', 'distance': 749.9117734080651}, {'id': 'ON7yVtrq6MCjBLrbZlXCxw', 'alias': 'tacos-y-papas-los-angeles-2', 'name': 'Tacos y Papas', 'image_url': 'https://s3-media1.fl.yelpcdn.com/bphoto/nwrtcYPJvGdhC8ngBSWxJw/o.jpg', 'is_closed': False, 'url': 'https://www.yelp.com/biz/tacos-y-papas-los-angeles-2?adjust_creative=bdJBYIrivjkgp_4AV--1ew&utm_campaign=yelp_api_v3&utm_medium=api_v3_business_search&utm_source=bdJBYIrivjkgp_4AV--1ew', 'review_count': 4, 'categories': [{'alias': 'tacos', 'title': 'Tacos'}], 'rating': 5.0, 'coordinates': {'latitude': 34.0463998817235, 'longitude': -118.272158056498}, 'transactions': [], 'price': '$', 'location': {'address1': '1099 Albany St', 'address2': '', 'address3': None, 'city': 'Los Angeles', 'zip_code': '90015', 'country': 'US', 'state': 'CA', 'display_address': ['1099 Albany St', 'Los Angeles, CA 90015']}, 'phone': '', 'display_phone': '', 'distance': 797.0231948419981}, {'id': 'C4n6YHOJHAn8EK_mvdRHtw', 'alias': 'tacos-el-gallito-truck-los-angeles-3', 'name': 'Tacos El Gallito Truck', 'image_url': 'https://s3-media1.fl.yelpcdn.com/bphoto/6X0j7tVyvgesLzMKueRung/o.jpg', 'is_closed': False, 'url': 'https://www.yelp.com/biz/tacos-el-gallito-truck-los-angeles-3?adjust_creative=bdJBYIrivjkgp_4AV--1ew&utm_campaign=yelp_api_v3&utm_medium=api_v3_business_search&utm_source=bdJBYIrivjkgp_4AV--1ew', 'review_count': 13, 'categories': [{'alias': 'mexican', 'title': 'Mexican'}], 'rating': 4.0, 'coordinates': {'latitude': 34.0459885300524, 'longitude': -118.266952619158}, 'transactions': [], 'price': '$', 'location': {'address1': '917 W Olympic Blvd', 'address2': '', 'address3': '', 'city': 'Los Angeles', 'zip_code': '90015', 'country': 'US', 'state': 'CA', 'display_address': ['917 W Olympic Blvd', 'Los Angeles, CA 90015']}, 'phone': '', 'display_phone': '', 'distance': 592.6601610735812}, {'id': 'SF9e0nmx70hYcIj7QyuGNg', 'alias': 'wild-dogs-grill-los-angeles', 'name': 'Wild Dogs Grill', 'image_url': 'https://s3-media1.fl.yelpcdn.com/bphoto/h3eMytvv4GXlWkjIU8so1Q/o.jpg', 'is_closed': False, 'url': 'https://www.yelp.com/biz/wild-dogs-grill-los-angeles?adjust_creative=bdJBYIrivjkgp_4AV--1ew&utm_campaign=yelp_api_v3&utm_medium=api_v3_business_search&utm_source=bdJBYIrivjkgp_4AV--1ew', 'review_count': 25, 'categories': [{'alias': 'hotdog', 'title': 'Hot Dogs'}, {'alias': 'foodtrucks', 'title': 'Food Trucks'}, {'alias': 'tacos', 'title': 'Tacos'}], 'rating': 4.0, 'coordinates': {'latitude': 34.048791, 'longitude': -118.2594084}, 'transactions': [], 'location': {'address1': '808 W 7th St', 'address2': None, 'address3': '', 'city': 'Los Angeles', 'zip_code': '90017', 'country': 'US', 'state': 'CA', 'display_address': ['808 W 7th St', 'Los Angeles, CA 90017']}, 'phone': '+13236749267', 'display_phone': '(323) 674-9267', 'distance': 644.9938044998133}, {'id': '0hZ9GIgr7ZOby-2N7WG4fQ', 'alias': 'cafe-teragram-los-angeles', 'name': 'Cafe Teragram', 'image_url': 'https://s3-media3.fl.yelpcdn.com/bphoto/0QRnJjauSJbEHz9bsO3COw/o.jpg', 'is_closed': False, 'url': 'https://www.yelp.com/biz/cafe-teragram-los-angeles?adjust_creative=bdJBYIrivjkgp_4AV--1ew&utm_campaign=yelp_api_v3&utm_medium=api_v3_business_search&utm_source=bdJBYIrivjkgp_4AV--1ew', 'review_count': 277, 'categories': [{'alias': 'bars', 'title': 'Bars'}, {'alias': 'newamerican', 'title': 'American (New)'}, {'alias': 'breakfast_brunch', 'title': 'Breakfast & Brunch'}], 'rating': 4.5, 'coordinates': {'latitude': 34.0518905675174, 'longitude': -118.266751163754}, 'transactions': ['delivery', 'pickup'], 'price': '$$', 'location': {'address1': '1234 W 7th St', 'address2': '', 'address3': 'The Teragram Ballroom', 'city': 'Los Angeles', 'zip_code': '90017', 'country': 'US', 'state': 'CA', 'display_address': ['1234 W 7th St', 'The Teragram Ballroom', 'Los Angeles, CA 90017']}, 'phone': '+12136899103', 'display_phone': '(213) 689-9103', 'distance': 117.27333524349301}, {'id': 'Mi_6YlF1HpIC5csN8BGjRA', 'alias': 'ocho-mexican-grill-los-angeles-3', 'name': 'Ocho Mexican Grill', 'image_url': 'https://s3-media1.fl.yelpcdn.com/bphoto/CptLqJ3l62FnaxSF33i7gg/o.jpg', 'is_closed': False, 'url': 'https://www.yelp.com/biz/ocho-mexican-grill-los-angeles-3?adjust_creative=bdJBYIrivjkgp_4AV--1ew&utm_campaign=yelp_api_v3&utm_medium=api_v3_business_search&utm_source=bdJBYIrivjkgp_4AV--1ew', 'review_count': 5, 'categories': [{'alias': 'mexican', 'title': 'Mexican'}], 'rating': 3.5, 'coordinates': {'latitude': 34.04877, 'longitude': -118.26077}, 'transactions': ['delivery', 'pickup'], 'location': {'address1': '735 S Figueroa St', 'address2': '', 'address3': None, 'city': 'Los Angeles', 'zip_code': '90017', 'country': 'US', 'state': 'CA', 'display_address': ['735 S Figueroa St', 'Los Angeles, CA 90017']}, 'phone': '', 'display_phone': '', 'distance': 529.0235119453588}, {'id': 'fAfCGlZGzO3uGeopvcIGzA', 'alias': 'casa-9-mexican-food-los-angeles-2', 'name': 'Casa 9 Mexican Food', 'image_url': 'https://s3-media3.fl.yelpcdn.com/bphoto/Hh920UkPvc7Llp0ddTZM7g/o.jpg', 'is_closed': False, 'url': 'https://www.yelp.com/biz/casa-9-mexican-food-los-angeles-2?adjust_creative=bdJBYIrivjkgp_4AV--1ew&utm_campaign=yelp_api_v3&utm_medium=api_v3_business_search&utm_source=bdJBYIrivjkgp_4AV--1ew', 'review_count': 15, 'categories': [{'alias': 'catering', 'title': 'Caterers'}], 'rating': 4.0, 'coordinates': {'latitude': 34.05308, 'longitude': -118.26594}, 'transactions': ['delivery', 'pickup'], 'location': {'address1': '1234 Wilshire Blvd', 'address2': None, 'address3': '', 'city': 'Los Angeles', 'zip_code': '90017', 'country': 'US', 'state': 'CA', 'display_address': ['1234 Wilshire Blvd', 'Los Angeles, CA 90017']}, 'phone': '+12139358247', 'display_phone': '(213) 935-8247', 'distance': 254.84537976298117}, {'id': 'BBISsVQ-GMYr2emuWgtDPw', 'alias': 'vurger-guyz-los-angeles', 'name': 'Vurger Guyz', 'image_url': 'https://s3-media2.fl.yelpcdn.com/bphoto/CeTM8yMmSy7z5lD6EunSAw/o.jpg', 'is_closed': False, 'url': 'https://www.yelp.com/biz/vurger-guyz-los-angeles?adjust_creative=bdJBYIrivjkgp_4AV--1ew&utm_campaign=yelp_api_v3&utm_medium=api_v3_business_search&utm_source=bdJBYIrivjkgp_4AV--1ew', 'review_count': 42, 'categories': [{'alias': 'foodtrucks', 'title': 'Food Trucks'}, {'alias': 'vegan', 'title': 'Vegan'}, {'alias': 'catering', 'title': 'Caterers'}], 'rating': 4.5, 'coordinates': {'latitude': 34.05289, 'longitude': -118.26351}, 'transactions': [], 'location': {'address1': None, 'address2': None, 'address3': '', 'city': 'Los Angeles', 'zip_code': '90017', 'country': 'US', 'state': 'CA', 'display_address': ['Los Angeles, CA 90017']}, 'phone': '+12132981724', 'display_phone': '(213) 298-1724', 'distance': 377.48154618638324}, {'id': 'bmZJURPplezNsJrudYGX0w', 'alias': 'la-parrilla-los-angeles-5', 'name': 'La Parrilla', 'image_url': 'https://s3-media2.fl.yelpcdn.com/bphoto/9OcJltN2jNU2ThMuvy2uJg/o.jpg', 'is_closed': False, 'url': 'https://www.yelp.com/biz/la-parrilla-los-angeles-5?adjust_creative=bdJBYIrivjkgp_4AV--1ew&utm_campaign=yelp_api_v3&utm_medium=api_v3_business_search&utm_source=bdJBYIrivjkgp_4AV--1ew', 'review_count': 297, 'categories': [{'alias': 'mexican', 'title': 'Mexican'}], 'rating': 3.0, 'coordinates': {'latitude': 34.05364, 'longitude': -118.26697}, 'transactions': [], 'price': '$$', 'location': {'address1': '1300 Wilshire Blvd', 'address2': '', 'address3': '', 'city': 'Los Angeles', 'zip_code': '90017', 'country': 'US', 'state': 'CA', 'display_address': ['1300 Wilshire Blvd', 'Los Angeles, CA 90017']}, 'phone': '+12133534980', 'display_phone': '(213) 353-4980', 'distance': 296.2767673914526}, {'id': 'OKd8kgb2uu-_4GfY5SuMZQ', 'alias': 'noemi-and-fita-los-angeles', 'name': 'Noemi & Fita', 'image_url': '', 'is_closed': False, 'url': 'https://www.yelp.com/biz/noemi-and-fita-los-angeles?adjust_creative=bdJBYIrivjkgp_4AV--1ew&utm_campaign=yelp_api_v3&utm_medium=api_v3_business_search&utm_source=bdJBYIrivjkgp_4AV--1ew', 'review_count': 1, 'categories': [{'alias': 'streetvendors', 'title': 'Street Vendors'}], 'rating': 4.0, 'coordinates': {'latitude': 34.0531566739082, 'longitude': -118.265101835132}, 'transactions': [], 'price': '$', 'location': {'address1': '1207 Wilshire Blvd', 'address2': '', 'address3': '', 'city': 'Los Angeles', 'zip_code': '90017', 'country': 'US', 'state': 'CA', 'display_address': ['1207 Wilshire Blvd', 'Los Angeles, CA 90017']}, 'phone': '+13233137802', 'display_phone': '(323) 313-7802', 'distance': 219.01435480298434}, {'id': 'LaDvCou_5_tl7l1Ss3wFNw', 'alias': 'cevicheria-las-olas-los-angeles-ca', 'name': 'Cevicheria Las Olas', 'image_url': 'https://s3-media3.fl.yelpcdn.com/bphoto/IMsYvgC--9GYMvEeVp-TTw/o.jpg', 'is_closed': False, 'url': 'https://www.yelp.com/biz/cevicheria-las-olas-los-angeles-ca?adjust_creative=bdJBYIrivjkgp_4AV--1ew&utm_campaign=yelp_api_v3&utm_medium=api_v3_business_search&utm_source=bdJBYIrivjkgp_4AV--1ew', 'review_count': 7, 'categories': [{'alias': 'foodtrucks', 'title': 'Food Trucks'}, {'alias': 'seafood', 'title': 'Seafood'}], 'rating': 4.5, 'coordinates': {'latitude': 34.0457214, 'longitude': -118.2626597}, 'transactions': [], 'location': {'address1': '900 S Figueroa St', 'address2': None, 'address3': None, 'city': 'Los Angeles, CA', 'zip_code': '90015', 'country': 'US', 'state': 'CA', 'display_address': ['900 S Figueroa St', 'Los Angeles, CA, CA 90015']}, 'phone': '+13232030094', 'display_phone': '(323) 203-0094', 'distance': 675.5838072428825}, {'id': '-Qmw4Gyv8wId6Uw5sOzAFg', 'alias': 'la-cosina-los-angeles-3', 'name': 'LA-Cosina', 'image_url': 'https://s3-media1.fl.yelpcdn.com/bphoto/icEcPxIdmQc1VCg32v9BjA/o.jpg', 'is_closed': False, 'url': 'https://www.yelp.com/biz/la-cosina-los-angeles-3?adjust_creative=bdJBYIrivjkgp_4AV--1ew&utm_campaign=yelp_api_v3&utm_medium=api_v3_business_search&utm_source=bdJBYIrivjkgp_4AV--1ew', 'review_count': 1, 'categories': [{'alias': 'personalchefs', 'title': 'Personal Chefs'}, {'alias': 'fooddeliveryservices', 'title': 'Food Delivery Services'}, {'alias': 'catering', 'title': 'Caterers'}], 'rating': 5.0, 'coordinates': {'latitude': 34.0523, 'longitude': -118.26653}, 'transactions': [], 'location': {'address1': '', 'address2': None, 'address3': '', 'city': 'Los Angeles', 'zip_code': '90017', 'country': 'US', 'state': 'CA', 'display_address': ['Los Angeles, CA 90017']}, 'phone': '+12134449687', 'display_phone': '(213) 444-9687', 'distance': 377.48154618638324}, {'id': '0JyqNcM8f5m2QskYcNOUrw', 'alias': 'rosa-mexicano-los-angeles', 'name': 'Rosa Mexicano', 'image_url': 'https://s3-media2.fl.yelpcdn.com/bphoto/rlk4UGJoyDGs-xWh4f5FgQ/o.jpg', 'is_closed': False, 'url': 'https://www.yelp.com/biz/rosa-mexicano-los-angeles?adjust_creative=bdJBYIrivjkgp_4AV--1ew&utm_campaign=yelp_api_v3&utm_medium=api_v3_business_search&utm_source=bdJBYIrivjkgp_4AV--1ew', 'review_count': 1403, 'categories': [{'alias': 'mexican', 'title': 'Mexican'}], 'rating': 3.0, 'coordinates': {'latitude': 34.0449503798541, 'longitude': -118.264933649123}, 'transactions': ['pickup'], 'price': '$$', 'location': {'address1': '800 W Olympic Blvd', 'address2': '', 'address3': '', 'city': 'Los Angeles', 'zip_code': '90015', 'country': 'US', 'state': 'CA', 'display_address': ['800 W Olympic Blvd', 'Los Angeles, CA 90015']}, 'phone': '+12137460001', 'display_phone': '(213) 746-0001', 'distance': 702.0267686970059}, {'id': 'sTbFnHdAK7AmDxRGlXt63A', 'alias': 'rhemas-family-fusion-restaurant-los-angeles', 'name': 'Rhemas Family Fusion Restaurant', 'image_url': 'https://s3-media3.fl.yelpcdn.com/bphoto/6Bd0KTDSWbo_CGfJZ_sjRw/o.jpg', 'is_closed': False, 'url': 'https://www.yelp.com/biz/rhemas-family-fusion-restaurant-los-angeles?adjust_creative=bdJBYIrivjkgp_4AV--1ew&utm_campaign=yelp_api_v3&utm_medium=api_v3_business_search&utm_source=bdJBYIrivjkgp_4AV--1ew', 'review_count': 1, 'categories': [{'alias': 'newamerican', 'title': 'American (New)'}, {'alias': 'latin', 'title': 'Latin American'}, {'alias': 'mexican', 'title': 'Mexican'}], 'rating': 5.0, 'coordinates': {'latitude': 34.05677, 'longitude': -118.26967}, 'transactions': [], 'location': {'address1': '607 S Union Ave', 'address2': None, 'address3': '', 'city': 'Los Angeles', 'zip_code': '90017', 'country': 'US', 'state': 'CA', 'display_address': ['607 S Union Ave', 'Los Angeles, CA 90017']}, 'phone': '+12134848727', 'display_phone': '(213) 484-8727', 'distance': 709.7024705881288}, {'id': 'u9OBrsQG_mu7pzhq0EGXjw', 'alias': 'golfo-de-fonseca-los-angeles', 'name': 'Golfo De Fonseca', 'image_url': 'https://s3-media2.fl.yelpcdn.com/bphoto/zQ2_jUixJRAYQCo-uAG9jA/o.jpg', 'is_closed': False, 'url': 'https://www.yelp.com/biz/golfo-de-fonseca-los-angeles?adjust_creative=bdJBYIrivjkgp_4AV--1ew&utm_campaign=yelp_api_v3&utm_medium=api_v3_business_search&utm_source=bdJBYIrivjkgp_4AV--1ew', 'review_count': 24, 'categories': [{'alias': 'salvadoran', 'title': 'Salvadoran'}], 'rating': 4.0, 'coordinates': {'latitude': 34.0570068359375, 'longitude': -118.26993560791}, 'transactions': ['delivery', 'pickup'], 'price': '$', 'location': {'address1': '1618 W 6th St', 'address2': '', 'address3': '', 'city': 'Los Angeles', 'zip_code': '90017', 'country': 'US', 'state': 'CA', 'display_address': ['1618 W 6th St', 'Los Angeles, CA 90017']}, 'phone': '+12134837245', 'display_phone': '(213) 483-7245', 'distance': 752.1704896707762}, {'id': 'DXfNwe-m3ifdkaoSAq7CEA', 'alias': 'el-panal-bakery-and-restaurant-los-angeles', 'name': 'El Panal Bakery and Restaurant', 'image_url': '', 'is_closed': False, 'url': 'https://www.yelp.com/biz/el-panal-bakery-and-restaurant-los-angeles?adjust_creative=bdJBYIrivjkgp_4AV--1ew&utm_campaign=yelp_api_v3&utm_medium=api_v3_business_search&utm_source=bdJBYIrivjkgp_4AV--1ew', 'review_count': 3, 'categories': [{'alias': 'latin', 'title': 'Latin American'}, {'alias': 'bakeries', 'title': 'Bakeries'}], 'rating': 4.0, 'coordinates': {'latitude': 34.0531425476074, 'longitude': -118.270156860352}, 'transactions': [], 'location': {'address1': '1520 W 7th St', 'address2': None, 'address3': '', 'city': 'Los Angeles', 'zip_code': '90017', 'country': 'US', 'state': 'CA', 'display_address': ['1520 W 7th St', 'Los Angeles, CA 90017']}, 'phone': '+12134830656', 'display_phone': '(213) 483-0656', 'distance': 457.42717386691567}, {'id': '4CYzFBkzjhxHzZ5RoTx30A', 'alias': 'cilantro-mexican-grill-los-angeles-4', 'name': 'Cilantro Mexican Grill', 'image_url': 'https://s3-media1.fl.yelpcdn.com/bphoto/XfrZ6liESqdagutlsv3qSw/o.jpg', 'is_closed': False, 'url': 'https://www.yelp.com/biz/cilantro-mexican-grill-los-angeles-4?adjust_creative=bdJBYIrivjkgp_4AV--1ew&utm_campaign=yelp_api_v3&utm_medium=api_v3_business_search&utm_source=bdJBYIrivjkgp_4AV--1ew', 'review_count': 18, 'categories': [{'alias': 'mexican', 'title': 'Mexican'}], 'rating': 3.0, 'coordinates': {'latitude': 34.0473, 'longitude': -118.26129}, 'transactions': ['delivery', 'pickup'], 'location': {'address1': '816 S Figueroa St', 'address2': '', 'address3': None, 'city': 'Los Angeles', 'zip_code': '90017', 'country': 'US', 'state': 'CA', 'display_address': ['816 S Figueroa St', 'Los Angeles, CA 90017']}, 'phone': '', 'display_phone': '', 'distance': 598.7112947057238}, {'id': 'M14UWM9ClK8NfJgOBr0rlg', 'alias': 'chipotle-mexican-grill-los-angeles-58', 'name': 'Chipotle Mexican Grill', 'image_url': 'https://s3-media3.fl.yelpcdn.com/bphoto/r3C1o3rjRWjNLd9LALG6gg/o.jpg', 'is_closed': False, 'url': 'https://www.yelp.com/biz/chipotle-mexican-grill-los-angeles-58?adjust_creative=bdJBYIrivjkgp_4AV--1ew&utm_campaign=yelp_api_v3&utm_medium=api_v3_business_search&utm_source=bdJBYIrivjkgp_4AV--1ew', 'review_count': 31, 'categories': [{'alias': 'mexican', 'title': 'Mexican'}, {'alias': 'hotdogs', 'title': 'Fast Food'}], 'rating': 2.0, 'coordinates': {'latitude': 34.0543205, 'longitude': -118.2632069}, 'transactions': ['delivery'], 'price': '$', 'location': {'address1': '1122 W 6th St', 'address2': 'Ste 101', 'address3': None, 'city': 'Los Angeles', 'zip_code': '90017', 'country': 'US', 'state': 'CA', 'display_address': ['1122 W 6th St', 'Ste 101', 'Los Angeles, CA 90017']}, 'phone': '+12132509277', 'display_phone': '(213) 250-9277', 'distance': 416.884208128697}, {'id': '8GoVMJbBmHH-JBKW8RzgcA', 'alias': 'fig-at-7th-farmers-market-los-angeles', 'name': \"Fig at 7th Farmer's Market\", 'image_url': 'https://s3-media3.fl.yelpcdn.com/bphoto/1Uj0bz-Qgb32hPAHvX3l0A/o.jpg', 'is_closed': False, 'url': 'https://www.yelp.com/biz/fig-at-7th-farmers-market-los-angeles?adjust_creative=bdJBYIrivjkgp_4AV--1ew&utm_campaign=yelp_api_v3&utm_medium=api_v3_business_search&utm_source=bdJBYIrivjkgp_4AV--1ew', 'review_count': 42, 'categories': [{'alias': 'farmersmarket', 'title': 'Farmers Market'}], 'rating': 4.0, 'coordinates': {'latitude': 34.053871, 'longitude': -118.262491}, 'transactions': [], 'price': '$', 'location': {'address1': '735 S Figueroa St', 'address2': '', 'address3': '', 'city': 'Los Angeles', 'zip_code': '90017', 'country': 'US', 'state': 'CA', 'display_address': ['735 S Figueroa St', 'Los Angeles, CA 90017']}, 'phone': '+18185918161', 'display_phone': '(818) 591-8161', 'distance': 421.07390868967184}, {'id': '6kvWWkoL0dWOEmFh2ui-vQ', 'alias': 'seasalt-fish-grill-los-angeles-3', 'name': 'Seasalt Fish Grill', 'image_url': 'https://s3-media4.fl.yelpcdn.com/bphoto/P3Z5vGOENJRt-_hZdldrcA/o.jpg', 'is_closed': False, 'url': 'https://www.yelp.com/biz/seasalt-fish-grill-los-angeles-3?adjust_creative=bdJBYIrivjkgp_4AV--1ew&utm_campaign=yelp_api_v3&utm_medium=api_v3_business_search&utm_source=bdJBYIrivjkgp_4AV--1ew', 'review_count': 790, 'categories': [{'alias': 'seafood', 'title': 'Seafood'}, {'alias': 'hawaiian', 'title': 'Hawaiian'}], 'rating': 4.0, 'coordinates': {'latitude': 34.0487526, 'longitude': -118.2591268}, 'transactions': ['delivery', 'pickup'], 'price': '$$', 'location': {'address1': '812 W 7th St', 'address2': '', 'address3': '', 'city': 'Los Angeles', 'zip_code': '90017', 'country': 'US', 'state': 'CA', 'display_address': ['812 W 7th St', 'Los Angeles, CA 90017']}, 'phone': '+12132435700', 'display_phone': '(213) 243-5700', 'distance': 646.7066582359197}, {'id': 'xk9bWN3uAevlHhYLMEv4kg', 'alias': 'todoriko-grill-hot-dogs-los-angeles', 'name': 'Todoriko grill hot dogs', 'image_url': 'https://s3-media3.fl.yelpcdn.com/bphoto/E4uft2dQ9x7pOY-btLWGCQ/o.jpg', 'is_closed': False, 'url': 'https://www.yelp.com/biz/todoriko-grill-hot-dogs-los-angeles?adjust_creative=bdJBYIrivjkgp_4AV--1ew&utm_campaign=yelp_api_v3&utm_medium=api_v3_business_search&utm_source=bdJBYIrivjkgp_4AV--1ew', 'review_count': 2, 'categories': [{'alias': 'foodtrucks', 'title': 'Food Trucks'}], 'rating': 3.5, 'coordinates': {'latitude': 34.04567, 'longitude': -118.265182}, 'transactions': [], 'price': '$', 'location': {'address1': '944 Francisco St', 'address2': None, 'address3': '', 'city': 'Los Angeles', 'zip_code': '90015', 'country': 'US', 'state': 'CA', 'display_address': ['944 Francisco St', 'Los Angeles, CA 90015']}, 'phone': '', 'display_phone': '', 'distance': 620.1698540013431}, {'id': 'hERxbudMM_AjSfrDiaMowA', 'alias': 'fairgrounds-coffee-and-tea-los-angeles-4', 'name': 'Fairgrounds Coffee and Tea', 'image_url': 'https://s3-media2.fl.yelpcdn.com/bphoto/ZkUehuQR9xSIVEev4NuOlA/o.jpg', 'is_closed': False, 'url': 'https://www.yelp.com/biz/fairgrounds-coffee-and-tea-los-angeles-4?adjust_creative=bdJBYIrivjkgp_4AV--1ew&utm_campaign=yelp_api_v3&utm_medium=api_v3_business_search&utm_source=bdJBYIrivjkgp_4AV--1ew', 'review_count': 68, 'categories': [{'alias': 'coffee', 'title': 'Coffee & Tea'}], 'rating': 4.0, 'coordinates': {'latitude': 34.05181, 'longitude': -118.26785}, 'transactions': [], 'price': '$$', 'location': {'address1': '1256 W 7th St', 'address2': None, 'address3': '', 'city': 'Los Angeles', 'zip_code': '90017', 'country': 'US', 'state': 'CA', 'display_address': ['1256 W 7th St', 'Los Angeles, CA 90017']}, 'phone': '+12133780382', 'display_phone': '(213) 378-0382', 'distance': 186.90388849037126}, {'id': 'q1dk494tsNwgQhWA1ObiPw', 'alias': 'metropole-bar-and-kitchen-los-angeles', 'name': 'Metropole Bar & Kitchen', 'image_url': 'https://s3-media1.fl.yelpcdn.com/bphoto/NA0ZRu_bj7y4UZ4Ud0JN1A/o.jpg', 'is_closed': False, 'url': 'https://www.yelp.com/biz/metropole-bar-and-kitchen-los-angeles?adjust_creative=bdJBYIrivjkgp_4AV--1ew&utm_campaign=yelp_api_v3&utm_medium=api_v3_business_search&utm_source=bdJBYIrivjkgp_4AV--1ew', 'review_count': 76, 'categories': [{'alias': 'tradamerican', 'title': 'American (Traditional)'}, {'alias': 'bars', 'title': 'Bars'}, {'alias': 'breakfast_brunch', 'title': 'Breakfast & Brunch'}], 'rating': 4.0, 'coordinates': {'latitude': 34.0473543876355, 'longitude': -118.264276664204}, 'transactions': ['delivery', 'pickup'], 'price': '$$', 'location': {'address1': '899 Francisco St', 'address2': '', 'address3': None, 'city': 'Los Angeles', 'zip_code': '90017', 'country': 'US', 'state': 'CA', 'display_address': ['899 Francisco St', 'Los Angeles, CA 90017']}, 'phone': '+12132328866', 'display_phone': '(213) 232-8866', 'distance': 451.7831803554416}, {'id': '92rApiJJIh0g5G7tzn813g', 'alias': 'mrs-sippee-los-angeles-4', 'name': 'Mrs. Sippee', 'image_url': 'https://s3-media2.fl.yelpcdn.com/bphoto/IG5RjFQ1jxmZrWQ1kbYKVg/o.jpg', 'is_closed': False, 'url': 'https://www.yelp.com/biz/mrs-sippee-los-angeles-4?adjust_creative=bdJBYIrivjkgp_4AV--1ew&utm_campaign=yelp_api_v3&utm_medium=api_v3_business_search&utm_source=bdJBYIrivjkgp_4AV--1ew', 'review_count': 66, 'categories': [{'alias': 'chickenshop', 'title': 'Chicken Shop'}, {'alias': 'hotdogs', 'title': 'Fast Food'}, {'alias': 'pizza', 'title': 'Pizza'}], 'rating': 4.0, 'coordinates': {'latitude': 34.04621, 'longitude': -118.27113}, 'transactions': ['delivery', 'pickup'], 'price': '$', 'location': {'address1': '1045 Blaine St', 'address2': '', 'address3': '', 'city': 'Los Angeles', 'zip_code': '90015', 'country': 'US', 'state': 'CA', 'display_address': ['1045 Blaine St', 'Los Angeles, CA 90015']}, 'phone': '+12137481612', 'display_phone': '(213) 748-1612', 'distance': 745.0851390991736}, {'id': 'UZlLBVnqs9Ikphin8CMVcA', 'alias': 'plan-check-kitchen-and-bar-los-angeles-2', 'name': 'Plan Check Kitchen & Bar', 'image_url': 'https://s3-media2.fl.yelpcdn.com/bphoto/wJr56dQEHRXkjtMKcrWENg/o.jpg', 'is_closed': False, 'url': 'https://www.yelp.com/biz/plan-check-kitchen-and-bar-los-angeles-2?adjust_creative=bdJBYIrivjkgp_4AV--1ew&utm_campaign=yelp_api_v3&utm_medium=api_v3_business_search&utm_source=bdJBYIrivjkgp_4AV--1ew', 'review_count': 1168, 'categories': [{'alias': 'cocktailbars', 'title': 'Cocktail Bars'}, {'alias': 'gastropubs', 'title': 'Gastropubs'}, {'alias': 'tradamerican', 'title': 'American (Traditional)'}], 'rating': 4.0, 'coordinates': {'latitude': 34.052601, 'longitude': -118.263447}, 'transactions': ['delivery', 'pickup'], 'price': '$$', 'location': {'address1': '1111 Wilshire Blvd', 'address2': '', 'address3': '', 'city': 'Los Angeles', 'zip_code': '90017', 'country': 'US', 'state': 'CA', 'display_address': ['1111 Wilshire Blvd', 'Los Angeles, CA 90017']}, 'phone': '+12132217529', 'display_phone': '(213) 221-7529', 'distance': 262.41575458524403}, {'id': 'eLUUZtBChK2ZEcHGsUeEUg', 'alias': 'mariscos-estilo-colima-el-guero-los-angeles', 'name': 'Mariscos Estilo Colima El Guero', 'image_url': 'https://s3-media3.fl.yelpcdn.com/bphoto/ZpL1G0bVW9JCTnnbCch-kQ/o.jpg', 'is_closed': False, 'url': 'https://www.yelp.com/biz/mariscos-estilo-colima-el-guero-los-angeles?adjust_creative=bdJBYIrivjkgp_4AV--1ew&utm_campaign=yelp_api_v3&utm_medium=api_v3_business_search&utm_source=bdJBYIrivjkgp_4AV--1ew', 'review_count': 5, 'categories': [{'alias': 'seafood', 'title': 'Seafood'}, {'alias': 'importedfood', 'title': 'Imported Food'}], 'rating': 4.0, 'coordinates': {'latitude': 34.0456578880548, 'longitude': -118.271273598075}, 'transactions': [], 'price': '$', 'location': {'address1': '1109 Blaine St', 'address2': '', 'address3': '', 'city': 'Los Angeles', 'zip_code': '90015', 'country': 'US', 'state': 'CA', 'display_address': ['1109 Blaine St', 'Los Angeles, CA 90015']}, 'phone': '', 'display_phone': '', 'distance': 771.7351638936486}, {'id': 'cEGNvEu0QtRLs7uVqY0dag', 'alias': 'mendocino-farms-los-angeles-5', 'name': 'Mendocino Farms', 'image_url': 'https://s3-media2.fl.yelpcdn.com/bphoto/tp5eCKGn3PSZ3i68LY8AqA/o.jpg', 'is_closed': False, 'url': 'https://www.yelp.com/biz/mendocino-farms-los-angeles-5?adjust_creative=bdJBYIrivjkgp_4AV--1ew&utm_campaign=yelp_api_v3&utm_medium=api_v3_business_search&utm_source=bdJBYIrivjkgp_4AV--1ew', 'review_count': 766, 'categories': [{'alias': 'sandwiches', 'title': 'Sandwiches'}, {'alias': 'salad', 'title': 'Salad'}], 'rating': 4.5, 'coordinates': {'latitude': 34.049318846845, 'longitude': -118.260798042992}, 'transactions': [], 'price': '$$', 'location': {'address1': '735 S Figueroa St', 'address2': '', 'address3': '', 'city': 'Los Angeles', 'zip_code': '90071', 'country': 'US', 'state': 'CA', 'display_address': ['735 S Figueroa St', 'Los Angeles, CA 90071']}, 'phone': '+12134309040', 'display_phone': '(213) 430-9040', 'distance': 504.152479728343}, {'id': 'RpTwXfHclhJFCRVDg_hvGw', 'alias': 'trimana-los-angeles-42', 'name': 'Trimana', 'image_url': 'https://s3-media4.fl.yelpcdn.com/bphoto/G7uBVnSafiYpI2knrSLv_Q/o.jpg', 'is_closed': False, 'url': 'https://www.yelp.com/biz/trimana-los-angeles-42?adjust_creative=bdJBYIrivjkgp_4AV--1ew&utm_campaign=yelp_api_v3&utm_medium=api_v3_business_search&utm_source=bdJBYIrivjkgp_4AV--1ew', 'review_count': 16, 'categories': [{'alias': 'breakfast_brunch', 'title': 'Breakfast & Brunch'}], 'rating': 3.5, 'coordinates': {'latitude': 34.046811, 'longitude': -118.261728}, 'transactions': [], 'price': '$', 'location': {'address1': '888 S Figueroa St', 'address2': 'Ste 100', 'address3': '', 'city': 'Los Angeles', 'zip_code': '90017', 'country': 'US', 'state': 'CA', 'display_address': ['888 S Figueroa St', 'Ste 100', 'Los Angeles, CA 90017']}, 'phone': '+12136228801', 'display_phone': '(213) 622-8801', 'distance': 615.7965734089324}, {'id': 'yknOY2nbE25QcA142djDeA', 'alias': 'mad-pambazos-los-angeles', 'name': 'Mad Pambazos', 'image_url': 'https://s3-media2.fl.yelpcdn.com/bphoto/RfDlsbvLqSUmvQuyBo7FwA/o.jpg', 'is_closed': False, 'url': 'https://www.yelp.com/biz/mad-pambazos-los-angeles?adjust_creative=bdJBYIrivjkgp_4AV--1ew&utm_campaign=yelp_api_v3&utm_medium=api_v3_business_search&utm_source=bdJBYIrivjkgp_4AV--1ew', 'review_count': 33, 'categories': [{'alias': 'foodtrucks', 'title': 'Food Trucks'}, {'alias': 'sandwiches', 'title': 'Sandwiches'}, {'alias': 'catering', 'title': 'Caterers'}], 'rating': 4.5, 'coordinates': {'latitude': 33.9788284301758, 'longitude': -118.249931335449}, 'transactions': [], 'price': '$', 'location': {'address1': None, 'address2': None, 'address3': '', 'city': 'Los Angeles', 'zip_code': '90001', 'country': 'US', 'state': 'CA', 'display_address': ['Los Angeles, CA 90001']}, 'phone': '+17037987268', 'display_phone': '(703) 798-7268', 'distance': 9222.216952821851}, {'id': 'NGOnzqtfDVdfZSnwqGdwIA', 'alias': 'dekkadance-los-angeles-3', 'name': 'Dekkadance', 'image_url': 'https://s3-media1.fl.yelpcdn.com/bphoto/ht0ejw74EM1zjOJDK3oW7A/o.jpg', 'is_closed': False, 'url': 'https://www.yelp.com/biz/dekkadance-los-angeles-3?adjust_creative=bdJBYIrivjkgp_4AV--1ew&utm_campaign=yelp_api_v3&utm_medium=api_v3_business_search&utm_source=bdJBYIrivjkgp_4AV--1ew', 'review_count': 362, 'categories': [{'alias': 'pizza', 'title': 'Pizza'}, {'alias': 'seafood', 'title': 'Seafood'}, {'alias': 'buffets', 'title': 'Buffets'}], 'rating': 3.5, 'coordinates': {'latitude': 34.0497511994474, 'longitude': -118.260578017197}, 'transactions': [], 'price': '$$$', 'location': {'address1': '900 Wilshire Blvd', 'address2': 'Fl 69', 'address3': '', 'city': 'Los Angeles', 'zip_code': '90017', 'country': 'US', 'state': 'CA', 'display_address': ['900 Wilshire Blvd', 'Fl 69', 'Los Angeles, CA 90017']}, 'phone': '+12136887777', 'display_phone': '(213) 688-7777', 'distance': 505.01314495809135}, {'id': 'YUznkziSSfrlQ-wLKKBLBw', 'alias': 'bkla-los-angeles-2', 'name': 'BKLA', 'image_url': 'https://s3-media2.fl.yelpcdn.com/bphoto/VLrqeB8OXedhPojD7TmmEQ/o.jpg', 'is_closed': False, 'url': 'https://www.yelp.com/biz/bkla-los-angeles-2?adjust_creative=bdJBYIrivjkgp_4AV--1ew&utm_campaign=yelp_api_v3&utm_medium=api_v3_business_search&utm_source=bdJBYIrivjkgp_4AV--1ew', 'review_count': 723, 'categories': [{'alias': 'newamerican', 'title': 'American (New)'}, {'alias': 'cocktailbars', 'title': 'Cocktail Bars'}], 'rating': 4.0, 'coordinates': {'latitude': 34.04701, 'longitude': -118.26083}, 'transactions': ['delivery', 'pickup'], 'price': '$$', 'location': {'address1': '819 S Flower St', 'address2': '', 'address3': '', 'city': 'Los Angeles', 'zip_code': '90017', 'country': 'US', 'state': 'CA', 'display_address': ['819 S Flower St', 'Los Angeles, CA 90017']}, 'phone': '+12137843048', 'display_phone': '(213) 784-3048', 'distance': 671.075621509549}, {'id': 'XW2uQqnxuo4wZxdI2V5Bcg', 'alias': 'mrs-winstons-las-best-salad-and-juice-bar-los-angeles', 'name': \"Mrs. Winstons - LA's Best Salad & Juice Bar\", 'image_url': 'https://s3-media4.fl.yelpcdn.com/bphoto/XnY2nDELUhdDNbPHsXDtXw/o.jpg', 'is_closed': False, 'url': 'https://www.yelp.com/biz/mrs-winstons-las-best-salad-and-juice-bar-los-angeles?adjust_creative=bdJBYIrivjkgp_4AV--1ew&utm_campaign=yelp_api_v3&utm_medium=api_v3_business_search&utm_source=bdJBYIrivjkgp_4AV--1ew', 'review_count': 63, 'categories': [{'alias': 'salad', 'title': 'Salad'}, {'alias': 'juicebars', 'title': 'Juice Bars & Smoothies'}, {'alias': 'healthmarkets', 'title': 'Health Markets'}], 'rating': 4.5, 'coordinates': {'latitude': 34.04681, 'longitude': -118.26172}, 'transactions': ['delivery', 'pickup'], 'price': '$$', 'location': {'address1': '888 S Figueroa St', 'address2': 'Ste 170', 'address3': None, 'city': 'Los Angeles', 'zip_code': '90017', 'country': 'US', 'state': 'CA', 'display_address': ['888 S Figueroa St', 'Ste 170', 'Los Angeles, CA 90017']}, 'phone': '+12136120800', 'display_phone': '(213) 612-0800', 'distance': 638.4604266704935}, {'id': 'Nlofg9suE-UaMf087oEVUA', 'alias': 'original-pantry-cafe-los-angeles', 'name': 'Original Pantry Cafe', 'image_url': 'https://s3-media1.fl.yelpcdn.com/bphoto/GjuhjLwqHr5MSqcgimCiZw/o.jpg', 'is_closed': False, 'url': 'https://www.yelp.com/biz/original-pantry-cafe-los-angeles?adjust_creative=bdJBYIrivjkgp_4AV--1ew&utm_campaign=yelp_api_v3&utm_medium=api_v3_business_search&utm_source=bdJBYIrivjkgp_4AV--1ew', 'review_count': 2991, 'categories': [{'alias': 'tradamerican', 'title': 'American (Traditional)'}, {'alias': 'breakfast_brunch', 'title': 'Breakfast & Brunch'}, {'alias': 'comfortfood', 'title': 'Comfort Food'}], 'rating': 3.5, 'coordinates': {'latitude': 34.0464117322053, 'longitude': -118.262845804944}, 'transactions': [], 'price': '$$', 'location': {'address1': '877 S Figueroa St', 'address2': '', 'address3': '', 'city': 'Los Angeles', 'zip_code': '90017', 'country': 'US', 'state': 'CA', 'display_address': ['877 S Figueroa St', 'Los Angeles, CA 90017']}, 'phone': '+12139729279', 'display_phone': '(213) 972-9279', 'distance': 599.0165943525215}, {'id': 'SqPkGFeJEZROUCR3ngQUqw', 'alias': 'thai-food-express-los-angeles', 'name': 'Thai Food Express', 'image_url': 'https://s3-media2.fl.yelpcdn.com/bphoto/SWwvdea9YDYFaYoL8IMFzg/o.jpg', 'is_closed': False, 'url': 'https://www.yelp.com/biz/thai-food-express-los-angeles?adjust_creative=bdJBYIrivjkgp_4AV--1ew&utm_campaign=yelp_api_v3&utm_medium=api_v3_business_search&utm_source=bdJBYIrivjkgp_4AV--1ew', 'review_count': 122, 'categories': [{'alias': 'thai', 'title': 'Thai'}], 'rating': 4.0, 'coordinates': {'latitude': 34.056338, 'longitude': -118.2679374}, 'transactions': ['delivery'], 'price': '$', 'location': {'address1': '1406 W 6th St', 'address2': '', 'address3': '', 'city': 'Los Angeles', 'zip_code': '90017', 'country': 'US', 'state': 'CA', 'display_address': ['1406 W 6th St', 'Los Angeles, CA 90017']}, 'phone': '+12134836557', 'display_phone': '(213) 483-6557', 'distance': 561.1867580614543}, {'id': 'Gv84tyU3vBvlHuHRVr8xmQ', 'alias': 'toms-urban-la-live-los-angeles', 'name': \"Tom's Urban - LA Live\", 'image_url': 'https://s3-media1.fl.yelpcdn.com/bphoto/c8U5nDeDjR8Czzg9t2SKFg/o.jpg', 'is_closed': False, 'url': 'https://www.yelp.com/biz/toms-urban-la-live-los-angeles?adjust_creative=bdJBYIrivjkgp_4AV--1ew&utm_campaign=yelp_api_v3&utm_medium=api_v3_business_search&utm_source=bdJBYIrivjkgp_4AV--1ew', 'review_count': 2690, 'categories': [{'alias': 'newamerican', 'title': 'American (New)'}, {'alias': 'sportsbars', 'title': 'Sports Bars'}, {'alias': 'gastropubs', 'title': 'Gastropubs'}], 'rating': 3.5, 'coordinates': {'latitude': 34.0443026525531, 'longitude': -118.264682792683}, 'transactions': [], 'price': '$$', 'location': {'address1': '1011 S Figueroa St', 'address2': 'Ste B 101', 'address3': '', 'city': 'Los Angeles', 'zip_code': '90015', 'country': 'US', 'state': 'CA', 'display_address': ['1011 S Figueroa St', 'Ste B 101', 'Los Angeles, CA 90015']}, 'phone': '+12137468667', 'display_phone': '(213) 746-8667', 'distance': 779.4949047943528}, {'id': 'lIlUffNGKj0isOx1GhAURw', 'alias': 'express-deli-los-angeles', 'name': 'Express Deli', 'image_url': 'https://s3-media3.fl.yelpcdn.com/bphoto/2SEi7Jl3KWWVdyYll_uF4Q/o.jpg', 'is_closed': False, 'url': 'https://www.yelp.com/biz/express-deli-los-angeles?adjust_creative=bdJBYIrivjkgp_4AV--1ew&utm_campaign=yelp_api_v3&utm_medium=api_v3_business_search&utm_source=bdJBYIrivjkgp_4AV--1ew', 'review_count': 28, 'categories': [{'alias': 'delis', 'title': 'Delis'}], 'rating': 3.5, 'coordinates': {'latitude': 34.052547454834, 'longitude': -118.262733459473}, 'transactions': [], 'price': '$', 'location': {'address1': '1055 Wilshire Blvd', 'address2': '', 'address3': '', 'city': 'Los Angeles', 'zip_code': '90017', 'country': 'US', 'state': 'CA', 'display_address': ['1055 Wilshire Blvd', 'Los Angeles, CA 90017']}, 'phone': '+12134811998', 'display_phone': '(213) 481-1998', 'distance': 317.56068843036263}, {'id': 'PjhnLIBJcWTUx67UqGqfmw', 'alias': 'california-pizza-kitchen-at-7th-street-los-angeles-los-angeles', 'name': 'California Pizza Kitchen at 7th Street Los Angeles', 'image_url': 'https://s3-media1.fl.yelpcdn.com/bphoto/azbeodb1RrTFDDuI7VPz2w/o.jpg', 'is_closed': False, 'url': 'https://www.yelp.com/biz/california-pizza-kitchen-at-7th-street-los-angeles-los-angeles?adjust_creative=bdJBYIrivjkgp_4AV--1ew&utm_campaign=yelp_api_v3&utm_medium=api_v3_business_search&utm_source=bdJBYIrivjkgp_4AV--1ew', 'review_count': 388, 'categories': [{'alias': 'pizza', 'title': 'Pizza'}, {'alias': 'newamerican', 'title': 'American (New)'}, {'alias': 'salad', 'title': 'Salad'}], 'rating': 3.0, 'coordinates': {'latitude': 34.049057, 'longitude': -118.260676}, 'transactions': ['delivery', 'pickup'], 'price': '$$', 'location': {'address1': '735 S Figueroa St', 'address2': 'Ste 305', 'address3': None, 'city': 'Los Angeles', 'zip_code': '90017', 'country': 'US', 'state': 'CA', 'display_address': ['735 S Figueroa St', 'Ste 305', 'Los Angeles, CA 90017']}, 'phone': '+12132288500', 'display_phone': '(213) 228-8500', 'distance': 527.0495551678134}, {'id': 'EeqPppqmA6B9-faQpjPjGA', 'alias': 'mitaki-los-angeles-3', 'name': 'Mitaki', 'image_url': 'https://s3-media3.fl.yelpcdn.com/bphoto/xB-tSUlVr9uGjyYxixpoxw/o.jpg', 'is_closed': False, 'url': 'https://www.yelp.com/biz/mitaki-los-angeles-3?adjust_creative=bdJBYIrivjkgp_4AV--1ew&utm_campaign=yelp_api_v3&utm_medium=api_v3_business_search&utm_source=bdJBYIrivjkgp_4AV--1ew', 'review_count': 106, 'categories': [{'alias': 'japanese', 'title': 'Japanese'}, {'alias': 'sushi', 'title': 'Sushi Bars'}], 'rating': 3.0, 'coordinates': {'latitude': 34.05339, 'longitude': -118.266195}, 'transactions': ['delivery', 'pickup'], 'price': '$', 'location': {'address1': '1234 Wilshire Blvd', 'address2': 'Ste 105', 'address3': '', 'city': 'Los Angeles', 'zip_code': '90017', 'country': 'US', 'state': 'CA', 'display_address': ['1234 Wilshire Blvd', 'Ste 105', 'Los Angeles, CA 90017']}, 'phone': '+12134824812', 'display_phone': '(213) 482-4812', 'distance': 243.8589690023058}, {'id': 'PWiYf7ctj4khcSHrLw7VmA', 'alias': 'ralphs-los-angeles-36', 'name': 'Ralphs', 'image_url': 'https://s3-media3.fl.yelpcdn.com/bphoto/ypkKwONYxprX7RGsTpf3oQ/o.jpg', 'is_closed': False, 'url': 'https://www.yelp.com/biz/ralphs-los-angeles-36?adjust_creative=bdJBYIrivjkgp_4AV--1ew&utm_campaign=yelp_api_v3&utm_medium=api_v3_business_search&utm_source=bdJBYIrivjkgp_4AV--1ew', 'review_count': 499, 'categories': [{'alias': 'grocery', 'title': 'Grocery'}], 'rating': 3.5, 'coordinates': {'latitude': 34.0456704953933, 'longitude': -118.260824630019}, 'transactions': [], 'price': '$$', 'location': {'address1': '645 W 9th St', 'address2': '', 'address3': '', 'city': 'Los Angeles', 'zip_code': '90015', 'country': 'US', 'state': 'CA', 'display_address': ['645 W 9th St', 'Los Angeles, CA 90015']}, 'phone': '+12134520840', 'display_phone': '(213) 452-0840', 'distance': 767.2135869756765}, {'id': 'Sm_xPcCYeROs-xEzQfb8FA', 'alias': 'harbor-house-los-angeles-5', 'name': 'Harbor House', 'image_url': 'https://s3-media1.fl.yelpcdn.com/bphoto/xqRbXn6Y9mu7GlQaasYWhw/o.jpg', 'is_closed': False, 'url': 'https://www.yelp.com/biz/harbor-house-los-angeles-5?adjust_creative=bdJBYIrivjkgp_4AV--1ew&utm_campaign=yelp_api_v3&utm_medium=api_v3_business_search&utm_source=bdJBYIrivjkgp_4AV--1ew', 'review_count': 101, 'categories': [{'alias': 'newamerican', 'title': 'American (New)'}, {'alias': 'cafes', 'title': 'Cafes'}, {'alias': 'bars', 'title': 'Bars'}], 'rating': 3.5, 'coordinates': {'latitude': 34.05046, 'longitude': -118.2613}, 'transactions': [], 'price': '$$', 'location': {'address1': '1000 Wilshire Blvd', 'address2': '', 'address3': None, 'city': 'Los Angeles', 'zip_code': '90017', 'country': 'US', 'state': 'CA', 'display_address': ['1000 Wilshire Blvd', 'Los Angeles, CA 90017']}, 'phone': '+13236428393', 'display_phone': '(323) 642-8393', 'distance': 419.8520898392738}, {'id': 'g3RN9AQ-3mAgrUIyi9reHQ', 'alias': 'trimana-888-los-angeles', 'name': 'Trimana 888', 'image_url': 'https://s3-media2.fl.yelpcdn.com/bphoto/W2nVxelpRDPJsh7LIrPgTQ/o.jpg', 'is_closed': False, 'url': 'https://www.yelp.com/biz/trimana-888-los-angeles?adjust_creative=bdJBYIrivjkgp_4AV--1ew&utm_campaign=yelp_api_v3&utm_medium=api_v3_business_search&utm_source=bdJBYIrivjkgp_4AV--1ew', 'review_count': 37, 'categories': [{'alias': 'breakfast_brunch', 'title': 'Breakfast & Brunch'}, {'alias': 'catering', 'title': 'Caterers'}], 'rating': 4.0, 'coordinates': {'latitude': 34.0464904, 'longitude': -118.2618443}, 'transactions': ['delivery', 'pickup'], 'price': '$$', 'location': {'address1': '888 S Figueroa St', 'address2': 'Ste 110', 'address3': '', 'city': 'Los Angeles', 'zip_code': '90017', 'country': 'US', 'state': 'CA', 'display_address': ['888 S Figueroa St', 'Ste 110', 'Los Angeles, CA 90017']}, 'phone': '+12136228801', 'display_phone': '(213) 622-8801', 'distance': 638.4604266704935}, {'id': 'EgRkCh4c4i8uFrCrMQFSvg', 'alias': 'twist-and-grill-los-angeles', 'name': 'Twist & Grill', 'image_url': 'https://s3-media4.fl.yelpcdn.com/bphoto/-G9y5zy24oPh06ih3xSVYg/o.jpg', 'is_closed': False, 'url': 'https://www.yelp.com/biz/twist-and-grill-los-angeles?adjust_creative=bdJBYIrivjkgp_4AV--1ew&utm_campaign=yelp_api_v3&utm_medium=api_v3_business_search&utm_source=bdJBYIrivjkgp_4AV--1ew', 'review_count': 136, 'categories': [{'alias': 'newamerican', 'title': 'American (New)'}], 'rating': 3.5, 'coordinates': {'latitude': 34.0491055, 'longitude': -118.260503}, 'transactions': [], 'price': '$', 'location': {'address1': '735 S Figueroa St', 'address2': None, 'address3': '', 'city': 'Los Angeles', 'zip_code': '90017', 'country': 'US', 'state': 'CA', 'display_address': ['735 S Figueroa St', 'Los Angeles, CA 90017']}, 'phone': '+12136120840', 'display_phone': '(213) 612-0840', 'distance': 538.8878316909318}, {'id': 'N70oKt4U4XKDWDQbizDw_Q', 'alias': 'pacific-dining-car-los-angeles', 'name': 'Pacific Dining Car', 'image_url': 'https://s3-media3.fl.yelpcdn.com/bphoto/YlNI1sH7zz0ZTQuxRUhfmg/o.jpg', 'is_closed': False, 'url': 'https://www.yelp.com/biz/pacific-dining-car-los-angeles?adjust_creative=bdJBYIrivjkgp_4AV--1ew&utm_campaign=yelp_api_v3&utm_medium=api_v3_business_search&utm_source=bdJBYIrivjkgp_4AV--1ew', 'review_count': 1277, 'categories': [{'alias': 'steak', 'title': 'Steakhouses'}, {'alias': 'tradamerican', 'title': 'American (Traditional)'}], 'rating': 3.5, 'coordinates': {'latitude': 34.0553, 'longitude': -118.26596}, 'transactions': ['delivery', 'pickup'], 'price': '$$$$', 'location': {'address1': '1310 W 6th St', 'address2': '', 'address3': '', 'city': 'Los Angeles', 'zip_code': '90017', 'country': 'US', 'state': 'CA', 'display_address': ['1310 W 6th St', 'Los Angeles, CA 90017']}, 'phone': '+12134836000', 'display_phone': '(213) 483-6000', 'distance': 477.01460929349264}, {'id': '5V7zNZ9IdSUCYrZRXAg2hA', 'alias': 'yard-house-los-angeles', 'name': 'Yard House', 'image_url': 'https://s3-media1.fl.yelpcdn.com/bphoto/_YsuaPbaKzkC-APRiPOl-w/o.jpg', 'is_closed': False, 'url': 'https://www.yelp.com/biz/yard-house-los-angeles?adjust_creative=bdJBYIrivjkgp_4AV--1ew&utm_campaign=yelp_api_v3&utm_medium=api_v3_business_search&utm_source=bdJBYIrivjkgp_4AV--1ew', 'review_count': 2640, 'categories': [{'alias': 'bars', 'title': 'Bars'}, {'alias': 'vegetarian', 'title': 'Vegetarian'}, {'alias': 'newamerican', 'title': 'American (New)'}], 'rating': 3.5, 'coordinates': {'latitude': 34.0449339896765, 'longitude': -118.265804750686}, 'transactions': ['delivery', 'pickup'], 'price': '$$', 'location': {'address1': '800 W Olympic Blvd', 'address2': '', 'address3': '', 'city': 'Los Angeles', 'zip_code': '90015', 'country': 'US', 'state': 'CA', 'display_address': ['800 W Olympic Blvd', 'Los Angeles, CA 90015']}, 'phone': '+12137459273', 'display_phone': '(213) 745-9273', 'distance': 699.6962406799875}, {'id': 'ksLuAvjPx00NKXl7aUpvOQ', 'alias': 'bayleaf-cafe-los-angeles-2', 'name': 'Bayleaf Cafe', 'image_url': 'https://s3-media1.fl.yelpcdn.com/bphoto/WpdKoz65gqkL-blWfUaJhg/o.jpg', 'is_closed': False, 'url': 'https://www.yelp.com/biz/bayleaf-cafe-los-angeles-2?adjust_creative=bdJBYIrivjkgp_4AV--1ew&utm_campaign=yelp_api_v3&utm_medium=api_v3_business_search&utm_source=bdJBYIrivjkgp_4AV--1ew', 'review_count': 19, 'categories': [{'alias': 'cafes', 'title': 'Cafes'}], 'rating': 3.5, 'coordinates': {'latitude': 34.0509109, 'longitude': -118.2633209}, 'transactions': ['pickup'], 'price': '$', 'location': {'address1': '1055 W 7th St', 'address2': '', 'address3': '', 'city': 'Los Angeles', 'zip_code': '90017', 'country': 'US', 'state': 'CA', 'display_address': ['1055 W 7th St', 'Los Angeles, CA 90017']}, 'phone': '+12132395657', 'display_phone': '(213) 239-5657', 'distance': 255.24484686328904}], 'total': 70, 'region': {'center': {'longitude': -118.26576232910156, 'latitude': 34.051226417953856}}}\n"
          ],
          "name": "stdout"
        }
      ]
    },
    {
      "cell_type": "code",
      "metadata": {
        "id": "jrHvaAysG8fH",
        "colab_type": "code",
        "colab": {
          "base_uri": "https://localhost:8080/",
          "height": 225
        },
        "outputId": "72eca4b6-a64f-40a3-b881-85722d1be04a"
      },
      "source": [
        "# Turn response into lists and then zip into a dataframe\n",
        "fifty_listings = []\n",
        "cols = ['Name','Reviews','Rating','Lat','Long','Location','Phone']\n",
        "for business in data['businesses']:\n",
        "  name = business['name']\n",
        "  reviews = business['review_count']\n",
        "  rating = business['rating']\n",
        "  latitude = business['coordinates']['latitude']\n",
        "  longitude = business['coordinates']['longitude']\n",
        "  location = business['location']['display_address']\n",
        "  phone = business['display_phone']\n",
        "  fifty_listings.append([name, reviews, rating, latitude, longitude, location, phone])\n",
        "  df = df = pd.DataFrame.from_records(fifty_listings, index='Name', columns=cols)\n",
        "df.head()"
      ],
      "execution_count": 4,
      "outputs": [
        {
          "output_type": "execute_result",
          "data": {
            "text/html": [
              "<div>\n",
              "<style scoped>\n",
              "    .dataframe tbody tr th:only-of-type {\n",
              "        vertical-align: middle;\n",
              "    }\n",
              "\n",
              "    .dataframe tbody tr th {\n",
              "        vertical-align: top;\n",
              "    }\n",
              "\n",
              "    .dataframe thead th {\n",
              "        text-align: right;\n",
              "    }\n",
              "</style>\n",
              "<table border=\"1\" class=\"dataframe\">\n",
              "  <thead>\n",
              "    <tr style=\"text-align: right;\">\n",
              "      <th></th>\n",
              "      <th>Reviews</th>\n",
              "      <th>Rating</th>\n",
              "      <th>Lat</th>\n",
              "      <th>Long</th>\n",
              "      <th>Location</th>\n",
              "      <th>Phone</th>\n",
              "    </tr>\n",
              "    <tr>\n",
              "      <th>Name</th>\n",
              "      <th></th>\n",
              "      <th></th>\n",
              "      <th></th>\n",
              "      <th></th>\n",
              "      <th></th>\n",
              "      <th></th>\n",
              "    </tr>\n",
              "  </thead>\n",
              "  <tbody>\n",
              "    <tr>\n",
              "      <th>Fernando's Taco</th>\n",
              "      <td>137</td>\n",
              "      <td>4.0</td>\n",
              "      <td>34.045297</td>\n",
              "      <td>-118.264306</td>\n",
              "      <td>[815 W Olympic Blvd, Los Angeles, CA 90015]</td>\n",
              "      <td>(213) 489-7615</td>\n",
              "    </tr>\n",
              "    <tr>\n",
              "      <th>La Guadalupana</th>\n",
              "      <td>46</td>\n",
              "      <td>4.0</td>\n",
              "      <td>34.056327</td>\n",
              "      <td>-118.267904</td>\n",
              "      <td>[1422 W 6th St, Los Angeles, CA 90017]</td>\n",
              "      <td>(213) 483-2973</td>\n",
              "    </tr>\n",
              "    <tr>\n",
              "      <th>Veranda</th>\n",
              "      <td>112</td>\n",
              "      <td>4.0</td>\n",
              "      <td>34.045529</td>\n",
              "      <td>-118.264003</td>\n",
              "      <td>[939 S Figueroa St, Ste 500, Los Angeles, CA 9...</td>\n",
              "      <td>(213) 660-3032</td>\n",
              "    </tr>\n",
              "    <tr>\n",
              "      <th>East Los Angeles Tacos</th>\n",
              "      <td>12</td>\n",
              "      <td>4.0</td>\n",
              "      <td>34.046246</td>\n",
              "      <td>-118.266960</td>\n",
              "      <td>[953 Georgia St, Los Angeles, CA 90015]</td>\n",
              "      <td>(855) 352-8226</td>\n",
              "    </tr>\n",
              "    <tr>\n",
              "      <th>El Tejano</th>\n",
              "      <td>18</td>\n",
              "      <td>4.0</td>\n",
              "      <td>34.045356</td>\n",
              "      <td>-118.259012</td>\n",
              "      <td>[801 S Grand Ave, Los Angeles, CA 90017]</td>\n",
              "      <td>(213) 629-2449</td>\n",
              "    </tr>\n",
              "  </tbody>\n",
              "</table>\n",
              "</div>"
            ],
            "text/plain": [
              "                        Reviews  ...           Phone\n",
              "Name                             ...                \n",
              "Fernando's Taco             137  ...  (213) 489-7615\n",
              "La Guadalupana               46  ...  (213) 483-2973\n",
              "Veranda                     112  ...  (213) 660-3032\n",
              "East Los Angeles Tacos       12  ...  (855) 352-8226\n",
              "El Tejano                    18  ...  (213) 629-2449\n",
              "\n",
              "[5 rows x 6 columns]"
            ]
          },
          "metadata": {
            "tags": []
          },
          "execution_count": 4
        }
      ]
    },
    {
      "cell_type": "code",
      "metadata": {
        "id": "-goLzhvGLZvg",
        "colab_type": "code",
        "colab": {}
      },
      "source": [
        "# TODO: Remove [] from Location"
      ],
      "execution_count": 0,
      "outputs": []
    },
    {
      "cell_type": "code",
      "metadata": {
        "id": "eUem9KXwNxAP",
        "colab_type": "code",
        "colab": {
          "base_uri": "https://localhost:8080/",
          "height": 282
        },
        "outputId": "3a3994c9-c8db-49fa-9a80-66461fc6a661"
      },
      "source": [
        "df['Rating'].hist()"
      ],
      "execution_count": 6,
      "outputs": [
        {
          "output_type": "execute_result",
          "data": {
            "text/plain": [
              "<matplotlib.axes._subplots.AxesSubplot at 0x7fb909cdaf60>"
            ]
          },
          "metadata": {
            "tags": []
          },
          "execution_count": 6
        },
        {
          "output_type": "display_data",
          "data": {
            "image/png": "[encoded data removed]",
            "text/plain": [
              "<Figure size 432x288 with 1 Axes>"
            ]
          },
          "metadata": {
            "tags": []
          }
        }
      ]
    },
    {
      "cell_type": "code",
      "metadata": {
        "id": "BceT3WmkPFBF",
        "colab_type": "code",
        "colab": {}
      },
      "source": [
        "# Scale Scrape to 2 Locations for 900 listings\n",
        "two_addresses = ['1200 W 7th Street, Los Angeles CA 90017', '200 N Spring Street, Los Angeles CA 90012']\n",
        "offset = [0, 51, 101, 151, 201, 251, 301, 351, 401, 451, 501, 551, 601, 651, 701, 751, 801, 851, 901]\n",
        "\n",
        "# Create list of tuples\n",
        "combo = list(product(two_addresses, offset))"
      ],
      "execution_count": 0,
      "outputs": []
    },
    {
      "cell_type": "code",
      "metadata": {
        "id": "BAH_SunHQTq2",
        "colab_type": "code",
        "colab": {
          "base_uri": "https://localhost:8080/",
          "height": 242
        },
        "outputId": "570190aa-b716-42f8-c997-0f5d7ad99617"
      },
      "source": [
        "# Scaled for loop\n",
        "for a, o in combo:\n",
        "  dual_params = {\n",
        "    'location': a,\n",
        "    'limit': 50,\n",
        "    'term': 'tacos',\n",
        "    'radius': 804,\n",
        "    'offset': o}\n",
        "  response = r.request('GET', url, headers=headers, params=dual_params)\n",
        "  data = response.json()\n",
        "  for business in data['businesses']:\n",
        "    name = business['name']\n",
        "    reviews = business['review_count']\n",
        "    rating = business['rating']\n",
        "    latitude = business['coordinates']['latitude']\n",
        "    longitude = business['coordinates']['longitude']\n",
        "    location = business['location']['display_address']\n",
        "    phone = business['display_phone']\n",
        "    fifty_listings.append([name, reviews, rating, latitude, longitude, location, phone])\n",
        "  df = df = pd.DataFrame.from_records(fifty_listings, index='Name', columns=cols)\n",
        "print(f'Total records: {len(df)}')\n",
        "df.head()"
      ],
      "execution_count": 16,
      "outputs": [
        {
          "output_type": "stream",
          "text": [
            "Total records: 364\n"
          ],
          "name": "stdout"
        },
        {
          "output_type": "execute_result",
          "data": {
            "text/html": [
              "<div>\n",
              "<style scoped>\n",
              "    .dataframe tbody tr th:only-of-type {\n",
              "        vertical-align: middle;\n",
              "    }\n",
              "\n",
              "    .dataframe tbody tr th {\n",
              "        vertical-align: top;\n",
              "    }\n",
              "\n",
              "    .dataframe thead th {\n",
              "        text-align: right;\n",
              "    }\n",
              "</style>\n",
              "<table border=\"1\" class=\"dataframe\">\n",
              "  <thead>\n",
              "    <tr style=\"text-align: right;\">\n",
              "      <th></th>\n",
              "      <th>Reviews</th>\n",
              "      <th>Rating</th>\n",
              "      <th>Lat</th>\n",
              "      <th>Long</th>\n",
              "      <th>Location</th>\n",
              "      <th>Phone</th>\n",
              "    </tr>\n",
              "    <tr>\n",
              "      <th>Name</th>\n",
              "      <th></th>\n",
              "      <th></th>\n",
              "      <th></th>\n",
              "      <th></th>\n",
              "      <th></th>\n",
              "      <th></th>\n",
              "    </tr>\n",
              "  </thead>\n",
              "  <tbody>\n",
              "    <tr>\n",
              "      <th>Fernando's Taco</th>\n",
              "      <td>137</td>\n",
              "      <td>4.0</td>\n",
              "      <td>34.045297</td>\n",
              "      <td>-118.264306</td>\n",
              "      <td>[815 W Olympic Blvd, Los Angeles, CA 90015]</td>\n",
              "      <td>(213) 489-7615</td>\n",
              "    </tr>\n",
              "    <tr>\n",
              "      <th>La Guadalupana</th>\n",
              "      <td>46</td>\n",
              "      <td>4.0</td>\n",
              "      <td>34.056327</td>\n",
              "      <td>-118.267904</td>\n",
              "      <td>[1422 W 6th St, Los Angeles, CA 90017]</td>\n",
              "      <td>(213) 483-2973</td>\n",
              "    </tr>\n",
              "    <tr>\n",
              "      <th>Veranda</th>\n",
              "      <td>112</td>\n",
              "      <td>4.0</td>\n",
              "      <td>34.045529</td>\n",
              "      <td>-118.264003</td>\n",
              "      <td>[939 S Figueroa St, Ste 500, Los Angeles, CA 9...</td>\n",
              "      <td>(213) 660-3032</td>\n",
              "    </tr>\n",
              "    <tr>\n",
              "      <th>East Los Angeles Tacos</th>\n",
              "      <td>12</td>\n",
              "      <td>4.0</td>\n",
              "      <td>34.046246</td>\n",
              "      <td>-118.266960</td>\n",
              "      <td>[953 Georgia St, Los Angeles, CA 90015]</td>\n",
              "      <td>(855) 352-8226</td>\n",
              "    </tr>\n",
              "    <tr>\n",
              "      <th>El Tejano</th>\n",
              "      <td>18</td>\n",
              "      <td>4.0</td>\n",
              "      <td>34.045356</td>\n",
              "      <td>-118.259012</td>\n",
              "      <td>[801 S Grand Ave, Los Angeles, CA 90017]</td>\n",
              "      <td>(213) 629-2449</td>\n",
              "    </tr>\n",
              "  </tbody>\n",
              "</table>\n",
              "</div>"
            ],
            "text/plain": [
              "                        Reviews  ...           Phone\n",
              "Name                             ...                \n",
              "Fernando's Taco             137  ...  (213) 489-7615\n",
              "La Guadalupana               46  ...  (213) 483-2973\n",
              "Veranda                     112  ...  (213) 660-3032\n",
              "East Los Angeles Tacos       12  ...  (855) 352-8226\n",
              "El Tejano                    18  ...  (213) 629-2449\n",
              "\n",
              "[5 rows x 6 columns]"
            ]
          },
          "metadata": {
            "tags": []
          },
          "execution_count": 16
        }
      ]
    },
    {
      "cell_type": "code",
      "metadata": {
        "id": "w83CLdAERtkw",
        "colab_type": "code",
        "colab": {
          "base_uri": "https://localhost:8080/",
          "height": 284
        },
        "outputId": "483e190a-5de0-4655-8c9b-83b7d142dd24"
      },
      "source": [
        "# Summary Statistics\n",
        "df.describe()"
      ],
      "execution_count": 18,
      "outputs": [
        {
          "output_type": "execute_result",
          "data": {
            "text/html": [
              "<div>\n",
              "<style scoped>\n",
              "    .dataframe tbody tr th:only-of-type {\n",
              "        vertical-align: middle;\n",
              "    }\n",
              "\n",
              "    .dataframe tbody tr th {\n",
              "        vertical-align: top;\n",
              "    }\n",
              "\n",
              "    .dataframe thead th {\n",
              "        text-align: right;\n",
              "    }\n",
              "</style>\n",
              "<table border=\"1\" class=\"dataframe\">\n",
              "  <thead>\n",
              "    <tr style=\"text-align: right;\">\n",
              "      <th></th>\n",
              "      <th>Reviews</th>\n",
              "      <th>Rating</th>\n",
              "      <th>Lat</th>\n",
              "      <th>Long</th>\n",
              "    </tr>\n",
              "  </thead>\n",
              "  <tbody>\n",
              "    <tr>\n",
              "      <th>count</th>\n",
              "      <td>364.000000</td>\n",
              "      <td>364.000000</td>\n",
              "      <td>355.000000</td>\n",
              "      <td>355.000000</td>\n",
              "    </tr>\n",
              "    <tr>\n",
              "      <th>mean</th>\n",
              "      <td>397.112637</td>\n",
              "      <td>3.885989</td>\n",
              "      <td>34.040089</td>\n",
              "      <td>-118.253313</td>\n",
              "    </tr>\n",
              "    <tr>\n",
              "      <th>std</th>\n",
              "      <td>854.864474</td>\n",
              "      <td>0.690388</td>\n",
              "      <td>0.067972</td>\n",
              "      <td>0.108144</td>\n",
              "    </tr>\n",
              "    <tr>\n",
              "      <th>min</th>\n",
              "      <td>1.000000</td>\n",
              "      <td>1.000000</td>\n",
              "      <td>33.658100</td>\n",
              "      <td>-119.165681</td>\n",
              "    </tr>\n",
              "    <tr>\n",
              "      <th>25%</th>\n",
              "      <td>17.000000</td>\n",
              "      <td>3.500000</td>\n",
              "      <td>34.046451</td>\n",
              "      <td>-118.265186</td>\n",
              "    </tr>\n",
              "    <tr>\n",
              "      <th>50%</th>\n",
              "      <td>77.000000</td>\n",
              "      <td>4.000000</td>\n",
              "      <td>34.050529</td>\n",
              "      <td>-118.250120</td>\n",
              "    </tr>\n",
              "    <tr>\n",
              "      <th>75%</th>\n",
              "      <td>362.000000</td>\n",
              "      <td>4.500000</td>\n",
              "      <td>34.053490</td>\n",
              "      <td>-118.245123</td>\n",
              "    </tr>\n",
              "    <tr>\n",
              "      <th>max</th>\n",
              "      <td>8420.000000</td>\n",
              "      <td>5.000000</td>\n",
              "      <td>34.280921</td>\n",
              "      <td>-117.401168</td>\n",
              "    </tr>\n",
              "  </tbody>\n",
              "</table>\n",
              "</div>"
            ],
            "text/plain": [
              "           Reviews      Rating         Lat        Long\n",
              "count   364.000000  364.000000  355.000000  355.000000\n",
              "mean    397.112637    3.885989   34.040089 -118.253313\n",
              "std     854.864474    0.690388    0.067972    0.108144\n",
              "min       1.000000    1.000000   33.658100 -119.165681\n",
              "25%      17.000000    3.500000   34.046451 -118.265186\n",
              "50%      77.000000    4.000000   34.050529 -118.250120\n",
              "75%     362.000000    4.500000   34.053490 -118.245123\n",
              "max    8420.000000    5.000000   34.280921 -117.401168"
            ]
          },
          "metadata": {
            "tags": []
          },
          "execution_count": 18
        }
      ]
    },
    {
      "cell_type": "code",
      "metadata": {
        "id": "Cffv8864SrhS",
        "colab_type": "code",
        "colab": {
          "base_uri": "https://localhost:8080/",
          "height": 202
        },
        "outputId": "ccd7ccd1-895a-40e7-83d3-09c8296222a4"
      },
      "source": [
        "# Light Exploration\n",
        "df.info()"
      ],
      "execution_count": 19,
      "outputs": [
        {
          "output_type": "stream",
          "text": [
            "<class 'pandas.core.frame.DataFrame'>\n",
            "Index: 364 entries, Fernando's Taco to Catered Fit\n",
            "Data columns (total 6 columns):\n",
            "Reviews     364 non-null int64\n",
            "Rating      364 non-null float64\n",
            "Lat         355 non-null float64\n",
            "Long        355 non-null float64\n",
            "Location    364 non-null object\n",
            "Phone       364 non-null object\n",
            "dtypes: float64(3), int64(1), object(2)\n",
            "memory usage: 19.9+ KB\n"
          ],
          "name": "stdout"
        }
      ]
    },
    {
      "cell_type": "code",
      "metadata": {
        "id": "YSM0MJ_6TK4J",
        "colab_type": "code",
        "colab": {
          "base_uri": "https://localhost:8080/",
          "height": 312
        },
        "outputId": "8970ca74-9577-49dc-be6e-7cbcd744c651"
      },
      "source": [
        "# Reviews Distribution\n",
        "sns.distplot(df['Reviews'])\n",
        "plt.title('Distribution of Reviews')"
      ],
      "execution_count": 25,
      "outputs": [
        {
          "output_type": "execute_result",
          "data": {
            "text/plain": [
              "Text(0.5, 1.0, 'Distribution of Reviews')"
            ]
          },
          "metadata": {
            "tags": []
          },
          "execution_count": 25
        },
        {
          "output_type": "display_data",
          "data": {
            "image/png": "[encoded data removed]",
            "text/plain": [
              "<Figure size 432x288 with 1 Axes>"
            ]
          },
          "metadata": {
            "tags": []
          }
        }
      ]
    },
    {
      "cell_type": "code",
      "metadata": {
        "id": "291yfSk5T1LP",
        "colab_type": "code",
        "colab": {
          "base_uri": "https://localhost:8080/",
          "height": 312
        },
        "outputId": "253db08f-77b1-4ce9-b01a-de980040b341"
      },
      "source": [
        "# Ratings Distribution\n",
        "sns.distplot(df['Rating'])\n",
        "plt.title('Distribution of Ratings')"
      ],
      "execution_count": 27,
      "outputs": [
        {
          "output_type": "execute_result",
          "data": {
            "text/plain": [
              "Text(0.5, 1.0, 'Distribution of Ratings')"
            ]
          },
          "metadata": {
            "tags": []
          },
          "execution_count": 27
        },
        {
          "output_type": "display_data",
          "data": {
            "image/png": "[encoded data removed]",
            "text/plain": [
              "<Figure size 432x288 with 1 Axes>"
            ]
          },
          "metadata": {
            "tags": []
          }
        }
      ]
    },
    {
      "cell_type": "code",
      "metadata": {
        "id": "Armn2zGWUOqX",
        "colab_type": "code",
        "colab": {}
      },
      "source": [
        "# Top 3 Spots\n",
        "df_sorted = df.sort_values('Rating', ascending=False)\n",
        "top3 = df_sorted.iloc[:3]\n",
        "top10 = df_sorted.iloc[:10]"
      ],
      "execution_count": 0,
      "outputs": []
    },
    {
      "cell_type": "code",
      "metadata": {
        "id": "xq6G4hWvVLuT",
        "colab_type": "code",
        "colab": {
          "base_uri": "https://localhost:8080/",
          "height": 166
        },
        "outputId": "4d3dd13b-1cea-46fa-fea0-c76447b35178"
      },
      "source": [
        "# sns.barplot(x='Reviews', y='Name', data=top3)\n",
        "\n",
        "top3.head()"
      ],
      "execution_count": 30,
      "outputs": [
        {
          "output_type": "execute_result",
          "data": {
            "text/html": [
              "<div>\n",
              "<style scoped>\n",
              "    .dataframe tbody tr th:only-of-type {\n",
              "        vertical-align: middle;\n",
              "    }\n",
              "\n",
              "    .dataframe tbody tr th {\n",
              "        vertical-align: top;\n",
              "    }\n",
              "\n",
              "    .dataframe thead th {\n",
              "        text-align: right;\n",
              "    }\n",
              "</style>\n",
              "<table border=\"1\" class=\"dataframe\">\n",
              "  <thead>\n",
              "    <tr style=\"text-align: right;\">\n",
              "      <th></th>\n",
              "      <th>Reviews</th>\n",
              "      <th>Rating</th>\n",
              "      <th>Lat</th>\n",
              "      <th>Long</th>\n",
              "      <th>Location</th>\n",
              "      <th>Phone</th>\n",
              "    </tr>\n",
              "    <tr>\n",
              "      <th>Name</th>\n",
              "      <th></th>\n",
              "      <th></th>\n",
              "      <th></th>\n",
              "      <th></th>\n",
              "      <th></th>\n",
              "      <th></th>\n",
              "    </tr>\n",
              "  </thead>\n",
              "  <tbody>\n",
              "    <tr>\n",
              "      <th>Tacos y Papas</th>\n",
              "      <td>4</td>\n",
              "      <td>5.0</td>\n",
              "      <td>34.046400</td>\n",
              "      <td>-118.272158</td>\n",
              "      <td>[1099 Albany St, Los Angeles, CA 90015]</td>\n",
              "      <td></td>\n",
              "    </tr>\n",
              "    <tr>\n",
              "      <th>Tacos La Tehuanita</th>\n",
              "      <td>119</td>\n",
              "      <td>5.0</td>\n",
              "      <td>34.121169</td>\n",
              "      <td>-118.205555</td>\n",
              "      <td>[5100 York Blvd, Los Angeles, CA 90042]</td>\n",
              "      <td>(323) 243-7715</td>\n",
              "    </tr>\n",
              "    <tr>\n",
              "      <th>Marinate</th>\n",
              "      <td>166</td>\n",
              "      <td>5.0</td>\n",
              "      <td>34.083704</td>\n",
              "      <td>-118.309666</td>\n",
              "      <td>[1842 W Washington Blvd, Los Angeles, CA 90007]</td>\n",
              "      <td>(323) 325-3237</td>\n",
              "    </tr>\n",
              "  </tbody>\n",
              "</table>\n",
              "</div>"
            ],
            "text/plain": [
              "                    Reviews  ...           Phone\n",
              "Name                         ...                \n",
              "Tacos y Papas             4  ...                \n",
              "Tacos La Tehuanita      119  ...  (323) 243-7715\n",
              "Marinate                166  ...  (323) 325-3237\n",
              "\n",
              "[3 rows x 6 columns]"
            ]
          },
          "metadata": {
            "tags": []
          },
          "execution_count": 30
        }
      ]
    },
    {
      "cell_type": "code",
      "metadata": {
        "id": "IKvh-1ncVdDK",
        "colab_type": "code",
        "colab": {
          "base_uri": "https://localhost:8080/",
          "height": 638
        },
        "outputId": "d3bf78c4-8c82-4c64-93a0-368bbb2d0170"
      },
      "source": [
        "# Explore Ratings & Reviews\n",
        "plt.figure(figsize=(10,10))\n",
        "sns.scatterplot(x='Rating', y='Reviews', data=df, palette='pastel', color='0.4', s=100)\n",
        "plt.title('Reviews & Ratings For Taco Yelp Listings in and around DTLA')"
      ],
      "execution_count": 67,
      "outputs": [
        {
          "output_type": "execute_result",
          "data": {
            "text/plain": [
              "Text(0.5, 1.0, 'Reviews & Ratings For Taco Yelp Listings in and around DTLA')"
            ]
          },
          "metadata": {
            "tags": []
          },
          "execution_count": 67
        },
        {
          "output_type": "display_data",
          "data": {
            "image/png": "[encoded data removed]",
            "text/plain": [
              "<Figure size 720x720 with 1 Axes>"
            ]
          },
          "metadata": {
            "tags": []
          }
        }
      ]
    },
    {
      "cell_type": "code",
      "metadata": {
        "id": "loBlrlMoV6ka",
        "colab_type": "code",
        "colab": {}
      },
      "source": [
        ""
      ],
      "execution_count": 0,
      "outputs": []
    }
  ]
}