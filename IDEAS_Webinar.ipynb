{
  "nbformat": 4,
  "nbformat_minor": 0,
  "metadata": {
    "colab": {
      "name": "IDEAS Webinar",
      "provenance": [],
      "authorship_tag": "ABX9TyMOOcrOqHJo4XFWwav8Qu2M"
    },
    "kernelspec": {
      "name": "python3",
      "display_name": "Python 3"
    }
  },
  "cells": [
    {
      "cell_type": "markdown",
      "metadata": {
        "id": "6F3xx0DDgsBU",
        "colab_type": "text"
      },
      "source": [
        "**Use Case: Locations with Free Wifi**"
      ]
    },
    {
      "cell_type": "code",
      "metadata": {
        "id": "M5nrUl87A9IY",
        "colab_type": "code",
        "colab": {}
      },
      "source": [
        "# Yelp Documentation https://www.yelp.com/developers/documentation/v3/business_search"
      ],
      "execution_count": 0,
      "outputs": []
    },
    {
      "cell_type": "code",
      "metadata": {
        "id": "MSTr3Jyagoii",
        "colab_type": "code",
        "colab": {}
      },
      "source": [
        "# Setup Libraries\n",
        "import requests as r\n",
        "import numpy as np\n",
        "import pandas as pd\n",
        "from itertools import product"
      ],
      "execution_count": 0,
      "outputs": []
    },
    {
      "cell_type": "code",
      "metadata": {
        "id": "-z3aKY9Xg10U",
        "colab_type": "code",
        "colab": {}
      },
      "source": [
        "# Credentials: key, url, headers\n",
        "url = 'https://api.yelp.com/v3/businesses/search'\n",
        "key = ''\n",
        "headers = {\n",
        "    'Authorization': 'Bearer %s' % key\n",
        "}"
      ],
      "execution_count": 0,
      "outputs": []
    },
    {
      "cell_type": "code",
      "metadata": {
        "id": "eqTGsccng4oN",
        "colab_type": "code",
        "outputId": "97ea2b38-1329-418b-c185-7f3dffc29ce7",
        "colab": {
          "base_uri": "https://localhost:8080/",
          "height": 1000
        }
      },
      "source": [
        "# 1st Scrape: \n",
        "# Define search parameters: location, limit, term, radius\n",
        "parameters = {\n",
        "    'location': '1200 West 7th Street, Los Angeles CA 90017',\n",
        "    'limit': 3,\n",
        "    'term': 'free wifi',\n",
        "    'radius': 805\n",
        "}\n",
        "\n",
        "# Run parameters through response and save json as data\n",
        "response = r.get(url, headers=headers, params=parameters)\n",
        "data = response.json()\n",
        "data\n",
        "\n",
        "# **Make sure to walk through the results to ID key data fields"
      ],
      "execution_count": 0,
      "outputs": [
        {
          "output_type": "execute_result",
          "data": {
            "text/plain": [
              "{'businesses': [{'alias': 'brasil-kiss-coffeebar-los-angeles-3',\n",
              "   'categories': [{'alias': 'coffee', 'title': 'Coffee & Tea'},\n",
              "    {'alias': 'brazilian', 'title': 'Brazilian'},\n",
              "    {'alias': 'breakfast_brunch', 'title': 'Breakfast & Brunch'}],\n",
              "   'coordinates': {'latitude': 34.0519690715975,\n",
              "    'longitude': -118.262663157451},\n",
              "   'display_phone': '(213) 785-5131',\n",
              "   'distance': 297.22449992187734,\n",
              "   'id': 'ABr1g2u9p-H-coNgwpHkUg',\n",
              "   'image_url': 'https://s3-media4.fl.yelpcdn.com/bphoto/WCkCdQDLBbM3_Ndq6I9Y7Q/o.jpg',\n",
              "   'is_closed': False,\n",
              "   'location': {'address1': '1010 Wilshire Blvd',\n",
              "    'address2': None,\n",
              "    'address3': '',\n",
              "    'city': 'Los Angeles',\n",
              "    'country': 'US',\n",
              "    'display_address': ['1010 Wilshire Blvd', 'Los Angeles, CA 90017'],\n",
              "    'state': 'CA',\n",
              "    'zip_code': '90017'},\n",
              "   'name': 'Brasil Kiss Coffeebar',\n",
              "   'phone': '+12137855131',\n",
              "   'price': '$$',\n",
              "   'rating': 4.0,\n",
              "   'review_count': 236,\n",
              "   'transactions': ['delivery', 'pickup'],\n",
              "   'url': 'https://www.yelp.com/biz/brasil-kiss-coffeebar-los-angeles-3?adjust_creative=bdJBYIrivjkgp_4AV--1ew&utm_campaign=yelp_api_v3&utm_medium=api_v3_business_search&utm_source=bdJBYIrivjkgp_4AV--1ew'},\n",
              "  {'alias': 'philz-coffee-los-angeles-2',\n",
              "   'categories': [{'alias': 'coffee', 'title': 'Coffee & Tea'},\n",
              "    {'alias': 'breakfast_brunch', 'title': 'Breakfast & Brunch'}],\n",
              "   'coordinates': {'latitude': 34.0465343, 'longitude': -118.2592814},\n",
              "   'display_phone': '(213) 213-2616',\n",
              "   'distance': 781.6319481961642,\n",
              "   'id': 'Aohc9uWSAxILFev2TwiMVQ',\n",
              "   'image_url': 'https://s3-media1.fl.yelpcdn.com/bphoto/xXeoPjw4JPsL9EuDjkDznQ/o.jpg',\n",
              "   'is_closed': False,\n",
              "   'location': {'address1': '801 S Hope St',\n",
              "    'address2': 'Unit A',\n",
              "    'address3': '',\n",
              "    'city': 'Los Angeles',\n",
              "    'country': 'US',\n",
              "    'display_address': ['801 S Hope St', 'Unit A', 'Los Angeles, CA 90017'],\n",
              "    'state': 'CA',\n",
              "    'zip_code': '90017'},\n",
              "   'name': 'Philz Coffee',\n",
              "   'phone': '+12132132616',\n",
              "   'price': '$',\n",
              "   'rating': 4.5,\n",
              "   'review_count': 928,\n",
              "   'transactions': [],\n",
              "   'url': 'https://www.yelp.com/biz/philz-coffee-los-angeles-2?adjust_creative=bdJBYIrivjkgp_4AV--1ew&utm_campaign=yelp_api_v3&utm_medium=api_v3_business_search&utm_source=bdJBYIrivjkgp_4AV--1ew'},\n",
              "  {'alias': 'fairgrounds-coffee-and-tea-los-angeles-4',\n",
              "   'categories': [{'alias': 'coffee', 'title': 'Coffee & Tea'}],\n",
              "   'coordinates': {'latitude': 34.05181, 'longitude': -118.26785},\n",
              "   'display_phone': '(213) 378-0382',\n",
              "   'distance': 186.90388849037126,\n",
              "   'id': 'hERxbudMM_AjSfrDiaMowA',\n",
              "   'image_url': 'https://s3-media2.fl.yelpcdn.com/bphoto/ZkUehuQR9xSIVEev4NuOlA/o.jpg',\n",
              "   'is_closed': False,\n",
              "   'location': {'address1': '1256 W 7th St',\n",
              "    'address2': None,\n",
              "    'address3': '',\n",
              "    'city': 'Los Angeles',\n",
              "    'country': 'US',\n",
              "    'display_address': ['1256 W 7th St', 'Los Angeles, CA 90017'],\n",
              "    'state': 'CA',\n",
              "    'zip_code': '90017'},\n",
              "   'name': 'Fairgrounds Coffee and Tea',\n",
              "   'phone': '+12133780382',\n",
              "   'price': '$$',\n",
              "   'rating': 4.0,\n",
              "   'review_count': 70,\n",
              "   'transactions': ['delivery'],\n",
              "   'url': 'https://www.yelp.com/biz/fairgrounds-coffee-and-tea-los-angeles-4?adjust_creative=bdJBYIrivjkgp_4AV--1ew&utm_campaign=yelp_api_v3&utm_medium=api_v3_business_search&utm_source=bdJBYIrivjkgp_4AV--1ew'}],\n",
              " 'region': {'center': {'latitude': 34.051226417953856,\n",
              "   'longitude': -118.26576232910156}},\n",
              " 'total': 37}"
            ]
          },
          "metadata": {
            "tags": []
          },
          "execution_count": 3
        }
      ]
    },
    {
      "cell_type": "markdown",
      "metadata": {
        "id": "Bz7wBFiHmr4G",
        "colab_type": "text"
      },
      "source": [
        "**Scale Scrape: 2 Locations, Multiple Steps**"
      ]
    },
    {
      "cell_type": "code",
      "metadata": {
        "id": "6zP-im3_iaOV",
        "colab_type": "code",
        "outputId": "be0d48e3-bb31-4b4f-92ce-8e1c2ecb84de",
        "colab": {
          "base_uri": "https://localhost:8080/",
          "height": 35
        }
      },
      "source": [
        "# Include 2 addresses and 500 results\n",
        "addresses = ['1200 West 7th Street, Los Angeles CA 90017', '200 North Spring Street, Los Angeles CA 90012']\n",
        "offset = np.arange(0,500,50)\n",
        "\n",
        "# Create list of tuples of combinations between addresses and offset\n",
        "tuples = list(product(addresses,offset))\n",
        "\n",
        "# View first 5\n",
        "tuples[15]"
      ],
      "execution_count": 0,
      "outputs": [
        {
          "output_type": "execute_result",
          "data": {
            "text/plain": [
              "('200 North Spring Street, Los Angeles CA 90012', 250)"
            ]
          },
          "metadata": {
            "tags": []
          },
          "execution_count": 7
        }
      ]
    },
    {
      "cell_type": "code",
      "metadata": {
        "id": "L7DN-Fhjmh3Y",
        "colab_type": "code",
        "outputId": "b6694992-90fd-42d3-f90c-3800f04a9404",
        "colab": {
          "base_uri": "https://localhost:8080/",
          "height": 245
        }
      },
      "source": [
        "# Use a for loop, store results into list of lists, turn into DataFrame\n",
        "# Empty List\n",
        "listings = []\n",
        "\n",
        "# Future DF columns\n",
        "cols = ['Name', 'Reviews','Rating','Address','Phone']\n",
        "\n",
        "# For Loop\n",
        "for address, step in tuples:\n",
        "  search_parameters = {\n",
        "      'location': address,\n",
        "      'term': 'free wifi',\n",
        "      'radius': 805,\n",
        "      'limit': 50,\n",
        "      'offset': step}\n",
        "  resp = r.get(url, headers=headers, params=search_parameters)\n",
        "  raw_data = resp.json()\n",
        "  for business in raw_data['businesses']:\n",
        "    name = business['name']\n",
        "    reviews = business['review_count']\n",
        "    rating = business['rating']\n",
        "    location = business['location']['display_address'][0]\n",
        "    phone = business['display_phone']\n",
        "    listings.append([name, reviews, rating, location, phone])\n",
        "  df = pd.DataFrame.from_records(listings, index='Name', columns=cols)\n",
        "print(f'Total Records: {len(df)}')\n",
        "df.head()"
      ],
      "execution_count": 0,
      "outputs": [
        {
          "output_type": "stream",
          "text": [
            "Total Records: 97\n"
          ],
          "name": "stdout"
        },
        {
          "output_type": "execute_result",
          "data": {
            "text/html": [
              "<div>\n",
              "<style scoped>\n",
              "    .dataframe tbody tr th:only-of-type {\n",
              "        vertical-align: middle;\n",
              "    }\n",
              "\n",
              "    .dataframe tbody tr th {\n",
              "        vertical-align: top;\n",
              "    }\n",
              "\n",
              "    .dataframe thead th {\n",
              "        text-align: right;\n",
              "    }\n",
              "</style>\n",
              "<table border=\"1\" class=\"dataframe\">\n",
              "  <thead>\n",
              "    <tr style=\"text-align: right;\">\n",
              "      <th></th>\n",
              "      <th>Reviews</th>\n",
              "      <th>Rating</th>\n",
              "      <th>Address</th>\n",
              "      <th>Phone</th>\n",
              "    </tr>\n",
              "    <tr>\n",
              "      <th>Name</th>\n",
              "      <th></th>\n",
              "      <th></th>\n",
              "      <th></th>\n",
              "      <th></th>\n",
              "    </tr>\n",
              "  </thead>\n",
              "  <tbody>\n",
              "    <tr>\n",
              "      <th>Brasil Kiss Coffeebar</th>\n",
              "      <td>236</td>\n",
              "      <td>4.0</td>\n",
              "      <td>1010 Wilshire Blvd</td>\n",
              "      <td>(213) 785-5131</td>\n",
              "    </tr>\n",
              "    <tr>\n",
              "      <th>Philz Coffee</th>\n",
              "      <td>928</td>\n",
              "      <td>4.5</td>\n",
              "      <td>801 S Hope St</td>\n",
              "      <td>(213) 213-2616</td>\n",
              "    </tr>\n",
              "    <tr>\n",
              "      <th>Fairgrounds Coffee and Tea</th>\n",
              "      <td>70</td>\n",
              "      <td>4.0</td>\n",
              "      <td>1256 W 7th St</td>\n",
              "      <td>(213) 378-0382</td>\n",
              "    </tr>\n",
              "    <tr>\n",
              "      <th>Café WG</th>\n",
              "      <td>30</td>\n",
              "      <td>3.5</td>\n",
              "      <td>900 Wilshire Blvd</td>\n",
              "      <td>(213) 439-9025</td>\n",
              "    </tr>\n",
              "    <tr>\n",
              "      <th>Kachi Deli Cafe &amp; Grill</th>\n",
              "      <td>280</td>\n",
              "      <td>4.0</td>\n",
              "      <td>1055 Wilshire Blvd</td>\n",
              "      <td>(213) 482-4553</td>\n",
              "    </tr>\n",
              "  </tbody>\n",
              "</table>\n",
              "</div>"
            ],
            "text/plain": [
              "                            Reviews  Rating             Address           Phone\n",
              "Name                                                                           \n",
              "Brasil Kiss Coffeebar           236     4.0  1010 Wilshire Blvd  (213) 785-5131\n",
              "Philz Coffee                    928     4.5       801 S Hope St  (213) 213-2616\n",
              "Fairgrounds Coffee and Tea       70     4.0       1256 W 7th St  (213) 378-0382\n",
              "Café WG                          30     3.5   900 Wilshire Blvd  (213) 439-9025\n",
              "Kachi Deli Cafe & Grill         280     4.0  1055 Wilshire Blvd  (213) 482-4553"
            ]
          },
          "metadata": {
            "tags": []
          },
          "execution_count": 9
        }
      ]
    },
    {
      "cell_type": "code",
      "metadata": {
        "id": "ZYsPGnj8o3WG",
        "colab_type": "code",
        "outputId": "6b0b9f14-84df-4261-8ed5-177563f4fba7",
        "colab": {
          "base_uri": "https://localhost:8080/",
          "height": 461
        }
      },
      "source": [
        "# Surface Level Explortion\n",
        "display(df.info())\n",
        "display(df.describe())"
      ],
      "execution_count": 0,
      "outputs": [
        {
          "output_type": "stream",
          "text": [
            "<class 'pandas.core.frame.DataFrame'>\n",
            "Index: 97 entries, Brasil Kiss Coffeebar to Nicole Juicery\n",
            "Data columns (total 4 columns):\n",
            "Reviews    97 non-null int64\n",
            "Rating     97 non-null float64\n",
            "Address    97 non-null object\n",
            "Phone      97 non-null object\n",
            "dtypes: float64(1), int64(1), object(2)\n",
            "memory usage: 6.3+ KB\n"
          ],
          "name": "stdout"
        },
        {
          "output_type": "display_data",
          "data": {
            "text/plain": [
              "None"
            ]
          },
          "metadata": {
            "tags": []
          }
        },
        {
          "output_type": "display_data",
          "data": {
            "text/html": [
              "<div>\n",
              "<style scoped>\n",
              "    .dataframe tbody tr th:only-of-type {\n",
              "        vertical-align: middle;\n",
              "    }\n",
              "\n",
              "    .dataframe tbody tr th {\n",
              "        vertical-align: top;\n",
              "    }\n",
              "\n",
              "    .dataframe thead th {\n",
              "        text-align: right;\n",
              "    }\n",
              "</style>\n",
              "<table border=\"1\" class=\"dataframe\">\n",
              "  <thead>\n",
              "    <tr style=\"text-align: right;\">\n",
              "      <th></th>\n",
              "      <th>Reviews</th>\n",
              "      <th>Rating</th>\n",
              "    </tr>\n",
              "  </thead>\n",
              "  <tbody>\n",
              "    <tr>\n",
              "      <th>count</th>\n",
              "      <td>97.000000</td>\n",
              "      <td>97.000000</td>\n",
              "    </tr>\n",
              "    <tr>\n",
              "      <th>mean</th>\n",
              "      <td>418.257732</td>\n",
              "      <td>3.793814</td>\n",
              "    </tr>\n",
              "    <tr>\n",
              "      <th>std</th>\n",
              "      <td>936.387710</td>\n",
              "      <td>0.756061</td>\n",
              "    </tr>\n",
              "    <tr>\n",
              "      <th>min</th>\n",
              "      <td>2.000000</td>\n",
              "      <td>1.500000</td>\n",
              "    </tr>\n",
              "    <tr>\n",
              "      <th>25%</th>\n",
              "      <td>50.000000</td>\n",
              "      <td>3.500000</td>\n",
              "    </tr>\n",
              "    <tr>\n",
              "      <th>50%</th>\n",
              "      <td>108.000000</td>\n",
              "      <td>4.000000</td>\n",
              "    </tr>\n",
              "    <tr>\n",
              "      <th>75%</th>\n",
              "      <td>302.000000</td>\n",
              "      <td>4.500000</td>\n",
              "    </tr>\n",
              "    <tr>\n",
              "      <th>max</th>\n",
              "      <td>6117.000000</td>\n",
              "      <td>5.000000</td>\n",
              "    </tr>\n",
              "  </tbody>\n",
              "</table>\n",
              "</div>"
            ],
            "text/plain": [
              "           Reviews     Rating\n",
              "count    97.000000  97.000000\n",
              "mean    418.257732   3.793814\n",
              "std     936.387710   0.756061\n",
              "min       2.000000   1.500000\n",
              "25%      50.000000   3.500000\n",
              "50%     108.000000   4.000000\n",
              "75%     302.000000   4.500000\n",
              "max    6117.000000   5.000000"
            ]
          },
          "metadata": {
            "tags": []
          }
        }
      ]
    },
    {
      "cell_type": "code",
      "metadata": {
        "id": "sant3417pYNe",
        "colab_type": "code",
        "outputId": "d2896229-71ef-4378-d4da-a37e56e640a9",
        "colab": {
          "base_uri": "https://localhost:8080/",
          "height": 439
        }
      },
      "source": [
        "# Check Most Reviews & Ratings\n",
        "df = df.sort_values(by='Reviews', ascending=False)\n",
        "display(df.head())\n",
        "df = df.sort_values(by='Rating', ascending=False)\n",
        "display(df.head())"
      ],
      "execution_count": 0,
      "outputs": [
        {
          "output_type": "display_data",
          "data": {
            "text/html": [
              "<div>\n",
              "<style scoped>\n",
              "    .dataframe tbody tr th:only-of-type {\n",
              "        vertical-align: middle;\n",
              "    }\n",
              "\n",
              "    .dataframe tbody tr th {\n",
              "        vertical-align: top;\n",
              "    }\n",
              "\n",
              "    .dataframe thead th {\n",
              "        text-align: right;\n",
              "    }\n",
              "</style>\n",
              "<table border=\"1\" class=\"dataframe\">\n",
              "  <thead>\n",
              "    <tr style=\"text-align: right;\">\n",
              "      <th></th>\n",
              "      <th>Reviews</th>\n",
              "      <th>Rating</th>\n",
              "      <th>Address</th>\n",
              "      <th>Phone</th>\n",
              "    </tr>\n",
              "    <tr>\n",
              "      <th>Name</th>\n",
              "      <th></th>\n",
              "      <th></th>\n",
              "      <th></th>\n",
              "      <th></th>\n",
              "    </tr>\n",
              "  </thead>\n",
              "  <tbody>\n",
              "    <tr>\n",
              "      <th>Philippe the Original</th>\n",
              "      <td>6117</td>\n",
              "      <td>4.0</td>\n",
              "      <td>1001 N Alameda St</td>\n",
              "      <td>(213) 628-3781</td>\n",
              "    </tr>\n",
              "    <tr>\n",
              "      <th>Eggslut</th>\n",
              "      <td>5673</td>\n",
              "      <td>4.0</td>\n",
              "      <td>317 S Broadway</td>\n",
              "      <td>(213) 625-0292</td>\n",
              "    </tr>\n",
              "    <tr>\n",
              "      <th>Original Pantry Cafe</th>\n",
              "      <td>2992</td>\n",
              "      <td>3.5</td>\n",
              "      <td>877 S Figueroa St</td>\n",
              "      <td>(213) 972-9279</td>\n",
              "    </tr>\n",
              "    <tr>\n",
              "      <th>Cafe Dulce</th>\n",
              "      <td>2127</td>\n",
              "      <td>4.0</td>\n",
              "      <td>134 Japanese Village Plz</td>\n",
              "      <td>(213) 346-9910</td>\n",
              "    </tr>\n",
              "    <tr>\n",
              "      <th>The Last Bookstore</th>\n",
              "      <td>2053</td>\n",
              "      <td>4.5</td>\n",
              "      <td>453 S Spring St</td>\n",
              "      <td>(213) 488-0599</td>\n",
              "    </tr>\n",
              "  </tbody>\n",
              "</table>\n",
              "</div>"
            ],
            "text/plain": [
              "                       Reviews  ...           Phone\n",
              "Name                            ...                \n",
              "Philippe the Original     6117  ...  (213) 628-3781\n",
              "Eggslut                   5673  ...  (213) 625-0292\n",
              "Original Pantry Cafe      2992  ...  (213) 972-9279\n",
              "Cafe Dulce                2127  ...  (213) 346-9910\n",
              "The Last Bookstore        2053  ...  (213) 488-0599\n",
              "\n",
              "[5 rows x 4 columns]"
            ]
          },
          "metadata": {
            "tags": []
          }
        },
        {
          "output_type": "display_data",
          "data": {
            "text/html": [
              "<div>\n",
              "<style scoped>\n",
              "    .dataframe tbody tr th:only-of-type {\n",
              "        vertical-align: middle;\n",
              "    }\n",
              "\n",
              "    .dataframe tbody tr th {\n",
              "        vertical-align: top;\n",
              "    }\n",
              "\n",
              "    .dataframe thead th {\n",
              "        text-align: right;\n",
              "    }\n",
              "</style>\n",
              "<table border=\"1\" class=\"dataframe\">\n",
              "  <thead>\n",
              "    <tr style=\"text-align: right;\">\n",
              "      <th></th>\n",
              "      <th>Reviews</th>\n",
              "      <th>Rating</th>\n",
              "      <th>Address</th>\n",
              "      <th>Phone</th>\n",
              "    </tr>\n",
              "    <tr>\n",
              "      <th>Name</th>\n",
              "      <th></th>\n",
              "      <th></th>\n",
              "      <th></th>\n",
              "      <th></th>\n",
              "    </tr>\n",
              "  </thead>\n",
              "  <tbody>\n",
              "    <tr>\n",
              "      <th>Tilt Coffee Bar</th>\n",
              "      <td>337</td>\n",
              "      <td>5.0</td>\n",
              "      <td>334 S Main St</td>\n",
              "      <td></td>\n",
              "    </tr>\n",
              "    <tr>\n",
              "      <th>Tea Master Matcha Cafe &amp; Green Tea Shop</th>\n",
              "      <td>1372</td>\n",
              "      <td>5.0</td>\n",
              "      <td>450 E 2nd St</td>\n",
              "      <td>(213) 680-1006</td>\n",
              "    </tr>\n",
              "    <tr>\n",
              "      <th>Orange County Pinballs</th>\n",
              "      <td>39</td>\n",
              "      <td>5.0</td>\n",
              "      <td>629 W Valencia Dr</td>\n",
              "      <td>(714) 451-6308</td>\n",
              "    </tr>\n",
              "    <tr>\n",
              "      <th>Your Thyme Cafe</th>\n",
              "      <td>28</td>\n",
              "      <td>5.0</td>\n",
              "      <td>123 Astronaut Ellison S Onizuka St</td>\n",
              "      <td>(213) 628-3173</td>\n",
              "    </tr>\n",
              "    <tr>\n",
              "      <th>Strada Eateria &amp; Coffee</th>\n",
              "      <td>273</td>\n",
              "      <td>5.0</td>\n",
              "      <td>119 E 5th St</td>\n",
              "      <td>(213) 822-4558</td>\n",
              "    </tr>\n",
              "  </tbody>\n",
              "</table>\n",
              "</div>"
            ],
            "text/plain": [
              "                                         Reviews  ...           Phone\n",
              "Name                                              ...                \n",
              "Tilt Coffee Bar                              337  ...                \n",
              "Tea Master Matcha Cafe & Green Tea Shop     1372  ...  (213) 680-1006\n",
              "Orange County Pinballs                        39  ...  (714) 451-6308\n",
              "Your Thyme Cafe                               28  ...  (213) 628-3173\n",
              "Strada Eateria & Coffee                      273  ...  (213) 822-4558\n",
              "\n",
              "[5 rows x 4 columns]"
            ]
          },
          "metadata": {
            "tags": []
          }
        }
      ]
    },
    {
      "cell_type": "code",
      "metadata": {
        "id": "zglqQjckpsyd",
        "colab_type": "code",
        "outputId": "c6d591f2-2caf-4a6d-882c-6f642665855b",
        "colab": {
          "base_uri": "https://localhost:8080/",
          "height": 284
        }
      },
      "source": [
        "# Explore Ratings & Reviews Distribution\n",
        "df['Rating'].hist()"
      ],
      "execution_count": 0,
      "outputs": [
        {
          "output_type": "execute_result",
          "data": {
            "text/plain": [
              "<matplotlib.axes._subplots.AxesSubplot at 0x7f3e03ade8d0>"
            ]
          },
          "metadata": {
            "tags": []
          },
          "execution_count": 13
        },
        {
          "output_type": "display_data",
          "data": {
            "image/png": "[encoded data removed]",
            "text/plain": [
              "<Figure size 432x288 with 1 Axes>"
            ]
          },
          "metadata": {
            "tags": []
          }
        }
      ]
    },
    {
      "cell_type": "code",
      "metadata": {
        "id": "QQqsMgWJf6fM",
        "colab_type": "code",
        "outputId": "05756677-4f4f-4cc0-b586-95b8a6901d5f",
        "colab": {
          "base_uri": "https://localhost:8080/",
          "height": 282
        }
      },
      "source": [
        "df['Reviews'].hist()"
      ],
      "execution_count": 0,
      "outputs": [
        {
          "output_type": "execute_result",
          "data": {
            "text/plain": [
              "<matplotlib.axes._subplots.AxesSubplot at 0x7f3e035507b8>"
            ]
          },
          "metadata": {
            "tags": []
          },
          "execution_count": 14
        },
        {
          "output_type": "display_data",
          "data": {
            "image/png": "[encoded data removed]",
            "text/plain": [
              "<Figure size 432x288 with 1 Axes>"
            ]
          },
          "metadata": {
            "tags": []
          }
        }
      ]
    },
    {
      "cell_type": "code",
      "metadata": {
        "id": "ZWB_R2_ff86I",
        "colab_type": "code",
        "colab": {}
      },
      "source": [
        ""
      ],
      "execution_count": 0,
      "outputs": []
    }
  ]
}