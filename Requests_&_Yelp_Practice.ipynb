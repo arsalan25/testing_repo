{
  "nbformat": 4,
  "nbformat_minor": 0,
  "metadata": {
    "colab": {
      "name": "Requests & Yelp Practice",
      "provenance": [],
      "authorship_tag": "ABX9TyM66WFKDDe/JiQKOkj/2hyr"
    },
    "kernelspec": {
      "name": "python3",
      "display_name": "Python 3"
    }
  },
  "cells": [
    {
      "cell_type": "code",
      "metadata": {
        "id": "DtWfpVEgvvkm",
        "colab_type": "code",
        "colab": {}
      },
      "source": [
        "# Setup\n",
        "import requests as r\n",
        "import pandas as pd\n",
        "from itertools import product\n",
        "import numpy as np"
      ],
      "execution_count": 0,
      "outputs": []
    },
    {
      "cell_type": "markdown",
      "metadata": {
        "id": "qo97q0s41yt7",
        "colab_type": "text"
      },
      "source": [
        "![picture](https://drive.google.com/uc?id=1XOBmVqKxA7QA1YPMWBcLvI3ZQDDLSp02)"
      ]
    },
    {
      "cell_type": "code",
      "metadata": {
        "id": "Ufcsourtv9lT",
        "colab_type": "code",
        "colab": {}
      },
      "source": [
        "# Credentials\n",
        "url = 'https://api.yelp.com/v3/businesses/search'\n",
        "key = '2DAEENERct1-cdmOJYoa-fud1SwrYN75TStPGc5pY3PL2w6iAqARMQlzxJXP1VzKbL-2wQJ_cOalA8ZCEK2pbTgfdibrB7KJ8DYVhsH0Ekg3YPeXaYjvFbWkYFeFXXYx'\n",
        "headers = {\n",
        "    'Authorization': 'Bearer %s' % key\n",
        "}\n"
      ],
      "execution_count": 0,
      "outputs": []
    },
    {
      "cell_type": "code",
      "metadata": {
        "id": "p9AaYkBKZVZh",
        "colab_type": "code",
        "outputId": "2f3cee51-95aa-4cfd-9193-719703530a39",
        "colab": {
          "base_uri": "https://localhost:8080/",
          "height": 939
        }
      },
      "source": [
        "# Test Scrape\n",
        "test_parameters = {\n",
        "    'location': '3215 Eagle Street, Los Angeles CA 90063',\n",
        "    'term': 'free wifi',\n",
        "    'radius': 805,\n",
        "    'limit': 3\n",
        "}\n",
        "\n",
        "response = r.get(url, headers=headers, params=test_parameters)\n",
        "data = response.json()\n",
        "data"
      ],
      "execution_count": 0,
      "outputs": [
        {
          "output_type": "execute_result",
          "data": {
            "text/plain": [
              "{'businesses': [{'alias': 'mary-alicias-mexican-restaurant-los-angeles',\n",
              "   'categories': [{'alias': 'mexican', 'title': 'Mexican'},\n",
              "    {'alias': 'cafes', 'title': 'Cafes'},\n",
              "    {'alias': 'breakfast_brunch', 'title': 'Breakfast & Brunch'}],\n",
              "   'coordinates': {'latitude': 34.035579, 'longitude': -118.201225},\n",
              "   'display_phone': '(323) 269-0339',\n",
              "   'distance': 137.65325027352577,\n",
              "   'id': 'nVV9OAXpBK2KCHGP-k5zHA',\n",
              "   'image_url': 'https://s3-media4.fl.yelpcdn.com/bphoto/gHany9H3hhUywAo1DCi9NQ/o.jpg',\n",
              "   'is_closed': False,\n",
              "   'location': {'address1': '3100 E 4th St',\n",
              "    'address2': '',\n",
              "    'address3': '',\n",
              "    'city': 'Los Angeles',\n",
              "    'country': 'US',\n",
              "    'display_address': ['3100 E 4th St', 'Los Angeles, CA 90063'],\n",
              "    'state': 'CA',\n",
              "    'zip_code': '90063'},\n",
              "   'name': \"Mary Alicia's Mexican Restaurant\",\n",
              "   'phone': '+13232690339',\n",
              "   'price': '$',\n",
              "   'rating': 4.0,\n",
              "   'review_count': 72,\n",
              "   'transactions': [],\n",
              "   'url': 'https://www.yelp.com/biz/mary-alicias-mexican-restaurant-los-angeles?adjust_creative=bdJBYIrivjkgp_4AV--1ew&utm_campaign=yelp_api_v3&utm_medium=api_v3_business_search&utm_source=bdJBYIrivjkgp_4AV--1ew'},\n",
              "  {'alias': 'barrancos-fruit-los-angeles',\n",
              "   'categories': [{'alias': 'shavedice', 'title': 'Shaved Ice'},\n",
              "    {'alias': 'mexican', 'title': 'Mexican'},\n",
              "    {'alias': 'juicebars', 'title': 'Juice Bars & Smoothies'}],\n",
              "   'coordinates': {'latitude': 34.037303, 'longitude': -118.193583},\n",
              "   'display_phone': '(626) 673-8040',\n",
              "   'distance': 672.6590887880086,\n",
              "   'id': 'aNEJ79mY8azdtOTlygeP9w',\n",
              "   'image_url': 'https://s3-media4.fl.yelpcdn.com/bphoto/LAaI7uFxPwABRVF_oZKZ2A/o.jpg',\n",
              "   'is_closed': False,\n",
              "   'location': {'address1': '3435 E 1st St',\n",
              "    'address2': None,\n",
              "    'address3': None,\n",
              "    'city': 'Los Angeles',\n",
              "    'country': 'US',\n",
              "    'display_address': ['3435 E 1st St', 'Los Angeles, CA 90063'],\n",
              "    'state': 'CA',\n",
              "    'zip_code': '90063'},\n",
              "   'name': \"Barranco's Fruit\",\n",
              "   'phone': '+16266738040',\n",
              "   'rating': 4.5,\n",
              "   'review_count': 23,\n",
              "   'transactions': [],\n",
              "   'url': 'https://www.yelp.com/biz/barrancos-fruit-los-angeles?adjust_creative=bdJBYIrivjkgp_4AV--1ew&utm_campaign=yelp_api_v3&utm_medium=api_v3_business_search&utm_source=bdJBYIrivjkgp_4AV--1ew'}],\n",
              " 'region': {'center': {'latitude': 34.034726386633615,\n",
              "   'longitude': -118.20018768310547}},\n",
              " 'total': 2}"
            ]
          },
          "metadata": {
            "tags": []
          },
          "execution_count": 3
        }
      ]
    },
    {
      "cell_type": "code",
      "metadata": {
        "id": "i_zQWEhyfMtt",
        "colab_type": "code",
        "outputId": "4c7cff65-efc9-4891-f36e-313e05aa57d7",
        "colab": {
          "base_uri": "https://localhost:8080/",
          "height": 250
        }
      },
      "source": [
        "# Scaled Scrape\n",
        "# Create Tuples\n",
        "addresses = ['3051 E 5th St Los Angeles, CA 90063', '1200 W 7th Street Los Angeles CA 90017']\n",
        "steps = np.arange(0,500,50)\n",
        "tuples = list(product(addresses, steps))\n",
        "\n",
        "# Empty list for list of lists, column names\n",
        "listings = []\n",
        "cols = ['Name', 'Address', 'Yelp Page', 'Phone', 'Reviews', 'Rating']\n",
        "\n",
        "# Loop through search parameters\n",
        "for address, step in tuples:\n",
        "  params = {\n",
        "      'location': address,\n",
        "      'term': 'free wifi',\n",
        "      'offset': step,\n",
        "      'limit': 50,\n",
        "      'radius': 1000}\n",
        "  response = r.get(url, headers=headers, params=params)\n",
        "  raw_data = response.json()    \n",
        "  for business in raw_data['businesses']:\n",
        "    name = business['name']\n",
        "    address = business['location']['display_address'][0]\n",
        "    yelp_page = business['url']\n",
        "    phone = business['phone']\n",
        "    reviews = business['review_count']\n",
        "    rating = business['rating']\n",
        "  listings.append([name, address, yelp_page, phone, reviews, rating])\n",
        "  df = pd.DataFrame.from_records(listings, index='Name', columns=cols)\n",
        "print(f'Number of Listings Scraped: {len(df)}')\n",
        "df.head()   "
      ],
      "execution_count": 0,
      "outputs": [
        {
          "output_type": "stream",
          "text": [
            "Number of Listings Scraped: 20\n"
          ],
          "name": "stdout"
        },
        {
          "output_type": "execute_result",
          "data": {
            "text/html": [
              "<div>\n",
              "<style scoped>\n",
              "    .dataframe tbody tr th:only-of-type {\n",
              "        vertical-align: middle;\n",
              "    }\n",
              "\n",
              "    .dataframe tbody tr th {\n",
              "        vertical-align: top;\n",
              "    }\n",
              "\n",
              "    .dataframe thead th {\n",
              "        text-align: right;\n",
              "    }\n",
              "</style>\n",
              "<table border=\"1\" class=\"dataframe\">\n",
              "  <thead>\n",
              "    <tr style=\"text-align: right;\">\n",
              "      <th></th>\n",
              "      <th>Address</th>\n",
              "      <th>Yelp Page</th>\n",
              "      <th>Phone</th>\n",
              "      <th>Reviews</th>\n",
              "      <th>Rating</th>\n",
              "    </tr>\n",
              "    <tr>\n",
              "      <th>Name</th>\n",
              "      <th></th>\n",
              "      <th></th>\n",
              "      <th></th>\n",
              "      <th></th>\n",
              "      <th></th>\n",
              "    </tr>\n",
              "  </thead>\n",
              "  <tbody>\n",
              "    <tr>\n",
              "      <th>McDonald's</th>\n",
              "      <td>3458 Whittier Blvd</td>\n",
              "      <td>https://www.yelp.com/biz/mcdonalds-los-angeles...</td>\n",
              "      <td>+13232632559</td>\n",
              "      <td>56</td>\n",
              "      <td>1.5</td>\n",
              "    </tr>\n",
              "    <tr>\n",
              "      <th>McDonald's</th>\n",
              "      <td>3051 E 5th St Los Angeles, CA 90063</td>\n",
              "      <td>https://www.yelp.com/biz/mcdonalds-los-angeles...</td>\n",
              "      <td>+13232632559</td>\n",
              "      <td>56</td>\n",
              "      <td>1.5</td>\n",
              "    </tr>\n",
              "    <tr>\n",
              "      <th>McDonald's</th>\n",
              "      <td>3051 E 5th St Los Angeles, CA 90063</td>\n",
              "      <td>https://www.yelp.com/biz/mcdonalds-los-angeles...</td>\n",
              "      <td>+13232632559</td>\n",
              "      <td>56</td>\n",
              "      <td>1.5</td>\n",
              "    </tr>\n",
              "    <tr>\n",
              "      <th>McDonald's</th>\n",
              "      <td>3051 E 5th St Los Angeles, CA 90063</td>\n",
              "      <td>https://www.yelp.com/biz/mcdonalds-los-angeles...</td>\n",
              "      <td>+13232632559</td>\n",
              "      <td>56</td>\n",
              "      <td>1.5</td>\n",
              "    </tr>\n",
              "    <tr>\n",
              "      <th>McDonald's</th>\n",
              "      <td>3051 E 5th St Los Angeles, CA 90063</td>\n",
              "      <td>https://www.yelp.com/biz/mcdonalds-los-angeles...</td>\n",
              "      <td>+13232632559</td>\n",
              "      <td>56</td>\n",
              "      <td>1.5</td>\n",
              "    </tr>\n",
              "  </tbody>\n",
              "</table>\n",
              "</div>"
            ],
            "text/plain": [
              "                                        Address  ... Rating\n",
              "Name                                             ...       \n",
              "McDonald's                   3458 Whittier Blvd  ...    1.5\n",
              "McDonald's  3051 E 5th St Los Angeles, CA 90063  ...    1.5\n",
              "McDonald's  3051 E 5th St Los Angeles, CA 90063  ...    1.5\n",
              "McDonald's  3051 E 5th St Los Angeles, CA 90063  ...    1.5\n",
              "McDonald's  3051 E 5th St Los Angeles, CA 90063  ...    1.5\n",
              "\n",
              "[5 rows x 5 columns]"
            ]
          },
          "metadata": {
            "tags": []
          },
          "execution_count": 7
        }
      ]
    },
    {
      "cell_type": "code",
      "metadata": {
        "id": "NSIIVoBZhamU",
        "colab_type": "code",
        "outputId": "21243e51-9190-46a5-9847-2772b9825258",
        "colab": {
          "base_uri": "https://localhost:8080/",
          "height": 333
        }
      },
      "source": [
        "df.hist()"
      ],
      "execution_count": 0,
      "outputs": [
        {
          "output_type": "execute_result",
          "data": {
            "text/plain": [
              "array([[<matplotlib.axes._subplots.AxesSubplot object at 0x7ff56d142160>,\n",
              "        <matplotlib.axes._subplots.AxesSubplot object at 0x7ff56d084d30>]],\n",
              "      dtype=object)"
            ]
          },
          "metadata": {
            "tags": []
          },
          "execution_count": 11
        },
        {
          "output_type": "display_data",
          "data": {
            "image/png": "[encoded data removed]",
            "text/plain": [
              "<Figure size 432x288 with 2 Axes>"
            ]
          },
          "metadata": {
            "tags": []
          }
        }
      ]
    },
    {
      "cell_type": "code",
      "metadata": {
        "id": "18dU9euBinek",
        "colab_type": "code",
        "colab": {}
      },
      "source": [
        ""
      ],
      "execution_count": 0,
      "outputs": []
    }
  ]
}