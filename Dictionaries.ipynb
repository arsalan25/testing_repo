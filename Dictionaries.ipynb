{
  "nbformat": 4,
  "nbformat_minor": 0,
  "metadata": {
    "colab": {
      "name": "Dictionaries",
      "provenance": []
    },
    "kernelspec": {
      "name": "python3",
      "display_name": "Python 3"
    }
  },
  "cells": [
    {
      "cell_type": "code",
      "metadata": {
        "id": "uMagbGGKV_8V",
        "colab_type": "code",
        "outputId": "ca111bb8-49d0-4f37-f300-7318b946d023",
        "colab": {
          "base_uri": "https://localhost:8080/",
          "height": 34
        }
      },
      "source": [
        "# Define dictionary\n",
        "villains = {\n",
        "    'daredevil': 'kingpin',\n",
        "    'x-men': 'apocalypse',\n",
        "    'batman': 'bane'\n",
        "}\n",
        "villains"
      ],
      "execution_count": 0,
      "outputs": [
        {
          "output_type": "execute_result",
          "data": {
            "text/plain": [
              "{'batman': 'bane', 'daredevil': 'kingpin', 'x-men': 'apocalypse'}"
            ]
          },
          "metadata": {
            "tags": []
          },
          "execution_count": 1
        }
      ]
    },
    {
      "cell_type": "code",
      "metadata": {
        "id": "Lk_-H8DrWiyx",
        "colab_type": "code",
        "outputId": "0650868b-78ea-40de-ac06-4014b8c0336a",
        "colab": {
          "base_uri": "https://localhost:8080/",
          "height": 34
        }
      },
      "source": [
        "# Retreive value by specifying key\n",
        "villains['x-men']"
      ],
      "execution_count": 0,
      "outputs": [
        {
          "output_type": "execute_result",
          "data": {
            "text/plain": [
              "'apocalypse'"
            ]
          },
          "metadata": {
            "tags": []
          },
          "execution_count": 2
        }
      ]
    },
    {
      "cell_type": "code",
      "metadata": {
        "id": "_EfXcJdpWrEQ",
        "colab_type": "code",
        "colab": {}
      },
      "source": [
        "# Add entry by adding key and value\n",
        "villains['deadpool'] = 'evil deadpool'"
      ],
      "execution_count": 0,
      "outputs": []
    },
    {
      "cell_type": "code",
      "metadata": {
        "id": "jU_kWr1CW2FA",
        "colab_type": "code",
        "outputId": "45372cad-6eaf-4550-de3c-cd11b97abc6e",
        "colab": {
          "base_uri": "https://localhost:8080/",
          "height": 84
        }
      },
      "source": [
        "villains"
      ],
      "execution_count": 0,
      "outputs": [
        {
          "output_type": "execute_result",
          "data": {
            "text/plain": [
              "{'batman': 'bane',\n",
              " 'daredevil': 'kingpin',\n",
              " 'deadpool': 'evil deadpool',\n",
              " 'x-men': 'apocalypse'}"
            ]
          },
          "metadata": {
            "tags": []
          },
          "execution_count": 4
        }
      ]
    },
    {
      "cell_type": "code",
      "metadata": {
        "id": "TOvRZxXtW3vQ",
        "colab_type": "code",
        "colab": {}
      },
      "source": [
        "# Update entry by assigning new value to key\n",
        "villains['x-men'] = 'magneto'"
      ],
      "execution_count": 0,
      "outputs": []
    },
    {
      "cell_type": "code",
      "metadata": {
        "id": "gMcXoyigXA0X",
        "colab_type": "code",
        "colab": {}
      },
      "source": [
        "# Delete by using del\n",
        "del villains['batman']"
      ],
      "execution_count": 0,
      "outputs": []
    },
    {
      "cell_type": "code",
      "metadata": {
        "id": "HBPGYju-XEy_",
        "colab_type": "code",
        "outputId": "e9be52ae-3e4b-454d-8d70-b1c6786ebfd6",
        "colab": {
          "base_uri": "https://localhost:8080/",
          "height": 34
        }
      },
      "source": [
        "# Can use ints as keys - workaround for index\n",
        "nums = {\n",
        "    0: \"plane\",\n",
        "    1: \"train\"\n",
        "}\n",
        "\n",
        "nums[0]"
      ],
      "execution_count": 0,
      "outputs": [
        {
          "output_type": "execute_result",
          "data": {
            "text/plain": [
              "'plane'"
            ]
          },
          "metadata": {
            "tags": []
          },
          "execution_count": 7
        }
      ]
    },
    {
      "cell_type": "code",
      "metadata": {
        "id": "ESFv7bKGYHla",
        "colab_type": "code",
        "colab": {}
      },
      "source": [
        "# Incrementally grow a dictionary\n",
        "# Can store lists as values\n",
        "my_profile = {}\n",
        "\n",
        "my_profile['jobs'] = ['analyst', 'strategist', 'sales', 'account exec']"
      ],
      "execution_count": 0,
      "outputs": []
    },
    {
      "cell_type": "code",
      "metadata": {
        "id": "oTAMW7h2Yx64",
        "colab_type": "code",
        "colab": {}
      },
      "source": [
        "# Can nest a dictionary within another\n",
        "my_profile['transportation'] = {\n",
        "    'daily_commute': 'bus',\n",
        "    'regular': 'walk',\n",
        "    'wishful_thinking': 'fly'\n",
        "}"
      ],
      "execution_count": 0,
      "outputs": []
    },
    {
      "cell_type": "code",
      "metadata": {
        "id": "tLYQ5a07ZBCY",
        "colab_type": "code",
        "outputId": "284a5762-545f-4e18-b121-f1150456ab0f",
        "colab": {
          "base_uri": "https://localhost:8080/",
          "height": 34
        }
      },
      "source": [
        "# Access item in list\n",
        "my_profile['jobs'][0]\n"
      ],
      "execution_count": 0,
      "outputs": [
        {
          "output_type": "execute_result",
          "data": {
            "text/plain": [
              "'analyst'"
            ]
          },
          "metadata": {
            "tags": []
          },
          "execution_count": 12
        }
      ]
    },
    {
      "cell_type": "code",
      "metadata": {
        "id": "Om0D9eg1ZQlw",
        "colab_type": "code",
        "outputId": "816da187-28a1-44bb-cc25-a7737a0de8e2",
        "colab": {
          "base_uri": "https://localhost:8080/",
          "height": 34
        }
      },
      "source": [
        "# Access nested key\n",
        "my_profile['transportation']['wishful_thinking']"
      ],
      "execution_count": 0,
      "outputs": [
        {
          "output_type": "execute_result",
          "data": {
            "text/plain": [
              "'fly'"
            ]
          },
          "metadata": {
            "tags": []
          },
          "execution_count": 14
        }
      ]
    },
    {
      "cell_type": "code",
      "metadata": {
        "id": "YZUYO5xFZTkw",
        "colab_type": "code",
        "outputId": "4ffbbc1e-898d-434b-921d-a9e61b426cf4",
        "colab": {
          "base_uri": "https://localhost:8080/",
          "height": 34
        }
      },
      "source": [
        "# Operators - in, not in\n",
        "'deadpool' in villains"
      ],
      "execution_count": 0,
      "outputs": [
        {
          "output_type": "execute_result",
          "data": {
            "text/plain": [
              "True"
            ]
          },
          "metadata": {
            "tags": []
          },
          "execution_count": 15
        }
      ]
    },
    {
      "cell_type": "code",
      "metadata": {
        "id": "y0x8xMCLc2pz",
        "colab_type": "code",
        "outputId": "ed2105ca-f755-462c-f9ac-008423c8d456",
        "colab": {
          "base_uri": "https://localhost:8080/",
          "height": 34
        }
      },
      "source": [
        "# Check existance of keys\n",
        "villains.get('deadpool')"
      ],
      "execution_count": 0,
      "outputs": [
        {
          "output_type": "execute_result",
          "data": {
            "text/plain": [
              "'evil deadpool'"
            ]
          },
          "metadata": {
            "tags": []
          },
          "execution_count": 16
        }
      ]
    },
    {
      "cell_type": "code",
      "metadata": {
        "id": "yJgg_6CqdLZJ",
        "colab_type": "code",
        "outputId": "62b44ea7-f04d-4913-823f-5968a12c5a99",
        "colab": {
          "base_uri": "https://localhost:8080/",
          "height": 34
        }
      },
      "source": [
        "# Get list of key-value pairs\n",
        "villains.items()\n",
        "\n",
        "# Turn into indexable list\n",
        "bad_list = list(villains.items())\n",
        "\n",
        "print(bad_list[2])"
      ],
      "execution_count": 0,
      "outputs": [
        {
          "output_type": "stream",
          "text": [
            "('deadpool', 'evil deadpool')\n"
          ],
          "name": "stdout"
        }
      ]
    },
    {
      "cell_type": "code",
      "metadata": {
        "id": "0Ew_B6F2dSs5",
        "colab_type": "code",
        "outputId": "13caad59-ee37-4968-f070-8e92f8bc4530",
        "colab": {
          "base_uri": "https://localhost:8080/",
          "height": 50
        }
      },
      "source": [
        "# Get keys & values only\n",
        "print(villains.keys())\n",
        "print(villains.values())"
      ],
      "execution_count": 0,
      "outputs": [
        {
          "output_type": "stream",
          "text": [
            "dict_keys(['daredevil', 'x-men', 'deadpool'])\n",
            "dict_values(['kingpin', 'magneto', 'evil deadpool'])\n"
          ],
          "name": "stdout"
        }
      ]
    },
    {
      "cell_type": "code",
      "metadata": {
        "id": "E9YPHq6xdwFo",
        "colab_type": "code",
        "outputId": "867c379d-03b2-4fae-96b7-34d1d3c5bb9b",
        "colab": {
          "base_uri": "https://localhost:8080/",
          "height": 34
        }
      },
      "source": [
        "# Can also remove specific item with pop\n",
        "villains.pop('deadpool')\n",
        "villains"
      ],
      "execution_count": 0,
      "outputs": [
        {
          "output_type": "execute_result",
          "data": {
            "text/plain": [
              "{'daredevil': 'kingpin', 'x-men': 'magneto'}"
            ]
          },
          "metadata": {
            "tags": []
          },
          "execution_count": 22
        }
      ]
    },
    {
      "cell_type": "code",
      "metadata": {
        "id": "d2Y7q86Id7TJ",
        "colab_type": "code",
        "outputId": "8677ba75-f3d2-4c3e-e2af-161f85909ecd",
        "colab": {
          "base_uri": "https://localhost:8080/",
          "height": 50
        }
      },
      "source": [
        "# Remove a random key-value pair\n",
        "print(villains.popitem())\n",
        "print(villains)"
      ],
      "execution_count": 0,
      "outputs": [
        {
          "output_type": "stream",
          "text": [
            "('x-men', 'magneto')\n",
            "{'daredevil': 'kingpin'}\n"
          ],
          "name": "stdout"
        }
      ]
    },
    {
      "cell_type": "code",
      "metadata": {
        "id": "i6wCTDxCeDwR",
        "colab_type": "code",
        "outputId": "0e758bfa-c519-40c0-8a8f-d9927f6815cf",
        "colab": {
          "base_uri": "https://localhost:8080/",
          "height": 34
        }
      },
      "source": [
        "# Update\n",
        "villains.update(daredevil='some_dude')\n",
        "villains"
      ],
      "execution_count": 0,
      "outputs": [
        {
          "output_type": "execute_result",
          "data": {
            "text/plain": [
              "{'daredevil': 'some_dude'}"
            ]
          },
          "metadata": {
            "tags": []
          },
          "execution_count": 27
        }
      ]
    },
    {
      "cell_type": "code",
      "metadata": {
        "id": "yWf-vFBnelYo",
        "colab_type": "code",
        "colab": {}
      },
      "source": [
        ""
      ],
      "execution_count": 0,
      "outputs": []
    }
  ]
}