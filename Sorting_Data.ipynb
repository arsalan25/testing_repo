{
  "nbformat": 4,
  "nbformat_minor": 0,
  "metadata": {
    "colab": {
      "name": "Sorting Data",
      "provenance": [],
      "include_colab_link": true
    },
    "kernelspec": {
      "name": "python3",
      "display_name": "Python 3"
    }
  },
  "cells": [
    {
      "cell_type": "markdown",
      "metadata": {
        "id": "view-in-github",
        "colab_type": "text"
      },
      "source": [
        "<a href=\"https://colab.research.google.com/github/juansvas/testing_repo/blob/master/Sorting_Data.ipynb\" target=\"_parent\"><img src=\"https://colab.research.google.com/assets/colab-badge.svg\" alt=\"Open In Colab\"/></a>"
      ]
    },
    {
      "cell_type": "code",
      "metadata": {
        "id": "6i1_HM-Ilh3i",
        "colab_type": "code",
        "colab": {}
      },
      "source": [
        "# Real Python Tutorial: https://realpython.com/courses/python-sorting-data/\n",
        "# Completion Cert: https://realpython.com/certificates/9f69bb89-e28c-4707-af48-44124fe33ab9/\n",
        "\n",
        "# Create list\n",
        "numbers = [6, 9, 3, 1]"
      ],
      "execution_count": 0,
      "outputs": []
    },
    {
      "cell_type": "code",
      "metadata": {
        "id": "fcSJ7j_ql8w8",
        "colab_type": "code",
        "colab": {
          "base_uri": "https://localhost:8080/",
          "height": 35
        },
        "outputId": "38df1b38-31ae-43a4-d179-c12cf9347f3b"
      },
      "source": [
        "# Sort list\n",
        "sorted(numbers)"
      ],
      "execution_count": 2,
      "outputs": [
        {
          "output_type": "execute_result",
          "data": {
            "text/plain": [
              "[1, 3, 6, 9]"
            ]
          },
          "metadata": {
            "tags": []
          },
          "execution_count": 2
        }
      ]
    },
    {
      "cell_type": "code",
      "metadata": {
        "id": "8ZXjmHuEl-Zi",
        "colab_type": "code",
        "colab": {}
      },
      "source": [
        "# Save sorted list as own variable\n",
        "numbers_sorted = sorted(numbers)"
      ],
      "execution_count": 0,
      "outputs": []
    },
    {
      "cell_type": "code",
      "metadata": {
        "id": "vJYxdIxUmMtS",
        "colab_type": "code",
        "colab": {
          "base_uri": "https://localhost:8080/",
          "height": 35
        },
        "outputId": "4b9e45ec-17fb-4101-d83d-0516459bf5f2"
      },
      "source": [
        "# Show sorted List\n",
        "numbers_sorted"
      ],
      "execution_count": 4,
      "outputs": [
        {
          "output_type": "execute_result",
          "data": {
            "text/plain": [
              "[1, 3, 6, 9]"
            ]
          },
          "metadata": {
            "tags": []
          },
          "execution_count": 4
        }
      ]
    },
    {
      "cell_type": "code",
      "metadata": {
        "id": "aEK6JAvomOiD",
        "colab_type": "code",
        "colab": {}
      },
      "source": [
        "# Create a tuple and a set\n",
        "numbers_tuple = (6, 9, 3, 1)\n",
        "numbers_set = {5, 5, 10, 1, 0}"
      ],
      "execution_count": 0,
      "outputs": []
    },
    {
      "cell_type": "code",
      "metadata": {
        "id": "9Eb8rLtRmSlR",
        "colab_type": "code",
        "colab": {
          "base_uri": "https://localhost:8080/",
          "height": 52
        },
        "outputId": "c381205d-acc2-46a0-ab30-4f019626eee0"
      },
      "source": [
        "# Create own variables for sorted tuple and set\n",
        "numbers_tuple_sorted = sorted(numbers_tuple)\n",
        "numbers_set_sorted = sorted(numbers_set)\n",
        "\n",
        "# Results are both lists even though original objects were a tuple and a set\n",
        "print(numbers_tuple_sorted)\n",
        "print(numbers_set_sorted)"
      ],
      "execution_count": 8,
      "outputs": [
        {
          "output_type": "stream",
          "text": [
            "[1, 3, 6, 9]\n",
            "[0, 1, 5, 10]\n"
          ],
          "name": "stdout"
        }
      ]
    },
    {
      "cell_type": "code",
      "metadata": {
        "id": "5luAILSDnOWE",
        "colab_type": "code",
        "colab": {
          "base_uri": "https://localhost:8080/",
          "height": 52
        },
        "outputId": "9839cc0e-186b-4e5c-a2db-48184d74746a"
      },
      "source": [
        "# Sorting Strings\n",
        "# String of numbers\n",
        "string_number_value = '34521'\n",
        "\n",
        "# String of text\n",
        "string_value = \"I like to sort!\"\n",
        "\n",
        "# Sorted versions\n",
        "sorted_string_number = sorted(string_number_value)\n",
        "sorted_string_value = sorted(string_value)\n",
        "\n",
        "# Check output\n",
        "print(sorted_string_number)\n",
        "print(sorted_string_value)\n",
        "\n",
        "# Note - sorting text order; Spaces, Special characters, Capital letters, lower-case letters"
      ],
      "execution_count": 11,
      "outputs": [
        {
          "output_type": "stream",
          "text": [
            "['1', '2', '3', '4', '5']\n",
            "[' ', ' ', ' ', '!', 'I', 'e', 'i', 'k', 'l', 'o', 'o', 'r', 's', 't', 't']\n"
          ],
          "name": "stdout"
        }
      ]
    },
    {
      "cell_type": "code",
      "metadata": {
        "id": "NvorAUYAoHlV",
        "colab_type": "code",
        "colab": {
          "base_uri": "https://localhost:8080/",
          "height": 35
        },
        "outputId": "3202db40-7bac-4269-8392-cd0ed943d001"
      },
      "source": [
        "# Split string at the spaces\n",
        "sorted_string_words = sorted(string_value.split())\n",
        "sorted_string_words"
      ],
      "execution_count": 12,
      "outputs": [
        {
          "output_type": "execute_result",
          "data": {
            "text/plain": [
              "['I', 'like', 'sort!', 'to']"
            ]
          },
          "metadata": {
            "tags": []
          },
          "execution_count": 12
        }
      ]
    },
    {
      "cell_type": "code",
      "metadata": {
        "id": "DTXM8rU_oxjA",
        "colab_type": "code",
        "colab": {
          "base_uri": "https://localhost:8080/",
          "height": 35
        },
        "outputId": "a68926e3-9a46-4869-b951-6b318098f573"
      },
      "source": [
        "# Turn sorted words list back into a statement by joining at the spaces\n",
        "\" \".join(sorted_string_words)"
      ],
      "execution_count": 13,
      "outputs": [
        {
          "output_type": "execute_result",
          "data": {
            "text/plain": [
              "'I like sort! to'"
            ]
          },
          "metadata": {
            "tags": []
          },
          "execution_count": 13
        }
      ]
    },
    {
      "cell_type": "code",
      "metadata": {
        "id": "T883Lz_lpDQ_",
        "colab_type": "code",
        "colab": {
          "base_uri": "https://localhost:8080/",
          "height": 35
        },
        "outputId": "fa8a2489-c3b8-4943-d734-f3c21e24f019"
      },
      "source": [
        "# Reverse Sorting\n",
        "\n",
        "# Create a list and sort\n",
        "names = ['Juan', 'Kim', 'Fernando']\n",
        "sorted(names)"
      ],
      "execution_count": 14,
      "outputs": [
        {
          "output_type": "execute_result",
          "data": {
            "text/plain": [
              "['Fernando', 'Juan', 'Kim']"
            ]
          },
          "metadata": {
            "tags": []
          },
          "execution_count": 14
        }
      ]
    },
    {
      "cell_type": "code",
      "metadata": {
        "id": "qPZEhum3pi3i",
        "colab_type": "code",
        "colab": {
          "base_uri": "https://localhost:8080/",
          "height": 35
        },
        "outputId": "c11703ad-51da-4b08-b115-0bcb59859733"
      },
      "source": [
        "# Sort in reverse alphabetical order\n",
        "sorted(names, reverse=True)"
      ],
      "execution_count": 15,
      "outputs": [
        {
          "output_type": "execute_result",
          "data": {
            "text/plain": [
              "['Kim', 'Juan', 'Fernando']"
            ]
          },
          "metadata": {
            "tags": []
          },
          "execution_count": 15
        }
      ]
    },
    {
      "cell_type": "code",
      "metadata": {
        "id": "wOUQJZJopnDy",
        "colab_type": "code",
        "colab": {
          "base_uri": "https://localhost:8080/",
          "height": 35
        },
        "outputId": "ed7ac411-3ccc-4730-8039-2457527f2569"
      },
      "source": [
        "# Key arguments\n",
        "\n",
        "# List of words\n",
        "words = ['banana', 'pie', 'California', 'book']\n",
        "sorted(words)"
      ],
      "execution_count": 16,
      "outputs": [
        {
          "output_type": "execute_result",
          "data": {
            "text/plain": [
              "['California', 'banana', 'book', 'pie']"
            ]
          },
          "metadata": {
            "tags": []
          },
          "execution_count": 16
        }
      ]
    },
    {
      "cell_type": "code",
      "metadata": {
        "id": "ds65epjlqWdP",
        "colab_type": "code",
        "colab": {
          "base_uri": "https://localhost:8080/",
          "height": 35
        },
        "outputId": "382b3767-ae8d-4794-d0dd-c162ad916cf7"
      },
      "source": [
        "# Sort by length of characters using key argument\n",
        "sorted(words, key=len)"
      ],
      "execution_count": 17,
      "outputs": [
        {
          "output_type": "execute_result",
          "data": {
            "text/plain": [
              "['pie', 'book', 'banana', 'California']"
            ]
          },
          "metadata": {
            "tags": []
          },
          "execution_count": 17
        }
      ]
    },
    {
      "cell_type": "code",
      "metadata": {
        "id": "HTWVGkbsqaVR",
        "colab_type": "code",
        "colab": {
          "base_uri": "https://localhost:8080/",
          "height": 35
        },
        "outputId": "1feeee5a-ec45-4b86-b4b7-4d04e1d0922e"
      },
      "source": [
        "# Create function that reverses a word\n",
        "def reverse_word(word):\n",
        "  return word[::-1]\n",
        "\n",
        "Sort words by last character in word\n",
        "sorted(words, key=reverse_word)"
      ],
      "execution_count": 18,
      "outputs": [
        {
          "output_type": "execute_result",
          "data": {
            "text/plain": [
              "['California', 'banana', 'pie', 'book']"
            ]
          },
          "metadata": {
            "tags": []
          },
          "execution_count": 18
        }
      ]
    },
    {
      "cell_type": "code",
      "metadata": {
        "id": "WCZ4lzEXrhsf",
        "colab_type": "code",
        "colab": {
          "base_uri": "https://localhost:8080/",
          "height": 35
        },
        "outputId": "0fda7b4d-adde-496f-c1e7-f511c7373395"
      },
      "source": [
        "# Do the same thing above but using lambda function\n",
        "sorted(words, key=lambda x: x[::-1])"
      ],
      "execution_count": 19,
      "outputs": [
        {
          "output_type": "execute_result",
          "data": {
            "text/plain": [
              "['California', 'banana', 'pie', 'book']"
            ]
          },
          "metadata": {
            "tags": []
          },
          "execution_count": 19
        }
      ]
    },
    {
      "cell_type": "code",
      "metadata": {
        "id": "zoQ3mTcDrw2r",
        "colab_type": "code",
        "colab": {
          "base_uri": "https://localhost:8080/",
          "height": 35
        },
        "outputId": "86c8ee9b-bb1c-4fc4-f611-b8dcbb697bd2"
      },
      "source": [
        "# Using .sort() method\n",
        "values_to_sort = [5, 2, 6, 1]\n",
        "print(values_to_sort.sort())\n",
        "# .sort() method doesn't generate new output but sorts the original value"
      ],
      "execution_count": 21,
      "outputs": [
        {
          "output_type": "stream",
          "text": [
            "None\n"
          ],
          "name": "stdout"
        }
      ]
    },
    {
      "cell_type": "code",
      "metadata": {
        "id": "fPDh9OCNtt4s",
        "colab_type": "code",
        "colab": {
          "base_uri": "https://localhost:8080/",
          "height": 35
        },
        "outputId": "4ee604f9-fe68-4178-b5e1-e2aa5481f956"
      },
      "source": [
        "# Original value now changed to sorted order\n",
        "print(values_to_sort)"
      ],
      "execution_count": 22,
      "outputs": [
        {
          "output_type": "stream",
          "text": [
            "[1, 2, 5, 6]\n"
          ],
          "name": "stdout"
        }
      ]
    },
    {
      "cell_type": "code",
      "metadata": {
        "id": "5e8h9BSxt1fk",
        "colab_type": "code",
        "colab": {
          "base_uri": "https://localhost:8080/",
          "height": 69
        },
        "outputId": "8d737dc1-a2c3-478b-fefe-05775e52c530"
      },
      "source": [
        "# Sorting strings of data\n",
        "phrases = ['when in rome',\n",
        "           'what goes around comes around',\n",
        "           'all is fair in love and war']\n",
        "\n",
        "# Split using lambda function that turns each string into list of words & sorts by the 2nd letter in the 3rd word\n",
        "phrases.sort(key=lambda x: x.split()[2][1], reverse=True)\n",
        "phrases"
      ],
      "execution_count": 23,
      "outputs": [
        {
          "output_type": "execute_result",
          "data": {
            "text/plain": [
              "['what goes around comes around',\n",
              " 'when in rome',\n",
              " 'all is fair in love and war']"
            ]
          },
          "metadata": {
            "tags": []
          },
          "execution_count": 23
        }
      ]
    },
    {
      "cell_type": "code",
      "metadata": {
        "id": "stTuX4_mu4vf",
        "colab_type": "code",
        "colab": {
          "base_uri": "https://localhost:8080/",
          "height": 200
        },
        "outputId": "3c7c7ec2-9a2a-40ce-a108-c880fc5b0f3e"
      },
      "source": [
        "# Common issues when sorting\n",
        "\n",
        "mixed_types = [None, 0]\n",
        "sorted(mixed_types) # Generates error because it tries to do less-than/more-than between items"
      ],
      "execution_count": 24,
      "outputs": [
        {
          "output_type": "error",
          "ename": "TypeError",
          "evalue": "ignored",
          "traceback": [
            "\u001b[0;31m---------------------------------------------------------------------------\u001b[0m",
            "\u001b[0;31mTypeError\u001b[0m                                 Traceback (most recent call last)",
            "\u001b[0;32m<ipython-input-24-b94a7e5d5ca7>\u001b[0m in \u001b[0;36m<module>\u001b[0;34m()\u001b[0m\n\u001b[1;32m      1\u001b[0m \u001b[0;34m\u001b[0m\u001b[0m\n\u001b[1;32m      2\u001b[0m \u001b[0mmixed_types\u001b[0m \u001b[0;34m=\u001b[0m \u001b[0;34m[\u001b[0m\u001b[0;32mNone\u001b[0m\u001b[0;34m,\u001b[0m \u001b[0;36m0\u001b[0m\u001b[0;34m]\u001b[0m\u001b[0;34m\u001b[0m\u001b[0;34m\u001b[0m\u001b[0m\n\u001b[0;32m----> 3\u001b[0;31m \u001b[0msorted\u001b[0m\u001b[0;34m(\u001b[0m\u001b[0mmixed_types\u001b[0m\u001b[0;34m)\u001b[0m\u001b[0;34m\u001b[0m\u001b[0;34m\u001b[0m\u001b[0m\n\u001b[0m",
            "\u001b[0;31mTypeError\u001b[0m: '<' not supported between instances of 'int' and 'NoneType'"
          ]
        }
      ]
    },
    {
      "cell_type": "code",
      "metadata": {
        "id": "F0GqgKG7vRSj",
        "colab_type": "code",
        "colab": {}
      },
      "source": [
        "mixed_numbers = [5, '1', 100, '34']"
      ],
      "execution_count": 0,
      "outputs": []
    },
    {
      "cell_type": "code",
      "metadata": {
        "id": "DyfGmIbivc3N",
        "colab_type": "code",
        "colab": {
          "base_uri": "https://localhost:8080/",
          "height": 165
        },
        "outputId": "a9182cf5-6e48-449c-ccbd-f4e06a3f2440"
      },
      "source": [
        "# Error because list items are mix of integers and strings\n",
        "sorted(mixed_numbers)"
      ],
      "execution_count": 26,
      "outputs": [
        {
          "output_type": "error",
          "ename": "TypeError",
          "evalue": "ignored",
          "traceback": [
            "\u001b[0;31m---------------------------------------------------------------------------\u001b[0m",
            "\u001b[0;31mTypeError\u001b[0m                                 Traceback (most recent call last)",
            "\u001b[0;32m<ipython-input-26-5fad5415e715>\u001b[0m in \u001b[0;36m<module>\u001b[0;34m()\u001b[0m\n\u001b[0;32m----> 1\u001b[0;31m \u001b[0msorted\u001b[0m\u001b[0;34m(\u001b[0m\u001b[0mmixed_numbers\u001b[0m\u001b[0;34m)\u001b[0m\u001b[0;34m\u001b[0m\u001b[0;34m\u001b[0m\u001b[0m\n\u001b[0m",
            "\u001b[0;31mTypeError\u001b[0m: '<' not supported between instances of 'str' and 'int'"
          ]
        }
      ]
    },
    {
      "cell_type": "code",
      "metadata": {
        "id": "LbNNAYbFvgQa",
        "colab_type": "code",
        "colab": {
          "base_uri": "https://localhost:8080/",
          "height": 35
        },
        "outputId": "b87af052-5b46-48b0-b33b-c2e897925b35"
      },
      "source": [
        "# Fix issue above my sorting a list comprehension that turns items into integers\n",
        "sorted([int(x) for x in mixed_numbers])"
      ],
      "execution_count": 27,
      "outputs": [
        {
          "output_type": "execute_result",
          "data": {
            "text/plain": [
              "[1, 5, 34, 100]"
            ]
          },
          "metadata": {
            "tags": []
          },
          "execution_count": 27
        }
      ]
    },
    {
      "cell_type": "code",
      "metadata": {
        "id": "_Lv8CniXvrkv",
        "colab_type": "code",
        "colab": {
          "base_uri": "https://localhost:8080/",
          "height": 35
        },
        "outputId": "8a8a2f6e-f463-4295-b5c6-70e4e150a7a5"
      },
      "source": [
        "# Sorting similar values\n",
        "similar_values = [False, 0, 1, 'A' == 'B', 1<=0]\n",
        "similar_values"
      ],
      "execution_count": 28,
      "outputs": [
        {
          "output_type": "execute_result",
          "data": {
            "text/plain": [
              "[False, 0, 1, False, False]"
            ]
          },
          "metadata": {
            "tags": []
          },
          "execution_count": 28
        }
      ]
    },
    {
      "cell_type": "code",
      "metadata": {
        "id": "Dv1dlBR3wOje",
        "colab_type": "code",
        "colab": {
          "base_uri": "https://localhost:8080/",
          "height": 35
        },
        "outputId": "3bc039cf-a251-4324-8911-945fb21e792c"
      },
      "source": [
        "sorted(similar_values)\n",
        "# Python sees 0 and subsequent False as equals"
      ],
      "execution_count": 29,
      "outputs": [
        {
          "output_type": "execute_result",
          "data": {
            "text/plain": [
              "[False, 0, False, False, 1]"
            ]
          },
          "metadata": {
            "tags": []
          },
          "execution_count": 29
        }
      ]
    },
    {
      "cell_type": "code",
      "metadata": {
        "id": "tjA2VYCTxp3_",
        "colab_type": "code",
        "colab": {}
      },
      "source": [
        "from collections import namedtuple"
      ],
      "execution_count": 0,
      "outputs": []
    },
    {
      "cell_type": "code",
      "metadata": {
        "id": "y8NWOAh7yOXx",
        "colab_type": "code",
        "colab": {}
      },
      "source": [
        "# Create a named tuple and empty list to add runners to using Runner\n",
        "Runner = namedtuple('Runner', 'bibnumber duration')\n",
        "runners = []\n",
        "runners.append(Runner('23456', 1500))\n",
        "runners.append(Runner('12423', 9999))"
      ],
      "execution_count": 0,
      "outputs": []
    },
    {
      "cell_type": "code",
      "metadata": {
        "id": "wTfCAMc9yqJO",
        "colab_type": "code",
        "colab": {
          "base_uri": "https://localhost:8080/",
          "height": 52
        },
        "outputId": "005200ec-c4a6-4abb-bad6-7c780666ca14"
      },
      "source": [
        "runners"
      ],
      "execution_count": 37,
      "outputs": [
        {
          "output_type": "execute_result",
          "data": {
            "text/plain": [
              "[Runner(bibnumber='23456', duration=1500),\n",
              " Runner(bibnumber='12423', duration=9999)]"
            ]
          },
          "metadata": {
            "tags": []
          },
          "execution_count": 37
        }
      ]
    },
    {
      "cell_type": "code",
      "metadata": {
        "id": "UYvL5WQayv6i",
        "colab_type": "code",
        "colab": {}
      },
      "source": [
        "runners.sort(key=lambda x: getattr(x, 'duration'))\n",
        "top_runner = runners[:0]"
      ],
      "execution_count": 0,
      "outputs": []
    },
    {
      "cell_type": "code",
      "metadata": {
        "id": "80vJ6nZGy7RA",
        "colab_type": "code",
        "colab": {
          "base_uri": "https://localhost:8080/",
          "height": 35
        },
        "outputId": "0dd3a783-e5c4-433c-88a7-703120114bec"
      },
      "source": [
        "print(top_runner)"
      ],
      "execution_count": 39,
      "outputs": [
        {
          "output_type": "stream",
          "text": [
            "[Runner(bibnumber='23456', duration=1500)]\n"
          ],
          "name": "stdout"
        }
      ]
    },
    {
      "cell_type": "code",
      "metadata": {
        "id": "dW4pYDeCy9ry",
        "colab_type": "code",
        "colab": {}
      },
      "source": [
        ""
      ],
      "execution_count": 0,
      "outputs": []
    }
  ]
}