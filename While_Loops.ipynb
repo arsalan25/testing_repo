{
  "nbformat": 4,
  "nbformat_minor": 0,
  "metadata": {
    "colab": {
      "name": "While Loops",
      "provenance": [],
      "collapsed_sections": [],
      "authorship_tag": "ABX9TyNYurCMlgOf4QeDEQuwGqUZ"
    },
    "kernelspec": {
      "name": "python3",
      "display_name": "Python 3"
    }
  },
  "cells": [
    {
      "cell_type": "code",
      "metadata": {
        "id": "gSa31wiM5AAS",
        "colab_type": "code",
        "outputId": "36834344-1a96-4cfe-cb91-c5c638ab4004",
        "colab": {
          "base_uri": "https://localhost:8080/",
          "height": 108
        }
      },
      "source": [
        "# Basic While Loop\n",
        "n = 5\n",
        "while n > 0:\n",
        "  n = n - 1\n",
        "  print(n)"
      ],
      "execution_count": 0,
      "outputs": [
        {
          "output_type": "stream",
          "text": [
            "4\n",
            "3\n",
            "2\n",
            "1\n",
            "0\n"
          ],
          "name": "stdout"
        }
      ]
    },
    {
      "cell_type": "code",
      "metadata": {
        "id": "hOaNMPBZ5oy5",
        "colab_type": "code",
        "outputId": "77d98a4d-07d4-4384-e1d0-cfe7cc752178",
        "colab": {
          "base_uri": "https://localhost:8080/",
          "height": 72
        }
      },
      "source": [
        "# Lists and While Loops\n",
        "\n",
        "# Loop through all the words until the list is empty\n",
        "words = ['fizz', 'baz', 'buzz']\n",
        "while words:\n",
        "  print(words.pop(-1))"
      ],
      "execution_count": 0,
      "outputs": [
        {
          "output_type": "stream",
          "text": [
            "buzz\n",
            "baz\n",
            "fizz\n"
          ],
          "name": "stdout"
        }
      ]
    },
    {
      "cell_type": "code",
      "metadata": {
        "id": "nUM_OnxD6Z2E",
        "colab_type": "code",
        "outputId": "af19a80d-a5ff-4fec-81fb-36a084c5334a",
        "colab": {
          "base_uri": "https://localhost:8080/",
          "height": 35
        }
      },
      "source": [
        "# Break terminates loop entirely\n",
        "n = 5\n",
        "while n > 0:\n",
        "  n = n-1\n",
        "  if n==3:\n",
        "    break\n",
        "  print(n)"
      ],
      "execution_count": 0,
      "outputs": [
        {
          "output_type": "stream",
          "text": [
            "4\n"
          ],
          "name": "stdout"
        }
      ]
    },
    {
      "cell_type": "code",
      "metadata": {
        "id": "u2AaflTkDaxV",
        "colab_type": "code",
        "outputId": "6ea2ad4d-e972-4709-dec2-d879dd7bdf22",
        "colab": {
          "base_uri": "https://localhost:8080/",
          "height": 108
        }
      },
      "source": [
        "# Continue skips over item\n",
        "x = 5\n",
        "while x > 0:\n",
        "  x = x-1\n",
        "  if x==3:\n",
        "    continue\n",
        "  print(x)\n",
        "print('Loops ends')"
      ],
      "execution_count": 0,
      "outputs": [
        {
          "output_type": "stream",
          "text": [
            "4\n",
            "2\n",
            "1\n",
            "0\n",
            "Loops ends\n"
          ],
          "name": "stdout"
        }
      ]
    },
    {
      "cell_type": "code",
      "metadata": {
        "id": "3WWR1YxSDueq",
        "colab_type": "code",
        "outputId": "55ab3f29-f8a7-4b1e-a4d9-9872bbeb26b7",
        "colab": {
          "base_uri": "https://localhost:8080/",
          "height": 35
        }
      },
      "source": [
        "# Else continue work once while loop is exhausted -- won't work withbreak\n",
        "x = 5\n",
        "while x > 0:\n",
        "  x = x-1\n",
        "  if x==3:\n",
        "    break\n",
        "  print(x)\n",
        "else: print('Loops ends')"
      ],
      "execution_count": 0,
      "outputs": [
        {
          "output_type": "stream",
          "text": [
            "4\n"
          ],
          "name": "stdout"
        }
      ]
    },
    {
      "cell_type": "code",
      "metadata": {
        "id": "nJyBFQjMFc7v",
        "colab_type": "code",
        "outputId": "7350d6a1-31e0-4531-e464-ae7783c5d431",
        "colab": {
          "base_uri": "https://localhost:8080/",
          "height": 35
        }
      },
      "source": [
        "# Infinite loops Example\n",
        "\"\"\"\n",
        "five = 5\n",
        "while five > 0:\n",
        "  print(five)\n",
        "\"\"\""
      ],
      "execution_count": 0,
      "outputs": [
        {
          "output_type": "execute_result",
          "data": {
            "text/plain": [
              "'\\nfive = 5\\nwhile five > 0:\\n  print(five)\\n'"
            ]
          },
          "metadata": {
            "tags": []
          },
          "execution_count": 4
        }
      ]
    },
    {
      "cell_type": "code",
      "metadata": {
        "id": "SKqn30QaG2nG",
        "colab_type": "code",
        "outputId": "4b43a005-07a1-4e4d-a9a7-14a0ec648bfa",
        "colab": {
          "base_uri": "https://localhost:8080/",
          "height": 181
        }
      },
      "source": [
        "# Nested While Loops\n",
        "\n",
        "items = ['fizz', 'baz', 'buzz']\n",
        "\n",
        "while items:\n",
        "  print(items.pop(-1))\n",
        "  b = ['---','===']\n",
        "  while b:\n",
        "    print(b.pop(-1))"
      ],
      "execution_count": 0,
      "outputs": [
        {
          "output_type": "stream",
          "text": [
            "buzz\n",
            "===\n",
            "---\n",
            "baz\n",
            "===\n",
            "---\n",
            "fizz\n",
            "===\n",
            "---\n"
          ],
          "name": "stdout"
        }
      ]
    },
    {
      "cell_type": "code",
      "metadata": {
        "id": "vSUnyRYVJTgC",
        "colab_type": "code",
        "outputId": "fc5f891b-8b76-4120-a3aa-8d389582da60",
        "colab": {
          "base_uri": "https://localhost:8080/",
          "height": 126
        }
      },
      "source": [
        "# Single-Line While Loop Example\n",
        "num = 6\n",
        "while num > 0: num = num-1; print(num)"
      ],
      "execution_count": 0,
      "outputs": [
        {
          "output_type": "stream",
          "text": [
            "5\n",
            "4\n",
            "3\n",
            "2\n",
            "1\n",
            "0\n"
          ],
          "name": "stdout"
        }
      ]
    },
    {
      "cell_type": "code",
      "metadata": {
        "id": "0CHlsdJqfbos",
        "colab_type": "code",
        "colab": {}
      },
      "source": [
        "# Tutorial: https://realpython.com/courses/mastering-while-loops/"
      ],
      "execution_count": 0,
      "outputs": []
    }
  ]
}