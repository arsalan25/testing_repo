{
  "nbformat": 4,
  "nbformat_minor": 0,
  "metadata": {
    "colab": {
      "name": "IDEAS Webinar Practice",
      "provenance": [],
      "authorship_tag": "ABX9TyPsh8sW2GAcsqBA0yUaoAyZ"
    },
    "kernelspec": {
      "name": "python3",
      "display_name": "Python 3"
    }
  },
  "cells": [
    {
      "cell_type": "code",
      "metadata": {
        "id": "0Ai6_DVBl6Y_",
        "colab_type": "code",
        "colab": {}
      },
      "source": [
        "# Use Case: Free wifi \n",
        "\n",
        "# Setup your imports\n",
        "import requests as r\n",
        "from itertools import product\n",
        "import pandas as pd\n",
        "import seaborn as sns\n",
        "import numpy as np\n",
        "import matplotlib.pyplot as plt"
      ],
      "execution_count": 0,
      "outputs": []
    },
    {
      "cell_type": "code",
      "metadata": {
        "id": "bKzARR2gmCeb",
        "colab_type": "code",
        "colab": {}
      },
      "source": [
        "# Credentials\n",
        "key = 'key'\n",
        "url = 'https://api.yelp.com/v3/businesses/search'\n",
        "headers = {\n",
        "    'Authorization': 'Bearer %s' % key,\n",
        "}"
      ],
      "execution_count": 0,
      "outputs": []
    },
    {
      "cell_type": "code",
      "metadata": {
        "id": "-s9fcFMxmG4i",
        "colab_type": "code",
        "colab": {
          "base_uri": "https://localhost:8080/",
          "height": 87
        },
        "outputId": "0e90bcfb-59ae-4d4e-be20-2850e2f11c4e"
      },
      "source": [
        "# Sample Scrape\n",
        "search_parameters = {'location': '1200 West 7th Street, Los Angeles CA 90017',\n",
        "                     'limit': 2,\n",
        "                     'term': 'free wifi',\n",
        "                     'radius': 805,\n",
        "                     'offset': 50,\n",
        "                     }\n",
        "response = r.get(url, headers=headers, params=search_parameters)\n",
        "response.json()\n",
        "\n",
        "# *** Make sure to explore response to ID key items we want"
      ],
      "execution_count": 14,
      "outputs": [
        {
          "output_type": "execute_result",
          "data": {
            "text/plain": [
              "{'businesses': [],\n",
              " 'region': {'center': {'latitude': 34.051226417953856,\n",
              "   'longitude': -118.26576232910156}},\n",
              " 'total': 37}"
            ]
          },
          "metadata": {
            "tags": []
          },
          "execution_count": 14
        }
      ]
    },
    {
      "cell_type": "code",
      "metadata": {
        "id": "SzlKwyuKuDDf",
        "colab_type": "code",
        "colab": {
          "base_uri": "https://localhost:8080/",
          "height": 233
        },
        "outputId": "ab2c8986-64eb-4b58-d91d-a81dc472f690"
      },
      "source": [
        "# Variable up json response\n",
        "data = response.json()\n",
        "\n",
        "# Loop through response and create a dataframe\n",
        "# Empty list to temporarily hold results prior to dataframe\n",
        "pilot_scrape = []\n",
        "\n",
        "# Eventual dataframe column names\n",
        "cols = ['Name','Reviews','Ratings', 'Lat', 'Long', 'Location', 'Phone']\n",
        "\n",
        "# Attach specific listing components, compile into dataframe\n",
        "for business in data['businesses']:\n",
        "  name = business['name']\n",
        "  reviews = business['review_count']\n",
        "  ratings = business['rating']\n",
        "  latitude = business['coordinates']['latitude']\n",
        "  longitude = business['coordinates']['longitude']\n",
        "  address = business['location']['display_address'][0]\n",
        "  phone = business['display_phone']\n",
        "  pilot_scrape.append([name, reviews, ratings, latitude, longitude, address, phone])\n",
        "  df = pd.DataFrame.from_records(pilot_scrape, index='Name', columns=cols)\n",
        "df.head()\n"
      ],
      "execution_count": 6,
      "outputs": [
        {
          "output_type": "execute_result",
          "data": {
            "text/html": [
              "<div>\n",
              "<style scoped>\n",
              "    .dataframe tbody tr th:only-of-type {\n",
              "        vertical-align: middle;\n",
              "    }\n",
              "\n",
              "    .dataframe tbody tr th {\n",
              "        vertical-align: top;\n",
              "    }\n",
              "\n",
              "    .dataframe thead th {\n",
              "        text-align: right;\n",
              "    }\n",
              "</style>\n",
              "<table border=\"1\" class=\"dataframe\">\n",
              "  <thead>\n",
              "    <tr style=\"text-align: right;\">\n",
              "      <th></th>\n",
              "      <th>Reviews</th>\n",
              "      <th>Ratings</th>\n",
              "      <th>Lat</th>\n",
              "      <th>Long</th>\n",
              "      <th>Location</th>\n",
              "      <th>Phone</th>\n",
              "    </tr>\n",
              "    <tr>\n",
              "      <th>Name</th>\n",
              "      <th></th>\n",
              "      <th></th>\n",
              "      <th></th>\n",
              "      <th></th>\n",
              "      <th></th>\n",
              "      <th></th>\n",
              "    </tr>\n",
              "  </thead>\n",
              "  <tbody>\n",
              "    <tr>\n",
              "      <th>Brasil Kiss Coffeebar</th>\n",
              "      <td>236</td>\n",
              "      <td>4.0</td>\n",
              "      <td>34.051969</td>\n",
              "      <td>-118.262663</td>\n",
              "      <td>1010 Wilshire Blvd</td>\n",
              "      <td>(213) 785-5131</td>\n",
              "    </tr>\n",
              "    <tr>\n",
              "      <th>Philz Coffee</th>\n",
              "      <td>927</td>\n",
              "      <td>4.5</td>\n",
              "      <td>34.046534</td>\n",
              "      <td>-118.259281</td>\n",
              "      <td>801 S Hope St</td>\n",
              "      <td>(213) 213-2616</td>\n",
              "    </tr>\n",
              "    <tr>\n",
              "      <th>Fairgrounds Coffee and Tea</th>\n",
              "      <td>70</td>\n",
              "      <td>4.0</td>\n",
              "      <td>34.051810</td>\n",
              "      <td>-118.267850</td>\n",
              "      <td>1256 W 7th St</td>\n",
              "      <td>(213) 378-0382</td>\n",
              "    </tr>\n",
              "    <tr>\n",
              "      <th>Café WG</th>\n",
              "      <td>30</td>\n",
              "      <td>3.5</td>\n",
              "      <td>34.049813</td>\n",
              "      <td>-118.260154</td>\n",
              "      <td>900 Wilshire Blvd</td>\n",
              "      <td>(213) 439-9025</td>\n",
              "    </tr>\n",
              "    <tr>\n",
              "      <th>Kachi Deli Cafe &amp; Grill</th>\n",
              "      <td>280</td>\n",
              "      <td>4.0</td>\n",
              "      <td>34.052550</td>\n",
              "      <td>-118.262740</td>\n",
              "      <td>1055 Wilshire Blvd</td>\n",
              "      <td>(213) 482-4553</td>\n",
              "    </tr>\n",
              "  </tbody>\n",
              "</table>\n",
              "</div>"
            ],
            "text/plain": [
              "                            Reviews  ...           Phone\n",
              "Name                                 ...                \n",
              "Brasil Kiss Coffeebar           236  ...  (213) 785-5131\n",
              "Philz Coffee                    927  ...  (213) 213-2616\n",
              "Fairgrounds Coffee and Tea       70  ...  (213) 378-0382\n",
              "Café WG                          30  ...  (213) 439-9025\n",
              "Kachi Deli Cafe & Grill         280  ...  (213) 482-4553\n",
              "\n",
              "[5 rows x 6 columns]"
            ]
          },
          "metadata": {
            "tags": []
          },
          "execution_count": 6
        }
      ]
    },
    {
      "cell_type": "code",
      "metadata": {
        "id": "mt2OQWzEmKAu",
        "colab_type": "code",
        "colab": {
          "base_uri": "https://localhost:8080/",
          "height": 104
        },
        "outputId": "69180a41-5ffc-442a-fd9a-a8bd13057610"
      },
      "source": [
        "# Scaled Scrape - two locations across multiple steps\n",
        "# 2 lists, 1 with offset & 1 with addresses\n",
        "offset = np.arange(0,500,50)\n",
        "two_addresses = ['1200 W 7th Street, Los Angeles CA 90017', '200 N Spring Street, Los Angeles CA 90012']\n",
        "\n",
        "# Couple them up\n",
        "combo_parameters = list(product(two_addresses, offset))\n",
        "combo_parameters[:5]"
      ],
      "execution_count": 25,
      "outputs": [
        {
          "output_type": "execute_result",
          "data": {
            "text/plain": [
              "[('1200 W 7th Street, Los Angeles CA 90017', 0),\n",
              " ('1200 W 7th Street, Los Angeles CA 90017', 50),\n",
              " ('1200 W 7th Street, Los Angeles CA 90017', 100),\n",
              " ('1200 W 7th Street, Los Angeles CA 90017', 150),\n",
              " ('1200 W 7th Street, Los Angeles CA 90017', 200)]"
            ]
          },
          "metadata": {
            "tags": []
          },
          "execution_count": 25
        }
      ]
    },
    {
      "cell_type": "code",
      "metadata": {
        "id": "yI0Z5Ds5_UJD",
        "colab_type": "code",
        "colab": {
          "base_uri": "https://localhost:8080/",
          "height": 250
        },
        "outputId": "ef04236b-94ce-4ae8-bf5c-c960767a8a93"
      },
      "source": [
        "all_listings = []\n",
        "\n",
        "for address, step in combo_parameters:\n",
        "  double_params = {\n",
        "      'location': address,\n",
        "      'limit': 50,\n",
        "      'term': 'free wifi',\n",
        "      'radius':1600,\n",
        "      'offset': step}\n",
        "  response = r.get(url, headers=headers, params=double_params)\n",
        "  data = response.json()\n",
        "  for business in data['businesses']:\n",
        "    name = business['name']\n",
        "    reviews = business['review_count']\n",
        "    rating = business['rating']\n",
        "    latitude = business['coordinates']['latitude']\n",
        "    longitude = business['coordinates']['longitude']\n",
        "    location = business['location']['display_address'][0]\n",
        "    phone = business['display_phone']\n",
        "    all_listings.append([name, reviews, rating, latitude, longitude, location, phone])\n",
        "  df = pd.DataFrame.from_records(all_listings, index='Name', columns=cols)\n",
        "print(f'Total Records: {len(df)}')\n",
        "df.head()"
      ],
      "execution_count": 29,
      "outputs": [
        {
          "output_type": "stream",
          "text": [
            "Total Records: 309\n"
          ],
          "name": "stdout"
        },
        {
          "output_type": "execute_result",
          "data": {
            "text/html": [
              "<div>\n",
              "<style scoped>\n",
              "    .dataframe tbody tr th:only-of-type {\n",
              "        vertical-align: middle;\n",
              "    }\n",
              "\n",
              "    .dataframe tbody tr th {\n",
              "        vertical-align: top;\n",
              "    }\n",
              "\n",
              "    .dataframe thead th {\n",
              "        text-align: right;\n",
              "    }\n",
              "</style>\n",
              "<table border=\"1\" class=\"dataframe\">\n",
              "  <thead>\n",
              "    <tr style=\"text-align: right;\">\n",
              "      <th></th>\n",
              "      <th>Reviews</th>\n",
              "      <th>Ratings</th>\n",
              "      <th>Lat</th>\n",
              "      <th>Long</th>\n",
              "      <th>Location</th>\n",
              "      <th>Phone</th>\n",
              "    </tr>\n",
              "    <tr>\n",
              "      <th>Name</th>\n",
              "      <th></th>\n",
              "      <th></th>\n",
              "      <th></th>\n",
              "      <th></th>\n",
              "      <th></th>\n",
              "      <th></th>\n",
              "    </tr>\n",
              "  </thead>\n",
              "  <tbody>\n",
              "    <tr>\n",
              "      <th>Los Angeles Public Library - Central Library</th>\n",
              "      <td>516</td>\n",
              "      <td>4.5</td>\n",
              "      <td>34.050365</td>\n",
              "      <td>-118.255032</td>\n",
              "      <td>630 West 5th St</td>\n",
              "      <td>(213) 228-7000</td>\n",
              "    </tr>\n",
              "    <tr>\n",
              "      <th>Philz Coffee</th>\n",
              "      <td>927</td>\n",
              "      <td>4.5</td>\n",
              "      <td>34.046534</td>\n",
              "      <td>-118.259281</td>\n",
              "      <td>801 S Hope St</td>\n",
              "      <td>(213) 213-2616</td>\n",
              "    </tr>\n",
              "    <tr>\n",
              "      <th>Brasil Kiss Coffeebar</th>\n",
              "      <td>236</td>\n",
              "      <td>4.0</td>\n",
              "      <td>34.051969</td>\n",
              "      <td>-118.262663</td>\n",
              "      <td>1010 Wilshire Blvd</td>\n",
              "      <td>(213) 785-5131</td>\n",
              "    </tr>\n",
              "    <tr>\n",
              "      <th>Café WG</th>\n",
              "      <td>30</td>\n",
              "      <td>3.5</td>\n",
              "      <td>34.049813</td>\n",
              "      <td>-118.260154</td>\n",
              "      <td>900 Wilshire Blvd</td>\n",
              "      <td>(213) 439-9025</td>\n",
              "    </tr>\n",
              "    <tr>\n",
              "      <th>Fairgrounds Coffee and Tea</th>\n",
              "      <td>70</td>\n",
              "      <td>4.0</td>\n",
              "      <td>34.051810</td>\n",
              "      <td>-118.267850</td>\n",
              "      <td>1256 W 7th St</td>\n",
              "      <td>(213) 378-0382</td>\n",
              "    </tr>\n",
              "  </tbody>\n",
              "</table>\n",
              "</div>"
            ],
            "text/plain": [
              "                                              Reviews  ...           Phone\n",
              "Name                                                   ...                \n",
              "Los Angeles Public Library - Central Library      516  ...  (213) 228-7000\n",
              "Philz Coffee                                      927  ...  (213) 213-2616\n",
              "Brasil Kiss Coffeebar                             236  ...  (213) 785-5131\n",
              "Café WG                                            30  ...  (213) 439-9025\n",
              "Fairgrounds Coffee and Tea                         70  ...  (213) 378-0382\n",
              "\n",
              "[5 rows x 6 columns]"
            ]
          },
          "metadata": {
            "tags": []
          },
          "execution_count": 29
        }
      ]
    },
    {
      "cell_type": "code",
      "metadata": {
        "id": "-wKvbeJWD073",
        "colab_type": "code",
        "colab": {
          "base_uri": "https://localhost:8080/",
          "height": 208
        },
        "outputId": "0d661230-dff8-476e-b19f-af7589abe4a1"
      },
      "source": [
        "df.info()"
      ],
      "execution_count": 37,
      "outputs": [
        {
          "output_type": "stream",
          "text": [
            "<class 'pandas.core.frame.DataFrame'>\n",
            "Index: 309 entries, Los Angeles Public Library - Central Library to Nicole Juicery\n",
            "Data columns (total 6 columns):\n",
            "Reviews     309 non-null int64\n",
            "Ratings     309 non-null float64\n",
            "Lat         309 non-null float64\n",
            "Long        309 non-null float64\n",
            "Location    309 non-null object\n",
            "Phone       309 non-null object\n",
            "dtypes: float64(3), int64(1), object(2)\n",
            "memory usage: 26.9+ KB\n"
          ],
          "name": "stdout"
        }
      ]
    },
    {
      "cell_type": "code",
      "metadata": {
        "id": "Xyp3WnXADUe_",
        "colab_type": "code",
        "colab": {
          "base_uri": "https://localhost:8080/",
          "height": 448
        },
        "outputId": "6d0d0a65-b1d5-4aa6-8bed-545dba40c542"
      },
      "source": [
        "# Check most reviews & ratings\n",
        "df = df.sort_values(by=['Reviews'], ascending=False)\n",
        "display(df.head())\n",
        "df = df.sort_values(by=['Ratings'], ascending=False)\n",
        "display(df.head())"
      ],
      "execution_count": 41,
      "outputs": [
        {
          "output_type": "display_data",
          "data": {
            "text/html": [
              "<div>\n",
              "<style scoped>\n",
              "    .dataframe tbody tr th:only-of-type {\n",
              "        vertical-align: middle;\n",
              "    }\n",
              "\n",
              "    .dataframe tbody tr th {\n",
              "        vertical-align: top;\n",
              "    }\n",
              "\n",
              "    .dataframe thead th {\n",
              "        text-align: right;\n",
              "    }\n",
              "</style>\n",
              "<table border=\"1\" class=\"dataframe\">\n",
              "  <thead>\n",
              "    <tr style=\"text-align: right;\">\n",
              "      <th></th>\n",
              "      <th>Reviews</th>\n",
              "      <th>Ratings</th>\n",
              "      <th>Lat</th>\n",
              "      <th>Long</th>\n",
              "      <th>Location</th>\n",
              "      <th>Phone</th>\n",
              "    </tr>\n",
              "    <tr>\n",
              "      <th>Name</th>\n",
              "      <th></th>\n",
              "      <th></th>\n",
              "      <th></th>\n",
              "      <th></th>\n",
              "      <th></th>\n",
              "      <th></th>\n",
              "    </tr>\n",
              "  </thead>\n",
              "  <tbody>\n",
              "    <tr>\n",
              "      <th>Bottega Louie</th>\n",
              "      <td>16835</td>\n",
              "      <td>4.0</td>\n",
              "      <td>34.046930</td>\n",
              "      <td>-118.256601</td>\n",
              "      <td>700 S Grand Ave</td>\n",
              "      <td>(213) 802-1470</td>\n",
              "    </tr>\n",
              "    <tr>\n",
              "      <th>Bottega Louie</th>\n",
              "      <td>16835</td>\n",
              "      <td>4.0</td>\n",
              "      <td>34.046930</td>\n",
              "      <td>-118.256601</td>\n",
              "      <td>700 S Grand Ave</td>\n",
              "      <td>(213) 802-1470</td>\n",
              "    </tr>\n",
              "    <tr>\n",
              "      <th>Philippe the Original</th>\n",
              "      <td>6116</td>\n",
              "      <td>4.0</td>\n",
              "      <td>34.059723</td>\n",
              "      <td>-118.237022</td>\n",
              "      <td>1001 N Alameda St</td>\n",
              "      <td>(213) 628-3781</td>\n",
              "    </tr>\n",
              "    <tr>\n",
              "      <th>Eggslut</th>\n",
              "      <td>5672</td>\n",
              "      <td>4.0</td>\n",
              "      <td>34.050529</td>\n",
              "      <td>-118.248619</td>\n",
              "      <td>317 S Broadway</td>\n",
              "      <td>(213) 625-0292</td>\n",
              "    </tr>\n",
              "    <tr>\n",
              "      <th>Urth Caffé- Downtown LA</th>\n",
              "      <td>5180</td>\n",
              "      <td>4.0</td>\n",
              "      <td>34.041974</td>\n",
              "      <td>-118.235426</td>\n",
              "      <td>451 S Hewitt St</td>\n",
              "      <td>(213) 797-4534</td>\n",
              "    </tr>\n",
              "  </tbody>\n",
              "</table>\n",
              "</div>"
            ],
            "text/plain": [
              "                         Reviews  Ratings  ...           Location           Phone\n",
              "Name                                       ...                                   \n",
              "Bottega Louie              16835      4.0  ...    700 S Grand Ave  (213) 802-1470\n",
              "Bottega Louie              16835      4.0  ...    700 S Grand Ave  (213) 802-1470\n",
              "Philippe the Original       6116      4.0  ...  1001 N Alameda St  (213) 628-3781\n",
              "Eggslut                     5672      4.0  ...     317 S Broadway  (213) 625-0292\n",
              "Urth Caffé- Downtown LA     5180      4.0  ...    451 S Hewitt St  (213) 797-4534\n",
              "\n",
              "[5 rows x 6 columns]"
            ]
          },
          "metadata": {
            "tags": []
          }
        },
        {
          "output_type": "display_data",
          "data": {
            "text/html": [
              "<div>\n",
              "<style scoped>\n",
              "    .dataframe tbody tr th:only-of-type {\n",
              "        vertical-align: middle;\n",
              "    }\n",
              "\n",
              "    .dataframe tbody tr th {\n",
              "        vertical-align: top;\n",
              "    }\n",
              "\n",
              "    .dataframe thead th {\n",
              "        text-align: right;\n",
              "    }\n",
              "</style>\n",
              "<table border=\"1\" class=\"dataframe\">\n",
              "  <thead>\n",
              "    <tr style=\"text-align: right;\">\n",
              "      <th></th>\n",
              "      <th>Reviews</th>\n",
              "      <th>Ratings</th>\n",
              "      <th>Lat</th>\n",
              "      <th>Long</th>\n",
              "      <th>Location</th>\n",
              "      <th>Phone</th>\n",
              "    </tr>\n",
              "    <tr>\n",
              "      <th>Name</th>\n",
              "      <th></th>\n",
              "      <th></th>\n",
              "      <th></th>\n",
              "      <th></th>\n",
              "      <th></th>\n",
              "      <th></th>\n",
              "    </tr>\n",
              "  </thead>\n",
              "  <tbody>\n",
              "    <tr>\n",
              "      <th>The Library Store</th>\n",
              "      <td>40</td>\n",
              "      <td>5.0</td>\n",
              "      <td>34.050429</td>\n",
              "      <td>-118.255382</td>\n",
              "      <td>630 W 5th St</td>\n",
              "      <td>(213) 228-7550</td>\n",
              "    </tr>\n",
              "    <tr>\n",
              "      <th>Your Thyme Cafe</th>\n",
              "      <td>28</td>\n",
              "      <td>5.0</td>\n",
              "      <td>34.050330</td>\n",
              "      <td>-118.242192</td>\n",
              "      <td>123 Astronaut Ellison S Onizuka St</td>\n",
              "      <td>(213) 628-3173</td>\n",
              "    </tr>\n",
              "    <tr>\n",
              "      <th>Skidrow Coffee</th>\n",
              "      <td>25</td>\n",
              "      <td>5.0</td>\n",
              "      <td>34.050495</td>\n",
              "      <td>-118.255676</td>\n",
              "      <td>630 W 5th St</td>\n",
              "      <td>(213) 247-3217</td>\n",
              "    </tr>\n",
              "    <tr>\n",
              "      <th>café Persona</th>\n",
              "      <td>24</td>\n",
              "      <td>5.0</td>\n",
              "      <td>34.056403</td>\n",
              "      <td>-118.250539</td>\n",
              "      <td>714 W 1st St</td>\n",
              "      <td>(213) 265-7697</td>\n",
              "    </tr>\n",
              "    <tr>\n",
              "      <th>Nossa Familia Coffee</th>\n",
              "      <td>57</td>\n",
              "      <td>5.0</td>\n",
              "      <td>34.050824</td>\n",
              "      <td>-118.253872</td>\n",
              "      <td>601 W 5th St</td>\n",
              "      <td>(213) 675-0102</td>\n",
              "    </tr>\n",
              "  </tbody>\n",
              "</table>\n",
              "</div>"
            ],
            "text/plain": [
              "                      Reviews  ...           Phone\n",
              "Name                           ...                \n",
              "The Library Store          40  ...  (213) 228-7550\n",
              "Your Thyme Cafe            28  ...  (213) 628-3173\n",
              "Skidrow Coffee             25  ...  (213) 247-3217\n",
              "café Persona               24  ...  (213) 265-7697\n",
              "Nossa Familia Coffee       57  ...  (213) 675-0102\n",
              "\n",
              "[5 rows x 6 columns]"
            ]
          },
          "metadata": {
            "tags": []
          }
        }
      ]
    },
    {
      "cell_type": "code",
      "metadata": {
        "id": "1v00jueTCmGo",
        "colab_type": "code",
        "colab": {
          "base_uri": "https://localhost:8080/",
          "height": 531
        },
        "outputId": "eef90afb-f967-46de-9c07-6e6e9ff1c09c"
      },
      "source": [
        "# Explore Ratings and Reviews\n",
        "plt.figure(figsize=(8,8))\n",
        "df['Reviews'].hist()\n",
        "plt.title('Reviews Distribution')\n",
        "plt.xlabel('Number of Reviews')\n",
        "plt.ylabel('Number of Businesses')"
      ],
      "execution_count": 45,
      "outputs": [
        {
          "output_type": "execute_result",
          "data": {
            "text/plain": [
              "Text(0, 0.5, 'Number of Businesses')"
            ]
          },
          "metadata": {
            "tags": []
          },
          "execution_count": 45
        },
        {
          "output_type": "display_data",
          "data": {
            "image/png": "[encoded data removed]",
            "text/plain": [
              "<Figure size 576x576 with 1 Axes>"
            ]
          },
          "metadata": {
            "tags": []
          }
        }
      ]
    }
  ]
}