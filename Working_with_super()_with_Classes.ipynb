{
  "nbformat": 4,
  "nbformat_minor": 0,
  "metadata": {
    "colab": {
      "name": "Working with super() with Classes",
      "provenance": [],
      "authorship_tag": "ABX9TyOzof+kbD08VyDT+SgN3HaX"
    },
    "kernelspec": {
      "name": "python3",
      "display_name": "Python 3"
    }
  },
  "cells": [
    {
      "cell_type": "code",
      "metadata": {
        "id": "nXVJ_lJMRl1r",
        "colab_type": "code",
        "colab": {}
      },
      "source": [
        "# Real Python Tutorial: https://realpython.com/courses/python-super\n",
        "class Square:\n",
        "  def __init__(self, length):\n",
        "    self.length = length\n",
        "  \n",
        "  def area(self):\n",
        "    return self.length * self.length    # Calculates area\n",
        "  \n",
        "  def perimeter(self):\n",
        "    return 4 * self.length              # Calculates perimeter\n"
      ],
      "execution_count": 0,
      "outputs": []
    },
    {
      "cell_type": "code",
      "metadata": {
        "id": "W8YdgSElSa07",
        "colab_type": "code",
        "colab": {}
      },
      "source": [
        "square = Square(3)"
      ],
      "execution_count": 0,
      "outputs": []
    },
    {
      "cell_type": "code",
      "metadata": {
        "id": "Gh65wYs2Sm96",
        "colab_type": "code",
        "outputId": "b1a5b9b6-79b5-40d3-8c13-f52261707b5f",
        "colab": {
          "base_uri": "https://localhost:8080/",
          "height": 34
        }
      },
      "source": [
        "square.length"
      ],
      "execution_count": 0,
      "outputs": [
        {
          "output_type": "execute_result",
          "data": {
            "text/plain": [
              "3"
            ]
          },
          "metadata": {
            "tags": []
          },
          "execution_count": 11
        }
      ]
    },
    {
      "cell_type": "code",
      "metadata": {
        "id": "RoSGlzpoSpPD",
        "colab_type": "code",
        "outputId": "bc809e9e-5c9c-4080-c155-19704eb4ceb4",
        "colab": {
          "base_uri": "https://localhost:8080/",
          "height": 34
        }
      },
      "source": [
        "square.area()"
      ],
      "execution_count": 0,
      "outputs": [
        {
          "output_type": "execute_result",
          "data": {
            "text/plain": [
              "9"
            ]
          },
          "metadata": {
            "tags": []
          },
          "execution_count": 12
        }
      ]
    },
    {
      "cell_type": "code",
      "metadata": {
        "id": "oh7ekA9SSquL",
        "colab_type": "code",
        "outputId": "3329660d-432b-42e3-c100-e1a5dae34d41",
        "colab": {
          "base_uri": "https://localhost:8080/",
          "height": 510
        }
      },
      "source": [
        "dir(square)"
      ],
      "execution_count": 0,
      "outputs": [
        {
          "output_type": "execute_result",
          "data": {
            "text/plain": [
              "['__class__',\n",
              " '__delattr__',\n",
              " '__dict__',\n",
              " '__dir__',\n",
              " '__doc__',\n",
              " '__eq__',\n",
              " '__format__',\n",
              " '__ge__',\n",
              " '__getattribute__',\n",
              " '__gt__',\n",
              " '__hash__',\n",
              " '__init__',\n",
              " '__init_subclass__',\n",
              " '__le__',\n",
              " '__lt__',\n",
              " '__module__',\n",
              " '__ne__',\n",
              " '__new__',\n",
              " '__reduce__',\n",
              " '__reduce_ex__',\n",
              " '__repr__',\n",
              " '__setattr__',\n",
              " '__sizeof__',\n",
              " '__str__',\n",
              " '__subclasshook__',\n",
              " '__weakref__',\n",
              " 'area',\n",
              " 'length',\n",
              " 'perimeter']"
            ]
          },
          "metadata": {
            "tags": []
          },
          "execution_count": 13
        }
      ]
    },
    {
      "cell_type": "code",
      "metadata": {
        "id": "gzM6z-U6SsCi",
        "colab_type": "code",
        "colab": {}
      },
      "source": [
        "# Let's create another shape class\n",
        "\n",
        "class Rectangle:\n",
        "  def __init__(self, length, width):\n",
        "    self.length = length\n",
        "    self.width = width\n",
        "  \n",
        "  def area(self):\n",
        "    return self.length * self.width\n",
        "  \n",
        "  def perimeter(self):\n",
        "    return 2* self.length + 2 * self.width\n",
        "\n",
        "  def what_am_i(self):\n",
        "    return 'Rectangle'"
      ],
      "execution_count": 0,
      "outputs": []
    },
    {
      "cell_type": "code",
      "metadata": {
        "id": "v62ack15TCYK",
        "colab_type": "code",
        "outputId": "db6665d1-3d6a-4c84-e4b1-83d4247f44ce",
        "colab": {
          "base_uri": "https://localhost:8080/",
          "height": 34
        }
      },
      "source": [
        "rectangle = Rectangle(2, 4)\n",
        "rectangle.area()"
      ],
      "execution_count": 0,
      "outputs": [
        {
          "output_type": "execute_result",
          "data": {
            "text/plain": [
              "8"
            ]
          },
          "metadata": {
            "tags": []
          },
          "execution_count": 18
        }
      ]
    },
    {
      "cell_type": "code",
      "metadata": {
        "id": "X8c8LwAnTFPr",
        "colab_type": "code",
        "colab": {}
      },
      "source": [
        "# Redefine square based on rectangle\n",
        "# Square inherits from Rectangle i.e Square is a sub-class of Rectangle\n",
        "class Square(Rectangle):          \n",
        "  def __init__(self, length):\n",
        "    super().__init__(length, length)          # Redefines Rectangle's __init__ using super()\n",
        "\n",
        "# super() overwrites parent classes methods"
      ],
      "execution_count": 0,
      "outputs": []
    },
    {
      "cell_type": "code",
      "metadata": {
        "id": "78rmQDvlTxOj",
        "colab_type": "code",
        "outputId": "999518c9-9155-446c-9bd5-86d890a0b749",
        "colab": {
          "base_uri": "https://localhost:8080/",
          "height": 544
        }
      },
      "source": [
        "new_square = Square(3)\n",
        "dir(new_square)\n",
        "# width is now a method"
      ],
      "execution_count": 0,
      "outputs": [
        {
          "output_type": "execute_result",
          "data": {
            "text/plain": [
              "['__class__',\n",
              " '__delattr__',\n",
              " '__dict__',\n",
              " '__dir__',\n",
              " '__doc__',\n",
              " '__eq__',\n",
              " '__format__',\n",
              " '__ge__',\n",
              " '__getattribute__',\n",
              " '__gt__',\n",
              " '__hash__',\n",
              " '__init__',\n",
              " '__init_subclass__',\n",
              " '__le__',\n",
              " '__lt__',\n",
              " '__module__',\n",
              " '__ne__',\n",
              " '__new__',\n",
              " '__reduce__',\n",
              " '__reduce_ex__',\n",
              " '__repr__',\n",
              " '__setattr__',\n",
              " '__sizeof__',\n",
              " '__str__',\n",
              " '__subclasshook__',\n",
              " '__weakref__',\n",
              " 'area',\n",
              " 'length',\n",
              " 'perimeter',\n",
              " 'what_am_i',\n",
              " 'width']"
            ]
          },
          "metadata": {
            "tags": []
          },
          "execution_count": 3
        }
      ]
    },
    {
      "cell_type": "code",
      "metadata": {
        "id": "8D-zPcSaUzPC",
        "colab_type": "code",
        "outputId": "1bb42cd7-5b20-4ac5-c279-126855694518",
        "colab": {
          "base_uri": "https://localhost:8080/",
          "height": 34
        }
      },
      "source": [
        "# Check inheritance\n",
        "new_square.__class__.__bases__"
      ],
      "execution_count": 0,
      "outputs": [
        {
          "output_type": "execute_result",
          "data": {
            "text/plain": [
              "(__main__.Rectangle,)"
            ]
          },
          "metadata": {
            "tags": []
          },
          "execution_count": 5
        }
      ]
    },
    {
      "cell_type": "code",
      "metadata": {
        "id": "W6auVKrnU_xi",
        "colab_type": "code",
        "colab": {}
      },
      "source": [
        "# Inherit from Square, which inherits from Rectangle\n",
        "class Cube(Square):\n",
        "  def surface_area(self):\n",
        "    face_area=self.area()\n",
        "    return face_area * 6\n",
        "\n",
        "  def volume(self):\n",
        "    face_area = super().area()          # Accesses area methods from Rectangle since neither Cube or Square classes have it\n",
        "    return face_area * self.length\n",
        "\n",
        "  def what_am_i(self):\n",
        "    return 'Cube'\n",
        "\n",
        "  def family_tree(self):\n",
        "    return self.what_am_i() + ' grandchild of ' + super().what_am_i()         # Use super() method to access parents and grandparents"
      ],
      "execution_count": 0,
      "outputs": []
    },
    {
      "cell_type": "code",
      "metadata": {
        "id": "EsXmq5X4Vsac",
        "colab_type": "code",
        "outputId": "352210fe-216c-4b95-a064-1ec3b0af0393",
        "colab": {
          "base_uri": "https://localhost:8080/",
          "height": 51
        }
      },
      "source": [
        "cube = Cube(3)\n",
        "print(f'Surface Area: {cube.surface_area()}')\n",
        "print(f'Volume: {cube.volume()}')"
      ],
      "execution_count": 0,
      "outputs": [
        {
          "output_type": "stream",
          "text": [
            "Surface Area: 54\n",
            "Volume: 27\n"
          ],
          "name": "stdout"
        }
      ]
    },
    {
      "cell_type": "code",
      "metadata": {
        "id": "3uXIgmzLWFbS",
        "colab_type": "code",
        "outputId": "5e275888-7477-4981-f512-48873caa4286",
        "colab": {
          "base_uri": "https://localhost:8080/",
          "height": 34
        }
      },
      "source": [
        "# Check parent\n",
        "super(Square, cube).area()"
      ],
      "execution_count": 0,
      "outputs": [
        {
          "output_type": "execute_result",
          "data": {
            "text/plain": [
              "9"
            ]
          },
          "metadata": {
            "tags": []
          },
          "execution_count": 9
        }
      ]
    },
    {
      "cell_type": "code",
      "metadata": {
        "id": "OBHYQUGaXKA7",
        "colab_type": "code",
        "outputId": "65ea5125-ecc6-4de7-8a19-61f894f72d93",
        "colab": {
          "base_uri": "https://localhost:8080/",
          "height": 34
        }
      },
      "source": [
        "# Since .what_am_i() method was not defined for Square then it inherits from Rectangle\n",
        "new_square.what_am_i()"
      ],
      "execution_count": 0,
      "outputs": [
        {
          "output_type": "execute_result",
          "data": {
            "text/plain": [
              "'Rectangle'"
            ]
          },
          "metadata": {
            "tags": []
          },
          "execution_count": 5
        }
      ]
    },
    {
      "cell_type": "code",
      "metadata": {
        "id": "fc4S5ejzYNiW",
        "colab_type": "code",
        "outputId": "250b7f9a-765e-42d5-9f9f-bbc057de4265",
        "colab": {
          "base_uri": "https://localhost:8080/",
          "height": 34
        }
      },
      "source": [
        "# Check using super as function\n",
        "super(Square, new_square).what_am_i()"
      ],
      "execution_count": 0,
      "outputs": [
        {
          "output_type": "execute_result",
          "data": {
            "text/plain": [
              "'Rectangle'"
            ]
          },
          "metadata": {
            "tags": []
          },
          "execution_count": 7
        }
      ]
    },
    {
      "cell_type": "code",
      "metadata": {
        "id": "9CK-6JAFYgp1",
        "colab_type": "code",
        "outputId": "24b30acd-ef69-4769-bead-0ba166fb4fb7",
        "colab": {
          "base_uri": "https://localhost:8080/",
          "height": 34
        }
      },
      "source": [
        "# Check who the grandparent is\n",
        "cube.family_tree()"
      ],
      "execution_count": 0,
      "outputs": [
        {
          "output_type": "execute_result",
          "data": {
            "text/plain": [
              "'Cube grandchild of Rectangle'"
            ]
          },
          "metadata": {
            "tags": []
          },
          "execution_count": 15
        }
      ]
    },
    {
      "cell_type": "code",
      "metadata": {
        "id": "qomm-sHfZAsP",
        "colab_type": "code",
        "colab": {}
      },
      "source": [
        "# Multiple Inheritance: Process of base class inheriting from multiple other classes\n",
        "class Triangle:\n",
        "  def __init__(self, base, height):\n",
        "    self.base = base\n",
        "    self.height = height\n",
        "\n",
        "  def area(self):\n",
        "    return 0.5 * self.base * self.height\n",
        "\n",
        "  def what_am_i(self):\n",
        "    return 'Triangle'"
      ],
      "execution_count": 0,
      "outputs": []
    },
    {
      "cell_type": "code",
      "metadata": {
        "id": "UIZpUmGzZ9QB",
        "colab_type": "code",
        "colab": {}
      },
      "source": [
        "# Inherit from Triangle and Square\n",
        "class RightPyramid(Triangle, Square):\n",
        "  def __init__(self, base, slant_height):\n",
        "    self.base = base\n",
        "    self.slant_height = slant_height\n",
        "\n",
        "  def what_am_i(self):\n",
        "    return 'RightPyramid'"
      ],
      "execution_count": 0,
      "outputs": []
    },
    {
      "cell_type": "code",
      "metadata": {
        "id": "tLe26Wpwabq_",
        "colab_type": "code",
        "outputId": "760a1f96-df85-4c90-9b94-355a41762cba",
        "colab": {
          "base_uri": "https://localhost:8080/",
          "height": 34
        }
      },
      "source": [
        "# Check parent\n",
        "rightpyramid = RightPyramid(2,4)\n",
        "super(RightPyramid, rightpyramid).what_am_i()\n",
        "\n",
        "# With multiple inheritances, super() func will call the first parent"
      ],
      "execution_count": 0,
      "outputs": [
        {
          "output_type": "execute_result",
          "data": {
            "text/plain": [
              "'Triangle'"
            ]
          },
          "metadata": {
            "tags": []
          },
          "execution_count": 27
        }
      ]
    },
    {
      "cell_type": "code",
      "metadata": {
        "id": "K81WCD44akwv",
        "colab_type": "code",
        "outputId": "62fbea96-a72d-43e1-edbf-e5a6f0b6e51f",
        "colab": {
          "base_uri": "https://localhost:8080/",
          "height": 34
        }
      },
      "source": [
        "# Check all parent\n",
        "rightpyramid.__class__.__bases__"
      ],
      "execution_count": 0,
      "outputs": [
        {
          "output_type": "execute_result",
          "data": {
            "text/plain": [
              "(__main__.Triangle, __main__.Square)"
            ]
          },
          "metadata": {
            "tags": []
          },
          "execution_count": 28
        }
      ]
    }
  ]
}