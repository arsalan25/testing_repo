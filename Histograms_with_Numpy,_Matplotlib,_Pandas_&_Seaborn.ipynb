{
  "nbformat": 4,
  "nbformat_minor": 0,
  "metadata": {
    "colab": {
      "name": "Histograms with Numpy, Matplotlib, Pandas & Seaborn",
      "provenance": [],
      "include_colab_link": true
    },
    "kernelspec": {
      "name": "python3",
      "display_name": "Python 3"
    }
  },
  "cells": [
    {
      "cell_type": "markdown",
      "metadata": {
        "id": "view-in-github",
        "colab_type": "text"
      },
      "source": [
        "<a href=\"https://colab.research.google.com/github/juansvas/testing_repo/blob/master/Histograms_with_Numpy%2C_Matplotlib%2C_Pandas_%26_Seaborn.ipynb\" target=\"_parent\"><img src=\"https://colab.research.google.com/assets/colab-badge.svg\" alt=\"Open In Colab\"/></a>"
      ]
    },
    {
      "cell_type": "code",
      "metadata": {
        "id": "pFGDEh7S5c3k",
        "colab_type": "code",
        "colab": {
          "base_uri": "https://localhost:8080/",
          "height": 35
        },
        "outputId": "3e4829d5-3c94-4b6c-ba45-18e0c4e28a1e"
      },
      "source": [
        "# Tutorial: https://realpython.com/lessons/python-histogram-plotting-numpy-matplotlib-pandas-seaborn-conclusion/\n",
        "# Completion: https://realpython.com/certificates/7093b05d-5320-40d6-8c19-8ebdc51ec43f/\n",
        "\n",
        "# Histograms with numpy\n",
        "import numpy as np\n",
        "\n",
        "# Set seed\n",
        "np.random.seed(444)\n",
        "\n",
        "# Set 3 decimal points\n",
        "np.set_printoptions(precision=3)\n",
        "\n",
        "# Create laplace distribution with 500 data points\n",
        "d = np.random.laplace(loc=15, scale=3, size=500)\n",
        "\n",
        "# Print first 5 values\n",
        "print(d[:5])"
      ],
      "execution_count": 1,
      "outputs": [
        {
          "output_type": "stream",
          "text": [
            "[18.406 18.087 16.004 16.221  7.358]\n"
          ],
          "name": "stdout"
        }
      ]
    },
    {
      "cell_type": "code",
      "metadata": {
        "id": "VVe9Q45o57l1",
        "colab_type": "code",
        "colab": {
          "base_uri": "https://localhost:8080/",
          "height": 86
        },
        "outputId": "1a3b9f50-63b7-4b20-8dc7-636096ae7b3e"
      },
      "source": [
        "# Create historgram using d variable\n",
        "hist, bin_edges = np.histogram(d)\n",
        "\n",
        "print(hist)\n",
        "print()\n",
        "print(bin_edges)"
      ],
      "execution_count": 3,
      "outputs": [
        {
          "output_type": "stream",
          "text": [
            "[ 13  23  91 261  80  21   7   2   1   1]\n",
            "\n",
            "[ 2.11   5.874  9.638 13.402 17.166 20.93  24.694 28.458 32.222 35.986\n",
            " 39.749]\n"
          ],
          "name": "stdout"
        }
      ]
    },
    {
      "cell_type": "code",
      "metadata": {
        "id": "6HyuIDz86IDK",
        "colab_type": "code",
        "colab": {
          "base_uri": "https://localhost:8080/",
          "height": 295
        },
        "outputId": "9af15008-0d57-46c0-f3a7-ed73e4ff90ab"
      },
      "source": [
        "# Histograms with matplotlib\n",
        "import matplotlib.pyplot as plt\n",
        "\n",
        "# Create histogram -- x for dataset, alpha for transparency,\n",
        "n, bins, patches = plt.hist(x=d, bins='auto', color='#0504aa', alpha=0.7, rwidth=0.85)\n",
        "\n",
        "plt.grid(axis='y', alpha=0.75)\n",
        "plt.xlabel('Value')\n",
        "plt.ylabel('Frequency')\n",
        "plt.title('My Very Own Histogram')\n",
        "plt.text(23, 24, r'$\\mu=15, b=3$')\n",
        "maxfreq = n.max()\n",
        "plt.ylim(top=np.ceil(maxfreq/10)*10 if maxfreq % 10 else maxfreq + 10)\n",
        "plt.show()"
      ],
      "execution_count": 6,
      "outputs": [
        {
          "output_type": "display_data",
          "data": {
            "image/png": "[encoded data removed]",
            "text/plain": [
              "<Figure size 432x288 with 1 Axes>"
            ]
          },
          "metadata": {
            "tags": []
          }
        }
      ]
    },
    {
      "cell_type": "code",
      "metadata": {
        "id": "VJ6w6YfP8Jft",
        "colab_type": "code",
        "colab": {
          "base_uri": "https://localhost:8080/",
          "height": 295
        },
        "outputId": "bd15ad2b-08fd-4d6b-fc82-8d9355fb596a"
      },
      "source": [
        "# Histograms with pandas\n",
        "import pandas as pd\n",
        "\n",
        "# Set size and scale variables\n",
        "size, scale = 1000, 10\n",
        "\n",
        "# Create pandas Series\n",
        "commutes = pd.Series(np.random.gamma(scale, size=size) ** 1.5)\n",
        "\n",
        "# Create histogram\n",
        "commutes.plot.hist(grid=True, bins=20, rwidth=0.9, color='#607c8e')\n",
        "plt.title('Commute Time for 1K Commutes')\n",
        "plt.xlabel('Commute Time')\n",
        "plt.ylabel('Counts')\n",
        "plt.grid(axis='y', alpha=0.75)\n",
        "plt.show()"
      ],
      "execution_count": 9,
      "outputs": [
        {
          "output_type": "display_data",
          "data": {
            "image/png": "[encoded data removed]",
            "text/plain": [
              "<Figure size 432x288 with 1 Axes>"
            ]
          },
          "metadata": {
            "tags": []
          }
        }
      ]
    },
    {
      "cell_type": "code",
      "metadata": {
        "id": "s1eRQFCS9qY0",
        "colab_type": "code",
        "colab": {
          "base_uri": "https://localhost:8080/",
          "height": 104
        },
        "outputId": "a5a1aa4a-d4ff-4ab1-bdee-84aca4e8d53a"
      },
      "source": [
        "# Kernel Density Estimates (KDEs)\n",
        "\n",
        "means = 10, 20\n",
        "stdevs = 4, 2\n",
        "\n",
        "dist = pd.DataFrame(np.random.normal(loc=means, scale=stdevs, size=(1000,2)), columns=['a', 'b'])\n",
        "\n",
        "print(dist.agg(['min', 'max', 'mean', 'std']).round(decimals=2))"
      ],
      "execution_count": 10,
      "outputs": [
        {
          "output_type": "stream",
          "text": [
            "          a      b\n",
            "min   -3.78  12.55\n",
            "max   23.28  26.54\n",
            "mean   9.99  19.99\n",
            "std    4.03   2.01\n"
          ],
          "name": "stdout"
        }
      ]
    },
    {
      "cell_type": "code",
      "metadata": {
        "id": "L1AJou07_ra3",
        "colab_type": "code",
        "colab": {
          "base_uri": "https://localhost:8080/",
          "height": 281
        },
        "outputId": "e1ec0f5b-8db0-44cc-e33d-0b62e925bbe3"
      },
      "source": [
        "# Create subplot view using data above\n",
        "fig, ax = plt.subplots()\n",
        "dist.plot.kde(ax=ax, legend=False, title='Histogram: A vs B')\n",
        "dist.plot.hist(density=True, ax=ax)\n",
        "ax.set_ylabel('Probability')\n",
        "ax.grid(axis='y')\n",
        "ax.set_facecolor('#d8dcd6')\n",
        "plt.show()"
      ],
      "execution_count": 11,
      "outputs": [
        {
          "output_type": "display_data",
          "data": {
            "image/png": "[encoded data removed]",
            "text/plain": [
              "<Figure size 432x288 with 1 Axes>"
            ]
          },
          "metadata": {
            "tags": []
          }
        }
      ]
    },
    {
      "cell_type": "code",
      "metadata": {
        "id": "6K4v9UB0AL9-",
        "colab_type": "code",
        "colab": {
          "base_uri": "https://localhost:8080/",
          "height": 282
        },
        "outputId": "4b94417b-ff17-4c3b-fc17-39a8409669d7"
      },
      "source": [
        "# Histograms with Seaborn -- use d variable\n",
        "import seaborn as sns\n",
        "\n",
        "# Set Seaborn stye to darkgrid\n",
        "sns.set_style('darkgrid')\n",
        "\n",
        "# Add KDE then fit curve to laplace distribution\n",
        "sns.distplot(d, fit=stats.laplace, kde=False)\n",
        "\n",
        "# Seaborn is a matplotlib wrapper\n",
        "plt.show"
      ],
      "execution_count": 14,
      "outputs": [
        {
          "output_type": "execute_result",
          "data": {
            "text/plain": [
              "<function matplotlib.pyplot.show>"
            ]
          },
          "metadata": {
            "tags": []
          },
          "execution_count": 14
        },
        {
          "output_type": "display_data",
          "data": {
            "image/png": "[encoded data removed]",
            "text/plain": [
              "<Figure size 432x288 with 1 Axes>"
            ]
          },
          "metadata": {
            "tags": []
          }
        }
      ]
    },
    {
      "cell_type": "code",
      "metadata": {
        "id": "lCQwgE3BBEna",
        "colab_type": "code",
        "colab": {
          "base_uri": "https://localhost:8080/",
          "height": 207
        },
        "outputId": "38b2ef71-7341-46be-de5c-fb1108600be4"
      },
      "source": [
        "# Pandas tools\n",
        "# Create dataset with 10,000 values\n",
        "data = np.random.choice(np.arange(10), size=10000, p=np.linspace(1, 11, 10) / 60)\n",
        "\n",
        "# Turn dataset into pandas Series\n",
        "s = pd.Series(data)\n",
        "\n",
        "# Check how counts of values\n",
        "print(s.value_counts())"
      ],
      "execution_count": 16,
      "outputs": [
        {
          "output_type": "stream",
          "text": [
            "9    1809\n",
            "8    1676\n",
            "7    1456\n",
            "6    1302\n",
            "5    1098\n",
            "4     898\n",
            "3     714\n",
            "2     535\n",
            "1     336\n",
            "0     176\n",
            "dtype: int64\n"
          ],
          "name": "stdout"
        }
      ]
    },
    {
      "cell_type": "code",
      "metadata": {
        "id": "JOubBqMxDKlO",
        "colab_type": "code",
        "colab": {
          "base_uri": "https://localhost:8080/",
          "height": 207
        },
        "outputId": "92e6c59b-749e-49d9-b8bb-e18fd2dbaf18"
      },
      "source": [
        "# Normalize the data - put on scale of 0-1\n",
        "print(s.value_counts(normalize=True))"
      ],
      "execution_count": 17,
      "outputs": [
        {
          "output_type": "stream",
          "text": [
            "9    0.1809\n",
            "8    0.1676\n",
            "7    0.1456\n",
            "6    0.1302\n",
            "5    0.1098\n",
            "4    0.0898\n",
            "3    0.0714\n",
            "2    0.0535\n",
            "1    0.0336\n",
            "0    0.0176\n",
            "dtype: float64\n"
          ],
          "name": "stdout"
        }
      ]
    },
    {
      "cell_type": "code",
      "metadata": {
        "id": "76XzdGO5Elc3",
        "colab_type": "code",
        "colab": {
          "base_uri": "https://localhost:8080/",
          "height": 121
        },
        "outputId": "ff29c3f2-0ca2-45bc-b35d-b44916d83a9d"
      },
      "source": [
        "# Using Cut\n",
        "ages = pd.Series([1, 1, 3, 5, 8, 10, 12, 15, 18, 18, 19, 20, 25, 30, 40, 51, 52])\n",
        "\n",
        "# 7 bins and 6 labels\n",
        "bins = [0, 10, 13, 18, 21, np.inf]\n",
        "labels = ['child', 'preteen', 'teen', 'military_ age', 'adult']\n",
        "\n",
        "# Cut assigns ages to the bin they belong to\n",
        "groups = pd.cut(ages, bins=bins, labels=labels)\n",
        "print(groups.value_counts())"
      ],
      "execution_count": 18,
      "outputs": [
        {
          "output_type": "stream",
          "text": [
            "child            6\n",
            "adult            5\n",
            "teen             3\n",
            "military_ age    2\n",
            "preteen          1\n",
            "dtype: int64\n"
          ],
          "name": "stdout"
        }
      ]
    },
    {
      "cell_type": "code",
      "metadata": {
        "id": "_XS-3LeTFROh",
        "colab_type": "code",
        "colab": {}
      },
      "source": [
        ""
      ],
      "execution_count": 0,
      "outputs": []
    }
  ]
}