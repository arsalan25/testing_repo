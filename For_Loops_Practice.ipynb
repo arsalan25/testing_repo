{
  "nbformat": 4,
  "nbformat_minor": 0,
  "metadata": {
    "colab": {
      "name": "For Loops Practice",
      "provenance": []
    },
    "kernelspec": {
      "name": "python3",
      "display_name": "Python 3"
    }
  },
  "cells": [
    {
      "cell_type": "code",
      "metadata": {
        "id": "VownvHZN5E_2",
        "colab_type": "code",
        "colab": {
          "base_uri": "https://localhost:8080/",
          "height": 87
        },
        "outputId": "0230a0e4-a520-4040-e89c-79a7ab8e5cde"
      },
      "source": [
        "# Looping through list of strings\n",
        "a = ['foo', 'bar', 'baz', 'quz']\n",
        "for i in a:\n",
        "  print(i)"
      ],
      "execution_count": 47,
      "outputs": [
        {
          "output_type": "stream",
          "text": [
            "foo\n",
            "bar\n",
            "baz\n",
            "quz\n"
          ],
          "name": "stdout"
        }
      ]
    },
    {
      "cell_type": "code",
      "metadata": {
        "id": "pHywvUgg8SHu",
        "colab_type": "code",
        "colab": {
          "base_uri": "https://localhost:8080/",
          "height": 212
        },
        "outputId": "c812ff3a-dd2d-468c-f1bc-0ad877e5c9e5"
      },
      "source": [
        "# Looping over 1 string\n",
        "b = 'Hello World'\n",
        "for i in b:\n",
        "  print(i)"
      ],
      "execution_count": 18,
      "outputs": [
        {
          "output_type": "stream",
          "text": [
            "H\n",
            "e\n",
            "l\n",
            "l\n",
            "o\n",
            " \n",
            "W\n",
            "o\n",
            "r\n",
            "l\n",
            "d\n"
          ],
          "name": "stdout"
        }
      ]
    },
    {
      "cell_type": "code",
      "metadata": {
        "id": "O42xkVlb8gAC",
        "colab_type": "code",
        "colab": {
          "base_uri": "https://localhost:8080/",
          "height": 70
        },
        "outputId": "0c2c9095-d67b-4a0f-f856-2574f35613b5"
      },
      "source": [
        "# Looping over a set\n",
        "c = {'foo', 'bar', 'baz'}\n",
        "for i in c:\n",
        "  print(i)\n",
        "\n",
        "# Results are not presented in original order"
      ],
      "execution_count": 19,
      "outputs": [
        {
          "output_type": "stream",
          "text": [
            "bar\n",
            "baz\n",
            "foo\n"
          ],
          "name": "stdout"
        }
      ]
    },
    {
      "cell_type": "code",
      "metadata": {
        "id": "I2iR3x7j85CM",
        "colab_type": "code",
        "colab": {
          "base_uri": "https://localhost:8080/",
          "height": 70
        },
        "outputId": "90bb6282-1e91-4937-c1d6-80e88d0c06c0"
      },
      "source": [
        "# Looping over a dictionary\n",
        "d = {'foo': 1, 'bar': 2, 'baz': 3}\n",
        "for i in d:\n",
        "  print(i)\n",
        "\n",
        "# Current loop prints keys"
      ],
      "execution_count": 36,
      "outputs": [
        {
          "output_type": "stream",
          "text": [
            "foo\n",
            "bar\n",
            "baz\n"
          ],
          "name": "stdout"
        }
      ]
    },
    {
      "cell_type": "code",
      "metadata": {
        "id": "tM-joERh9O2q",
        "colab_type": "code",
        "colab": {
          "base_uri": "https://localhost:8080/",
          "height": 34
        },
        "outputId": "fe62fc0d-83f6-4911-fd97-2caa1b2c3f53"
      },
      "source": [
        "# For loops use next(iter) function moves through iterable items until empty\n",
        "itr = iter(a)\n",
        "next(itr)"
      ],
      "execution_count": 32,
      "outputs": [
        {
          "output_type": "execute_result",
          "data": {
            "text/plain": [
              "'foo'"
            ]
          },
          "metadata": {
            "tags": []
          },
          "execution_count": 32
        }
      ]
    },
    {
      "cell_type": "code",
      "metadata": {
        "id": "YZ_OEAj8-MYv",
        "colab_type": "code",
        "colab": {
          "base_uri": "https://localhost:8080/",
          "height": 34
        },
        "outputId": "f7e75494-a637-4852-dba8-fc4917a77198"
      },
      "source": [
        "next(itr)"
      ],
      "execution_count": 33,
      "outputs": [
        {
          "output_type": "execute_result",
          "data": {
            "text/plain": [
              "'bar'"
            ]
          },
          "metadata": {
            "tags": []
          },
          "execution_count": 33
        }
      ]
    },
    {
      "cell_type": "code",
      "metadata": {
        "id": "8xLwTR_N-dtA",
        "colab_type": "code",
        "colab": {
          "base_uri": "https://localhost:8080/",
          "height": 34
        },
        "outputId": "a294b259-f84e-4bb2-a5f3-e7d4a100985c"
      },
      "source": [
        "next(itr)"
      ],
      "execution_count": 34,
      "outputs": [
        {
          "output_type": "execute_result",
          "data": {
            "text/plain": [
              "'baz'"
            ]
          },
          "metadata": {
            "tags": []
          },
          "execution_count": 34
        }
      ]
    },
    {
      "cell_type": "code",
      "metadata": {
        "id": "aPz1uHrs_s7M",
        "colab_type": "code",
        "colab": {
          "base_uri": "https://localhost:8080/",
          "height": 168
        },
        "outputId": "bdfac207-aa17-41b1-a9e0-de3fc2c55337"
      },
      "source": [
        "next(itr)\n",
        "# No more items left"
      ],
      "execution_count": 35,
      "outputs": [
        {
          "output_type": "error",
          "ename": "StopIteration",
          "evalue": "ignored",
          "traceback": [
            "\u001b[0;31m---------------------------------------------------------------------------\u001b[0m",
            "\u001b[0;31mStopIteration\u001b[0m                             Traceback (most recent call last)",
            "\u001b[0;32m<ipython-input-35-6693cc261707>\u001b[0m in \u001b[0;36m<module>\u001b[0;34m()\u001b[0m\n\u001b[0;32m----> 1\u001b[0;31m \u001b[0mnext\u001b[0m\u001b[0;34m(\u001b[0m\u001b[0mitr\u001b[0m\u001b[0;34m)\u001b[0m\u001b[0;34m\u001b[0m\u001b[0;34m\u001b[0m\u001b[0m\n\u001b[0m",
            "\u001b[0;31mStopIteration\u001b[0m: "
          ]
        }
      ]
    },
    {
      "cell_type": "code",
      "metadata": {
        "id": "y9Y1CZH6_t-I",
        "colab_type": "code",
        "colab": {
          "base_uri": "https://localhost:8080/",
          "height": 70
        },
        "outputId": "4ae6ada3-18a4-4dc4-e28e-f76336adb1f8"
      },
      "source": [
        "# Get the dictionary values\n",
        "for i in d.values():\n",
        "  print(i)"
      ],
      "execution_count": 38,
      "outputs": [
        {
          "output_type": "stream",
          "text": [
            "1\n",
            "2\n",
            "3\n"
          ],
          "name": "stdout"
        }
      ]
    },
    {
      "cell_type": "code",
      "metadata": {
        "id": "vBGa1nPnCLr4",
        "colab_type": "code",
        "colab": {
          "base_uri": "https://localhost:8080/",
          "height": 70
        },
        "outputId": "7b91ed91-f550-4fa2-b7da-d59c8389548d"
      },
      "source": [
        "# Get the key-value combinations\n",
        "for k,v in d.items():\n",
        "  print(f'k={k}, v={v}')"
      ],
      "execution_count": 40,
      "outputs": [
        {
          "output_type": "stream",
          "text": [
            "k=foo, v=1\n",
            "k=bar, v=2\n",
            "k=baz, v=3\n"
          ],
          "name": "stdout"
        }
      ]
    },
    {
      "cell_type": "code",
      "metadata": {
        "id": "9qAqGK4lCfy8",
        "colab_type": "code",
        "colab": {
          "base_uri": "https://localhost:8080/",
          "height": 176
        },
        "outputId": "e8854e31-4307-40f1-bea8-bf2ce1587139"
      },
      "source": [
        "# Range, Break, and Continue\n",
        "# Range with 2 numbers: 1st is start inclusive, 2nd is stop exclusive\n",
        "r = range(2,11)\n",
        "for i in r:\n",
        "  print(i)"
      ],
      "execution_count": 42,
      "outputs": [
        {
          "output_type": "stream",
          "text": [
            "2\n",
            "3\n",
            "4\n",
            "5\n",
            "6\n",
            "7\n",
            "8\n",
            "9\n",
            "10\n"
          ],
          "name": "stdout"
        }
      ]
    },
    {
      "cell_type": "code",
      "metadata": {
        "id": "U9dQkhs4DJwM",
        "colab_type": "code",
        "colab": {
          "base_uri": "https://localhost:8080/",
          "height": 105
        },
        "outputId": "aed8fc02-50c7-455c-8d06-eb541afde315"
      },
      "source": [
        "# Range with 3 numbers: 1st starts, 2nd stops exclusive, 3rd step\n",
        "r3 = range(2,11,2)\n",
        "for i in r3:\n",
        "  print(i)"
      ],
      "execution_count": 43,
      "outputs": [
        {
          "output_type": "stream",
          "text": [
            "2\n",
            "4\n",
            "6\n",
            "8\n",
            "10\n"
          ],
          "name": "stdout"
        }
      ]
    },
    {
      "cell_type": "code",
      "metadata": {
        "id": "a1gA2CeoDorF",
        "colab_type": "code",
        "colab": {
          "base_uri": "https://localhost:8080/",
          "height": 34
        },
        "outputId": "e73d7df0-6040-404c-97f6-fa5d9e588a6e"
      },
      "source": [
        "\n",
        "#Break breaks loop when condition met\n",
        "for i in a:\n",
        "  if 'b' in i:\n",
        "    break\n",
        "  print(i)"
      ],
      "execution_count": 44,
      "outputs": [
        {
          "output_type": "stream",
          "text": [
            "foo\n"
          ],
          "name": "stdout"
        }
      ]
    },
    {
      "cell_type": "code",
      "metadata": {
        "id": "nvxDcRt0Ja3G",
        "colab_type": "code",
        "colab": {
          "base_uri": "https://localhost:8080/",
          "height": 52
        },
        "outputId": "71f8d11f-de38-444d-803f-63272b8deb2d"
      },
      "source": [
        "# Continue skips item but keeps loop going\n",
        "for i in a:\n",
        "  if 'b' in i:\n",
        "    continue \n",
        "  print(i)"
      ],
      "execution_count": 48,
      "outputs": [
        {
          "output_type": "stream",
          "text": [
            "foo\n",
            "quz\n"
          ],
          "name": "stdout"
        }
      ]
    },
    {
      "cell_type": "code",
      "metadata": {
        "id": "A6oLX_rXJkyY",
        "colab_type": "code",
        "colab": {
          "base_uri": "https://localhost:8080/",
          "height": 105
        },
        "outputId": "68b55e33-6f60-4f65-8d90-5a3038a615ab"
      },
      "source": [
        "# Else statement\n",
        "for i in a:\n",
        "  print(i)\n",
        "else:\n",
        "  print('Done')"
      ],
      "execution_count": 49,
      "outputs": [
        {
          "output_type": "stream",
          "text": [
            "foo\n",
            "bar\n",
            "baz\n",
            "quz\n",
            "Done\n"
          ],
          "name": "stdout"
        }
      ]
    },
    {
      "cell_type": "code",
      "metadata": {
        "id": "u_52CgXuNSSx",
        "colab_type": "code",
        "colab": {
          "base_uri": "https://localhost:8080/",
          "height": 70
        },
        "outputId": "0ad4e93a-86ae-4eea-8818-9ddf8b72d398"
      },
      "source": [
        "# Else with continue\n",
        "for i in a:\n",
        "  if 'b' in i:\n",
        "    continue\n",
        "  print(i)\n",
        "else:\n",
        "  print('Done')"
      ],
      "execution_count": 50,
      "outputs": [
        {
          "output_type": "stream",
          "text": [
            "foo\n",
            "quz\n",
            "Done\n"
          ],
          "name": "stdout"
        }
      ]
    },
    {
      "cell_type": "code",
      "metadata": {
        "id": "AFvRFy9bNkvf",
        "colab_type": "code",
        "colab": {}
      },
      "source": [
        "# Tutorial: https://realpython.com/lessons/looping-range-break-continue/"
      ],
      "execution_count": 0,
      "outputs": []
    }
  ]
}