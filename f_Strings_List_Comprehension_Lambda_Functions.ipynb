{
  "nbformat": 4,
  "nbformat_minor": 0,
  "metadata": {
    "colab": {
      "name": "f-Strings --  List Comprehension -- Lambda Functions",
      "provenance": [],
      "include_colab_link": true
    },
    "kernelspec": {
      "name": "python3",
      "display_name": "Python 3"
    }
  },
  "cells": [
    {
      "cell_type": "markdown",
      "metadata": {
        "id": "view-in-github",
        "colab_type": "text"
      },
      "source": [
        "<a href=\"https://colab.research.google.com/github/juansvas/testing_repo/blob/master/f_Strings_List_Comprehension_Lambda_Functions.ipynb\" target=\"_parent\"><img src=\"https://colab.research.google.com/assets/colab-badge.svg\" alt=\"Open In Colab\"/></a>"
      ]
    },
    {
      "cell_type": "code",
      "metadata": {
        "id": "uL7RPbvR-JGV",
        "colab_type": "code",
        "outputId": "57fea84b-ba97-4a69-a1c7-8af37368bdfe",
        "colab": {
          "base_uri": "https://localhost:8080/",
          "height": 34
        }
      },
      "source": [
        "# f-Strings\n",
        "# Sample uses\n",
        "f\"{2*38}\""
      ],
      "execution_count": 0,
      "outputs": [
        {
          "output_type": "execute_result",
          "data": {
            "text/plain": [
              "'76'"
            ]
          },
          "metadata": {
            "tags": []
          },
          "execution_count": 1
        }
      ]
    },
    {
      "cell_type": "code",
      "metadata": {
        "id": "8hWrGslB_CBZ",
        "colab_type": "code",
        "outputId": "5f00c83e-a9ff-4c07-d4f7-cc9f1adf0a19",
        "colab": {
          "base_uri": "https://localhost:8080/",
          "height": 34
        }
      },
      "source": [
        "name = \"Juan\"\n",
        "f\"{name * 5}\""
      ],
      "execution_count": 0,
      "outputs": [
        {
          "output_type": "execute_result",
          "data": {
            "text/plain": [
              "'JuanJuanJuanJuanJuan'"
            ]
          },
          "metadata": {
            "tags": []
          },
          "execution_count": 4
        }
      ]
    },
    {
      "cell_type": "code",
      "metadata": {
        "id": "-qTJNUxg_Imr",
        "colab_type": "code",
        "outputId": "6546885e-02b8-4996-e5d1-d6cab530e74b",
        "colab": {
          "base_uri": "https://localhost:8080/",
          "height": 34
        }
      },
      "source": [
        "# Can call functions in f-Strings\n",
        "def to_lowercase(input):\n",
        "  return input.lower()\n",
        "\n",
        "f\"{to_lowercase(name)} coded this\""
      ],
      "execution_count": 0,
      "outputs": [
        {
          "output_type": "execute_result",
          "data": {
            "text/plain": [
              "'juan coded this'"
            ]
          },
          "metadata": {
            "tags": []
          },
          "execution_count": 8
        }
      ]
    },
    {
      "cell_type": "code",
      "metadata": {
        "id": "kb9SSM8IAEbm",
        "colab_type": "code",
        "outputId": "d642a703-c2d8-4107-dc4f-ceb8e5a0733c",
        "colab": {
          "base_uri": "https://localhost:8080/",
          "height": 34
        }
      },
      "source": [
        "# Methods can be called on variable inside f-string\n",
        "f\"{name.upper()} coded this.\""
      ],
      "execution_count": 0,
      "outputs": [
        {
          "output_type": "execute_result",
          "data": {
            "text/plain": [
              "'JUAN coded this.'"
            ]
          },
          "metadata": {
            "tags": []
          },
          "execution_count": 9
        }
      ]
    },
    {
      "cell_type": "code",
      "metadata": {
        "id": "QNEjYlfnAi9F",
        "colab_type": "code",
        "outputId": "f1eb349a-6f06-4318-e382-1bec78229235",
        "colab": {
          "base_uri": "https://localhost:8080/",
          "height": 34
        }
      },
      "source": [
        "# Formatting Multi Line f-Strings\n",
        "# Break after each line with back slash\n",
        "# Start each additional line with own f\" \n",
        "message = f\"{name} coded this. \"\\\n",
        "          f\"THIS IS LINE TWO {name}. \"\\\n",
        "          f\"Always keep it {name.upper()}hundred\"\n",
        "\n",
        "message"
      ],
      "execution_count": 0,
      "outputs": [
        {
          "output_type": "execute_result",
          "data": {
            "text/plain": [
              "'Juan coded this. THIS IS LINE TWO Juan. Always keep it JUANhundred'"
            ]
          },
          "metadata": {
            "tags": []
          },
          "execution_count": 22
        }
      ]
    },
    {
      "cell_type": "code",
      "metadata": {
        "id": "KGfSytUWBmeL",
        "colab_type": "code",
        "outputId": "ca4210b9-500d-4857-8d10-e7d2f76e0946",
        "colab": {
          "base_uri": "https://localhost:8080/",
          "height": 34
        }
      },
      "source": [
        "# Use Triple Quotes (\"\"\") for multi-line f-string\n",
        "new_message = f\"\"\"\n",
        "      This is {name}.\n",
        "      {name} lives in LA.\n",
        "      LA keeps it {name}hundred.\n",
        "      \"\"\"\n",
        "new_message\n",
        "# Note output shows line breaks"
      ],
      "execution_count": 0,
      "outputs": [
        {
          "output_type": "execute_result",
          "data": {
            "text/plain": [
              "'\\n      This is Juan.\\n      Juan lives in LA.\\n      LA keeps it Juanhundred.\\n      '"
            ]
          },
          "metadata": {
            "tags": []
          },
          "execution_count": 23
        }
      ]
    },
    {
      "cell_type": "code",
      "metadata": {
        "id": "B2tKyyc-DLT8",
        "colab_type": "code",
        "colab": {}
      },
      "source": [
        "# List Comprehensions\n",
        "# Simple list comprehension - short hand regular loop\n",
        "# Format: values = [expression for value in collection]\n",
        "squares = [x * x for x in range(10)]\n",
        "\n",
        "# Comparable for loop\n",
        "squares2 = []\n",
        "for x in range(10):\n",
        "  squares2.append(x * x)"
      ],
      "execution_count": 0,
      "outputs": []
    },
    {
      "cell_type": "code",
      "metadata": {
        "id": "i3xP7iPsIcZO",
        "colab_type": "code",
        "outputId": "3fb9f2f8-158b-44f4-e741-7d7ba3007920",
        "colab": {
          "base_uri": "https://localhost:8080/",
          "height": 50
        }
      },
      "source": [
        "print(squares)\n",
        "print(squares2)"
      ],
      "execution_count": 0,
      "outputs": [
        {
          "output_type": "stream",
          "text": [
            "[0, 1, 4, 9, 16, 25, 36, 49, 64, 81]\n",
            "[0, 1, 4, 9, 16, 25, 36, 49, 64, 81]\n"
          ],
          "name": "stdout"
        }
      ]
    },
    {
      "cell_type": "code",
      "metadata": {
        "id": "jJyuvGU5IxFY",
        "colab_type": "code",
        "outputId": "e8446f90-203c-4474-d9d0-fe65678196ee",
        "colab": {
          "base_uri": "https://localhost:8080/",
          "height": 34
        }
      },
      "source": [
        "# Filtering for even numbers-- include if statement after original expression\n",
        "even_squares = [x * x for x in range(10) if x % 2 == 0]\n",
        "even_squares"
      ],
      "execution_count": 0,
      "outputs": [
        {
          "output_type": "execute_result",
          "data": {
            "text/plain": [
              "[0, 4, 16, 36, 64]"
            ]
          },
          "metadata": {
            "tags": []
          },
          "execution_count": 31
        }
      ]
    },
    {
      "cell_type": "code",
      "metadata": {
        "id": "t1WQvn3dJw-m",
        "colab_type": "code",
        "outputId": "c57ffdb4-5504-452d-b4e8-261352ed7636",
        "colab": {
          "base_uri": "https://localhost:8080/",
          "height": 34
        }
      },
      "source": [
        "# Lambda Functions\n",
        "# Simple function\n",
        "def myfunc(x, y, z):\n",
        "  result = x + y +z\n",
        "  return result\n",
        "\n",
        "# Lambda alternative -- ':' serves as return\n",
        "lambda x, y, z : x + y + z"
      ],
      "execution_count": 0,
      "outputs": [
        {
          "output_type": "execute_result",
          "data": {
            "text/plain": [
              "<function __main__.<lambda>>"
            ]
          },
          "metadata": {
            "tags": []
          },
          "execution_count": 32
        }
      ]
    },
    {
      "cell_type": "code",
      "metadata": {
        "id": "bBrfRRx9SlSy",
        "colab_type": "code",
        "outputId": "afdcbc66-116b-4921-da79-f723f052b06d",
        "colab": {
          "base_uri": "https://localhost:8080/",
          "height": 34
        }
      },
      "source": [
        "# Simple function\n",
        "def second(x):\n",
        "  \"\"\"Returns second item in iterable\"\"\"\n",
        "  return x[1]\n",
        "\n",
        "# List of tuples\n",
        "a = [(1,2), (2,5), (3,1), (4,15)]\n",
        "\n",
        "# Sort list by function\n",
        "a.sort(key=second)\n",
        "a"
      ],
      "execution_count": 0,
      "outputs": [
        {
          "output_type": "execute_result",
          "data": {
            "text/plain": [
              "[(3, 1), (1, 2), (2, 5), (4, 15)]"
            ]
          },
          "metadata": {
            "tags": []
          },
          "execution_count": 34
        }
      ]
    },
    {
      "cell_type": "code",
      "metadata": {
        "id": "oNgnVYrrTpgm",
        "colab_type": "code",
        "colab": {}
      },
      "source": [
        "# Lambda alternative\n",
        "a.sort(key=lambda x:x[1])"
      ],
      "execution_count": 0,
      "outputs": []
    },
    {
      "cell_type": "code",
      "metadata": {
        "id": "PDqtKWAwT7YX",
        "colab_type": "code",
        "outputId": "a10499bb-cf65-4de0-8758-64c84344d994",
        "colab": {
          "base_uri": "https://localhost:8080/",
          "height": 34
        }
      },
      "source": [
        "# Squaring a number\n",
        "squared = lambda x: x ** 2\n",
        "squared(5)"
      ],
      "execution_count": 0,
      "outputs": [
        {
          "output_type": "execute_result",
          "data": {
            "text/plain": [
              "25"
            ]
          },
          "metadata": {
            "tags": []
          },
          "execution_count": 36
        }
      ]
    },
    {
      "cell_type": "code",
      "metadata": {
        "id": "OalYRM9TUO2n",
        "colab_type": "code",
        "outputId": "adca5cc8-a32b-4bb2-f0db-5a3de625c507",
        "colab": {
          "base_uri": "https://localhost:8080/",
          "height": 34
        }
      },
      "source": [
        "# Adding 2 numbers\n",
        "add = lambda x, y: x + y\n",
        "add(3,6)"
      ],
      "execution_count": 0,
      "outputs": [
        {
          "output_type": "execute_result",
          "data": {
            "text/plain": [
              "9"
            ]
          },
          "metadata": {
            "tags": []
          },
          "execution_count": 37
        }
      ]
    },
    {
      "cell_type": "code",
      "metadata": {
        "id": "cv2txiXDUhtG",
        "colab_type": "code",
        "outputId": "a838601f-43e3-4614-b4d5-069ef38615d8",
        "colab": {
          "base_uri": "https://localhost:8080/",
          "height": 34
        }
      },
      "source": [
        "# Multiplying 3 numbers\n",
        "mult = lambda x, y, z: x*y*z\n",
        "mult(2,4,6)"
      ],
      "execution_count": 0,
      "outputs": [
        {
          "output_type": "execute_result",
          "data": {
            "text/plain": [
              "48"
            ]
          },
          "metadata": {
            "tags": []
          },
          "execution_count": 39
        }
      ]
    },
    {
      "cell_type": "code",
      "metadata": {
        "id": "o8FwInkaUoeW",
        "colab_type": "code",
        "outputId": "a480a4fc-8191-423a-ab9e-a394313b9060",
        "colab": {
          "base_uri": "https://localhost:8080/",
          "height": 34
        }
      },
      "source": [
        "# Default values -- y has default of 2\n",
        "power = lambda x, y=2: x ** y\n",
        "power(5)"
      ],
      "execution_count": 0,
      "outputs": [
        {
          "output_type": "execute_result",
          "data": {
            "text/plain": [
              "25"
            ]
          },
          "metadata": {
            "tags": []
          },
          "execution_count": 41
        }
      ]
    },
    {
      "cell_type": "code",
      "metadata": {
        "id": "KUi3SdTMU2yW",
        "colab_type": "code",
        "outputId": "125d4535-220b-4b47-bac1-89f5e75e24e7",
        "colab": {
          "base_uri": "https://localhost:8080/",
          "height": 34
        }
      },
      "source": [
        "# Using lambdas in .sort(key= )\n",
        "# Sort by last name (last word in splitted string)\n",
        "names = ['Juan Vasquez', 'Kim Rodriguez', 'Fernando Vasquez']\n",
        "names.sort(key=lambda x: x.split()[-1].lower())\n",
        "print(names)\n"
      ],
      "execution_count": 0,
      "outputs": [
        {
          "output_type": "stream",
          "text": [
            "['Kim Rodriguez', 'Juan Vasquez', 'Fernando Vasquez']\n"
          ],
          "name": "stdout"
        }
      ]
    },
    {
      "cell_type": "code",
      "metadata": {
        "id": "zd5JQ82VVbW_",
        "colab_type": "code",
        "outputId": "0fabd948-1b0f-4a0e-c9af-cfbcb7b3308e",
        "colab": {
          "base_uri": "https://localhost:8080/",
          "height": 50
        }
      },
      "source": [
        "# Sorting tuples\n",
        "# Sort tuple by ages, oldest first\n",
        "people = [('Steve', 35), ('Karen', 28), ('Gerald', 58), ('Jo', 72)]\n",
        "print(people)\n",
        "people.sort(key=lambda x: x[1], reverse=True)\n",
        "print(people)"
      ],
      "execution_count": 0,
      "outputs": [
        {
          "output_type": "stream",
          "text": [
            "[('Steve', 35), ('Karen', 28), ('Gerald', 58), ('Jo', 72)]\n",
            "[('Jo', 72), ('Gerald', 58), ('Steve', 35), ('Karen', 28)]\n"
          ],
          "name": "stdout"
        }
      ]
    },
    {
      "cell_type": "code",
      "metadata": {
        "id": "3zR4ayaTWfso",
        "colab_type": "code",
        "outputId": "e116c4ee-0094-4621-bf7e-93b4b63b6d79",
        "colab": {
          "base_uri": "https://localhost:8080/",
          "height": 50
        }
      },
      "source": [
        "# Create Person class and instantiate objects of that class\n",
        "class Person:\n",
        "  def __init__(self, name, age):\n",
        "    self.name = name\n",
        "    self.age = age\n",
        "\n",
        "  def __repr__(self):\n",
        "    return f'{self.name} : {self.age}'\n",
        "\n",
        "juan = Person('Juan', 31)\n",
        "kim = Person('Kim', 32)\n",
        "\n",
        "p = [juan, kim]\n",
        "print(p)\n",
        "p.sort(key= lambda x:x.age, reverse=True)\n",
        "print(p)"
      ],
      "execution_count": 0,
      "outputs": [
        {
          "output_type": "stream",
          "text": [
            "[Juan : 31, Kim : 32]\n",
            "[Kim : 32, Juan : 31]\n"
          ],
          "name": "stdout"
        }
      ]
    },
    {
      "cell_type": "code",
      "metadata": {
        "id": "vHbGoy6PXjkw",
        "colab_type": "code",
        "outputId": "5298cbbe-3ea0-4dc0-ba9c-5da831b4632b",
        "colab": {
          "base_uri": "https://localhost:8080/",
          "height": 34
        }
      },
      "source": [
        "# Filtering: filter(function, iterable)\n",
        "nums = [1, 2, 3, 4]\n",
        "\n",
        "# Use lambda to filter for even numbers\n",
        "even = list(filter(lambda x: x % 2 == 0, nums))\n",
        "print(even)"
      ],
      "execution_count": 0,
      "outputs": [
        {
          "output_type": "stream",
          "text": [
            "[2, 4]\n"
          ],
          "name": "stdout"
        }
      ]
    },
    {
      "cell_type": "code",
      "metadata": {
        "id": "qNtfC4-OYtl_",
        "colab_type": "code",
        "outputId": "1015e79f-bc73-43bb-f2a4-dba6f1999f46",
        "colab": {
          "base_uri": "https://localhost:8080/",
          "height": 50
        }
      },
      "source": [
        "numbers = list(range(1, 20))\n",
        "odds = list(filter(lambda x: x % 2 !=0, numbers))\n",
        "print(numbers)\n",
        "print(odds)"
      ],
      "execution_count": 0,
      "outputs": [
        {
          "output_type": "stream",
          "text": [
            "[1, 2, 3, 4, 5, 6, 7, 8, 9, 10, 11, 12, 13, 14, 15, 16, 17, 18, 19]\n",
            "[1, 3, 5, 7, 9, 11, 13, 15, 17, 19]\n"
          ],
          "name": "stdout"
        }
      ]
    },
    {
      "cell_type": "code",
      "metadata": {
        "id": "BjRhKuzSZcxu",
        "colab_type": "code",
        "outputId": "69671753-559b-402a-ab35-a8eea5137c1d",
        "colab": {
          "base_uri": "https://localhost:8080/",
          "height": 67
        }
      },
      "source": [
        "# check for values above mean\n",
        "from statistics import mean\n",
        "data = list(range(1,21))\n",
        "avg = mean(data)\n",
        "above_avg = list(filter(lambda x : x > avg, data))\n",
        "print(data)\n",
        "print(f\"avg: {avg}\")\n",
        "print(f\"above average: {above_avg}\")\n"
      ],
      "execution_count": 0,
      "outputs": [
        {
          "output_type": "stream",
          "text": [
            "[1, 2, 3, 4, 5, 6, 7, 8, 9, 10, 11, 12, 13, 14, 15, 16, 17, 18, 19, 20]\n",
            "avg: 10.5\n",
            "above average: [11, 12, 13, 14, 15, 16, 17, 18, 19, 20]\n"
          ],
          "name": "stdout"
        }
      ]
    },
    {
      "cell_type": "code",
      "metadata": {
        "id": "WtXdUEWxZ6F2",
        "colab_type": "code",
        "outputId": "3f903b13-8909-4853-a859-9043c827f755",
        "colab": {
          "base_uri": "https://localhost:8080/",
          "height": 50
        }
      },
      "source": [
        "# Filtering text\n",
        "nicknames = ['LAFC', 'Galaxy', 'Sounders', 'Quakes']\n",
        "print(nicknames)\n",
        "\n",
        "# New list filtering for names with less than 6 characters\n",
        "short = list(filter(lambda x: len(x) < 6, nicknames))\n",
        "print(short)"
      ],
      "execution_count": 0,
      "outputs": [
        {
          "output_type": "stream",
          "text": [
            "['LAFC', 'Galaxy', 'Sounders', 'Quakes']\n",
            "['LAFC']\n"
          ],
          "name": "stdout"
        }
      ]
    },
    {
      "cell_type": "code",
      "metadata": {
        "id": "xOTjNuKYamIQ",
        "colab_type": "code",
        "outputId": "b6d21875-a8a9-4ec2-82dd-e2815e8be32e",
        "colab": {
          "base_uri": "https://localhost:8080/",
          "height": 34
        }
      },
      "source": [
        "# Using Map to return new iterable: map(function, iterable)\n",
        "# Function is applied to every iterable\n",
        "numeros = [1, 2, 4, 6]\n",
        "cuadrados = list(map(lambda x: x ** 2, nums))\n",
        "print(cuadrados)"
      ],
      "execution_count": 0,
      "outputs": [
        {
          "output_type": "stream",
          "text": [
            "[1, 4, 9, 16]\n"
          ],
          "name": "stdout"
        }
      ]
    },
    {
      "cell_type": "code",
      "metadata": {
        "id": "emP7A0q6bYG9",
        "colab_type": "code",
        "colab": {}
      },
      "source": [
        ""
      ],
      "execution_count": 0,
      "outputs": []
    }
  ]
}