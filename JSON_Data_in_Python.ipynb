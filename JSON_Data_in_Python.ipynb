{
  "nbformat": 4,
  "nbformat_minor": 0,
  "metadata": {
    "colab": {
      "name": "JSON Data in Python",
      "provenance": [],
      "include_colab_link": true
    },
    "kernelspec": {
      "name": "python3",
      "display_name": "Python 3"
    }
  },
  "cells": [
    {
      "cell_type": "markdown",
      "metadata": {
        "id": "view-in-github",
        "colab_type": "text"
      },
      "source": [
        "<a href=\"https://colab.research.google.com/github/juansvas/testing_repo/blob/master/JSON_Data_in_Python.ipynb\" target=\"_parent\"><img src=\"https://colab.research.google.com/assets/colab-badge.svg\" alt=\"Open In Colab\"/></a>"
      ]
    },
    {
      "cell_type": "code",
      "metadata": {
        "id": "M0488OOZmggd",
        "colab_type": "code",
        "colab": {}
      },
      "source": [
        "import json"
      ],
      "execution_count": 0,
      "outputs": []
    },
    {
      "cell_type": "code",
      "metadata": {
        "id": "srEL7Y9lnqmZ",
        "colab_type": "code",
        "colab": {}
      },
      "source": [
        "# data variable with a nested dictionary\n",
        "\n",
        "data = {\n",
        "    \"user\": {\n",
        "        \"name\": \"Bob Bradley\",\n",
        "        \"age\" : 63\n",
        "    }  \n",
        "}"
      ],
      "execution_count": 0,
      "outputs": []
    },
    {
      "cell_type": "code",
      "metadata": {
        "id": "nVUpHn4eoik-",
        "colab_type": "code",
        "colab": {
          "base_uri": "https://localhost:8080/",
          "height": 118
        },
        "outputId": "e1d873fb-a558-43dc-c208-4e7da4781e0e"
      },
      "source": [
        "# Serialization\n",
        "# Write data to json file, use dump because it is a file-like object\n",
        "with open(\"data_file.json\", \"w\") as write_file:\n",
        "  json.dump(data, write_file, indent=4)\n",
        "\n",
        "# Create string variable of json data\n",
        "json_str = json.dumps(data, indent=4)\n",
        "print(json_str)"
      ],
      "execution_count": 4,
      "outputs": [
        {
          "output_type": "stream",
          "text": [
            "{\n",
            "    \"user\": {\n",
            "        \"name\": \"Bob Bradley\",\n",
            "        \"age\": 63\n",
            "    }\n",
            "}\n"
          ],
          "name": "stdout"
        }
      ]
    },
    {
      "cell_type": "code",
      "metadata": {
        "id": "a52tO1EkqWaq",
        "colab_type": "code",
        "colab": {
          "base_uri": "https://localhost:8080/",
          "height": 50
        },
        "outputId": "fca55337-3299-4fe3-f4a3-e3d6c2eb23f4"
      },
      "source": [
        "# Deserialization\n",
        "# Create variable storing tuple\n",
        "blackjack_hand = (8, \"Q\")\n",
        "encoded_hand = json.dumps(blackjack_hand)\n",
        "decoded_hand = json.loads(encoded_hand)\n",
        "print(type(decoded_hand))\n",
        "print(type(encoded_hand))"
      ],
      "execution_count": 7,
      "outputs": [
        {
          "output_type": "stream",
          "text": [
            "<class 'list'>\n",
            "<class 'str'>\n"
          ],
          "name": "stdout"
        }
      ]
    },
    {
      "cell_type": "code",
      "metadata": {
        "id": "9w27_bR-q49S",
        "colab_type": "code",
        "colab": {}
      },
      "source": [
        "# Import requests to bring in data from web\n",
        "import requests"
      ],
      "execution_count": 0,
      "outputs": []
    },
    {
      "cell_type": "code",
      "metadata": {
        "id": "lpbhBdTCs0gP",
        "colab_type": "code",
        "colab": {}
      },
      "source": [
        "# Load sample data into response variable (use dummy dataset https://jsonplaceholder.typicode.com/todos)\n",
        "response = requests.get(\"https://jsonplaceholder.typicode.com/todos\")"
      ],
      "execution_count": 0,
      "outputs": []
    },
    {
      "cell_type": "code",
      "metadata": {
        "id": "1RF3AAv_tPaV",
        "colab_type": "code",
        "colab": {}
      },
      "source": [
        "# Load text from response into variable, starting dataset was string so load into string\n",
        "todos = json.loads(response.text)"
      ],
      "execution_count": 0,
      "outputs": []
    },
    {
      "cell_type": "code",
      "metadata": {
        "id": "L2CzazJStVoc",
        "colab_type": "code",
        "colab": {
          "base_uri": "https://localhost:8080/",
          "height": 34
        },
        "outputId": "22d6881c-45bc-41f1-e683-08bff381ee0f"
      },
      "source": [
        "# Figure out which users have completed most to-do's\n",
        "# Initialize empty dictionary \n",
        "todos_by_user = {}\n",
        "\n",
        "# Loop through to-do's and aggregate userId's completed task into empty dictionary above\n",
        "for todo in todos:\n",
        "  if todo[\"completed\"]:\n",
        "    try:\n",
        "      todos_by_user[todo[\"userId\"]] += 1\n",
        "    except KeyError:\n",
        "      todos_by_user[todo[\"userId\"]] = 1\n",
        "\n",
        "# Create tuple of top user with count -- Sort tuples in reverse/DESC order \n",
        "top_users = sorted(todos_by_user.items(), key=lambda x: x[1], reverse=True)\n",
        "\n",
        "# Create variable to store top count of completed tasks\n",
        "max_complete = top_users[0][1]\n",
        "\n",
        "# Initialize empty list to append high-completion users to and then loop through top users list\n",
        "users = []\n",
        "\n",
        "for user, num_complete in top_users:\n",
        "  if num_complete < max_complete:\n",
        "    break\n",
        "  users.append(str(user))\n",
        "\n",
        "# Use f-String to identify and verbalize top users\n",
        "max_users = \" and \".join(users)\n",
        "\n",
        "print(f\"user(s) {max_users} completed {max_complete} TODOs\")"
      ],
      "execution_count": 14,
      "outputs": [
        {
          "output_type": "stream",
          "text": [
            "user(s) 5 and 10 completed 12 TODOs\n"
          ],
          "name": "stdout"
        }
      ]
    },
    {
      "cell_type": "code",
      "metadata": {
        "id": "FOaaIoDyth4t",
        "colab_type": "code",
        "colab": {}
      },
      "source": [
        "# Create function to compile list of completed to-dos by users 5 and 10\n",
        "def keep(todo):\n",
        "  is_complete = todo[\"completed\"] # Looks for completed to-do's\n",
        "  has_max_count = str(todo[\"userId\"]) in users # users is a list with users 5 and 10 only\n",
        "  return is_complete and has_max_count\n",
        "\n",
        "# Write completed tasks by top 2 users into file\n",
        "with open(\"filtered_file.json\", \"w\") as data_file:\n",
        "  filtered_todos = list(filter(keep, todos))\n",
        "  json.dump(filtered_todos, data_file, indent=2)"
      ],
      "execution_count": 0,
      "outputs": []
    },
    {
      "cell_type": "code",
      "metadata": {
        "id": "Yv9pOa2Bw-Tt",
        "colab_type": "code",
        "colab": {}
      },
      "source": [
        "todo_string = json.dumps(filtered_todos, indent=2)"
      ],
      "execution_count": 0,
      "outputs": []
    },
    {
      "cell_type": "code",
      "metadata": {
        "id": "qN-tIsvkxw5H",
        "colab_type": "code",
        "colab": {
          "base_uri": "https://localhost:8080/",
          "height": 1000
        },
        "outputId": "4f0037c4-84eb-40eb-e628-1631d7d3b914"
      },
      "source": [
        "print(todo_string)"
      ],
      "execution_count": 19,
      "outputs": [
        {
          "output_type": "stream",
          "text": [
            "[\n",
            "  {\n",
            "    \"userId\": 5,\n",
            "    \"id\": 81,\n",
            "    \"title\": \"suscipit qui totam\",\n",
            "    \"completed\": true\n",
            "  },\n",
            "  {\n",
            "    \"userId\": 5,\n",
            "    \"id\": 83,\n",
            "    \"title\": \"quidem at rerum quis ex aut sit quam\",\n",
            "    \"completed\": true\n",
            "  },\n",
            "  {\n",
            "    \"userId\": 5,\n",
            "    \"id\": 85,\n",
            "    \"title\": \"et quia ad iste a\",\n",
            "    \"completed\": true\n",
            "  },\n",
            "  {\n",
            "    \"userId\": 5,\n",
            "    \"id\": 86,\n",
            "    \"title\": \"incidunt ut saepe autem\",\n",
            "    \"completed\": true\n",
            "  },\n",
            "  {\n",
            "    \"userId\": 5,\n",
            "    \"id\": 87,\n",
            "    \"title\": \"laudantium quae eligendi consequatur quia et vero autem\",\n",
            "    \"completed\": true\n",
            "  },\n",
            "  {\n",
            "    \"userId\": 5,\n",
            "    \"id\": 89,\n",
            "    \"title\": \"sequi ut omnis et\",\n",
            "    \"completed\": true\n",
            "  },\n",
            "  {\n",
            "    \"userId\": 5,\n",
            "    \"id\": 90,\n",
            "    \"title\": \"molestiae nisi accusantium tenetur dolorem et\",\n",
            "    \"completed\": true\n",
            "  },\n",
            "  {\n",
            "    \"userId\": 5,\n",
            "    \"id\": 91,\n",
            "    \"title\": \"nulla quis consequatur saepe qui id expedita\",\n",
            "    \"completed\": true\n",
            "  },\n",
            "  {\n",
            "    \"userId\": 5,\n",
            "    \"id\": 92,\n",
            "    \"title\": \"in omnis laboriosam\",\n",
            "    \"completed\": true\n",
            "  },\n",
            "  {\n",
            "    \"userId\": 5,\n",
            "    \"id\": 93,\n",
            "    \"title\": \"odio iure consequatur molestiae quibusdam necessitatibus quia sint\",\n",
            "    \"completed\": true\n",
            "  },\n",
            "  {\n",
            "    \"userId\": 5,\n",
            "    \"id\": 95,\n",
            "    \"title\": \"vel nihil et molestiae iusto assumenda nemo quo ut\",\n",
            "    \"completed\": true\n",
            "  },\n",
            "  {\n",
            "    \"userId\": 5,\n",
            "    \"id\": 98,\n",
            "    \"title\": \"debitis accusantium ut quo facilis nihil quis sapiente necessitatibus\",\n",
            "    \"completed\": true\n",
            "  },\n",
            "  {\n",
            "    \"userId\": 10,\n",
            "    \"id\": 182,\n",
            "    \"title\": \"inventore saepe cumque et aut illum enim\",\n",
            "    \"completed\": true\n",
            "  },\n",
            "  {\n",
            "    \"userId\": 10,\n",
            "    \"id\": 183,\n",
            "    \"title\": \"omnis nulla eum aliquam distinctio\",\n",
            "    \"completed\": true\n",
            "  },\n",
            "  {\n",
            "    \"userId\": 10,\n",
            "    \"id\": 188,\n",
            "    \"title\": \"vel non beatae est\",\n",
            "    \"completed\": true\n",
            "  },\n",
            "  {\n",
            "    \"userId\": 10,\n",
            "    \"id\": 189,\n",
            "    \"title\": \"culpa eius et voluptatem et\",\n",
            "    \"completed\": true\n",
            "  },\n",
            "  {\n",
            "    \"userId\": 10,\n",
            "    \"id\": 190,\n",
            "    \"title\": \"accusamus sint iusto et voluptatem exercitationem\",\n",
            "    \"completed\": true\n",
            "  },\n",
            "  {\n",
            "    \"userId\": 10,\n",
            "    \"id\": 191,\n",
            "    \"title\": \"temporibus atque distinctio omnis eius impedit tempore molestias pariatur\",\n",
            "    \"completed\": true\n",
            "  },\n",
            "  {\n",
            "    \"userId\": 10,\n",
            "    \"id\": 193,\n",
            "    \"title\": \"rerum debitis voluptatem qui eveniet tempora distinctio a\",\n",
            "    \"completed\": true\n",
            "  },\n",
            "  {\n",
            "    \"userId\": 10,\n",
            "    \"id\": 195,\n",
            "    \"title\": \"rerum ex veniam mollitia voluptatibus pariatur\",\n",
            "    \"completed\": true\n",
            "  },\n",
            "  {\n",
            "    \"userId\": 10,\n",
            "    \"id\": 196,\n",
            "    \"title\": \"consequuntur aut ut fugit similique\",\n",
            "    \"completed\": true\n",
            "  },\n",
            "  {\n",
            "    \"userId\": 10,\n",
            "    \"id\": 197,\n",
            "    \"title\": \"dignissimos quo nobis earum saepe\",\n",
            "    \"completed\": true\n",
            "  },\n",
            "  {\n",
            "    \"userId\": 10,\n",
            "    \"id\": 198,\n",
            "    \"title\": \"quis eius est sint explicabo\",\n",
            "    \"completed\": true\n",
            "  },\n",
            "  {\n",
            "    \"userId\": 10,\n",
            "    \"id\": 199,\n",
            "    \"title\": \"numquam repellendus a magnam\",\n",
            "    \"completed\": true\n",
            "  }\n",
            "]\n"
          ],
          "name": "stdout"
        }
      ]
    },
    {
      "cell_type": "code",
      "metadata": {
        "id": "htKhaj9mx6T3",
        "colab_type": "code",
        "colab": {
          "base_uri": "https://localhost:8080/",
          "height": 370
        },
        "outputId": "ddbc7b9a-d167-4c6d-c8f7-6b03f8c1f19f"
      },
      "source": [
        "# Custom Python Objcts\n",
        "\n",
        "# Class defining Person --- complex types are not serialibizible \n",
        "class Person:\n",
        "\n",
        "  def __init__(self, name, age):\n",
        "    self.name = name\n",
        "    self.age = age\n",
        "\n",
        "json_str = json.dumps(Person(\"Will\", 29))\n",
        "print(json_str)\n",
        "\n",
        "\n",
        "# Simplify complex data types so they can be serialized\n",
        "3 + 8j == complex(3,8)"
      ],
      "execution_count": 21,
      "outputs": [
        {
          "output_type": "error",
          "ename": "TypeError",
          "evalue": "ignored",
          "traceback": [
            "\u001b[0;31m---------------------------------------------------------------------------\u001b[0m",
            "\u001b[0;31mTypeError\u001b[0m                                 Traceback (most recent call last)",
            "\u001b[0;32m<ipython-input-21-f217f4ee7a05>\u001b[0m in \u001b[0;36m<module>\u001b[0;34m()\u001b[0m\n\u001b[1;32m      5\u001b[0m     \u001b[0mself\u001b[0m\u001b[0;34m.\u001b[0m\u001b[0mage\u001b[0m \u001b[0;34m=\u001b[0m \u001b[0mage\u001b[0m\u001b[0;34m\u001b[0m\u001b[0;34m\u001b[0m\u001b[0m\n\u001b[1;32m      6\u001b[0m \u001b[0;34m\u001b[0m\u001b[0m\n\u001b[0;32m----> 7\u001b[0;31m \u001b[0mjson_str\u001b[0m \u001b[0;34m=\u001b[0m \u001b[0mjson\u001b[0m\u001b[0;34m.\u001b[0m\u001b[0mdumps\u001b[0m\u001b[0;34m(\u001b[0m\u001b[0mPerson\u001b[0m\u001b[0;34m(\u001b[0m\u001b[0;34m\"Will\"\u001b[0m\u001b[0;34m,\u001b[0m \u001b[0;36m29\u001b[0m\u001b[0;34m)\u001b[0m\u001b[0;34m)\u001b[0m\u001b[0;34m\u001b[0m\u001b[0;34m\u001b[0m\u001b[0m\n\u001b[0m\u001b[1;32m      8\u001b[0m \u001b[0mprint\u001b[0m\u001b[0;34m(\u001b[0m\u001b[0mjson_str\u001b[0m\u001b[0;34m)\u001b[0m\u001b[0;34m\u001b[0m\u001b[0;34m\u001b[0m\u001b[0m\n\u001b[1;32m      9\u001b[0m \u001b[0;34m\u001b[0m\u001b[0m\n",
            "\u001b[0;32m/usr/lib/python3.6/json/__init__.py\u001b[0m in \u001b[0;36mdumps\u001b[0;34m(obj, skipkeys, ensure_ascii, check_circular, allow_nan, cls, indent, separators, default, sort_keys, **kw)\u001b[0m\n\u001b[1;32m    229\u001b[0m         \u001b[0mcls\u001b[0m \u001b[0;32mis\u001b[0m \u001b[0;32mNone\u001b[0m \u001b[0;32mand\u001b[0m \u001b[0mindent\u001b[0m \u001b[0;32mis\u001b[0m \u001b[0;32mNone\u001b[0m \u001b[0;32mand\u001b[0m \u001b[0mseparators\u001b[0m \u001b[0;32mis\u001b[0m \u001b[0;32mNone\u001b[0m \u001b[0;32mand\u001b[0m\u001b[0;34m\u001b[0m\u001b[0;34m\u001b[0m\u001b[0m\n\u001b[1;32m    230\u001b[0m         default is None and not sort_keys and not kw):\n\u001b[0;32m--> 231\u001b[0;31m         \u001b[0;32mreturn\u001b[0m \u001b[0m_default_encoder\u001b[0m\u001b[0;34m.\u001b[0m\u001b[0mencode\u001b[0m\u001b[0;34m(\u001b[0m\u001b[0mobj\u001b[0m\u001b[0;34m)\u001b[0m\u001b[0;34m\u001b[0m\u001b[0;34m\u001b[0m\u001b[0m\n\u001b[0m\u001b[1;32m    232\u001b[0m     \u001b[0;32mif\u001b[0m \u001b[0mcls\u001b[0m \u001b[0;32mis\u001b[0m \u001b[0;32mNone\u001b[0m\u001b[0;34m:\u001b[0m\u001b[0;34m\u001b[0m\u001b[0;34m\u001b[0m\u001b[0m\n\u001b[1;32m    233\u001b[0m         \u001b[0mcls\u001b[0m \u001b[0;34m=\u001b[0m \u001b[0mJSONEncoder\u001b[0m\u001b[0;34m\u001b[0m\u001b[0;34m\u001b[0m\u001b[0m\n",
            "\u001b[0;32m/usr/lib/python3.6/json/encoder.py\u001b[0m in \u001b[0;36mencode\u001b[0;34m(self, o)\u001b[0m\n\u001b[1;32m    197\u001b[0m         \u001b[0;31m# exceptions aren't as detailed.  The list call should be roughly\u001b[0m\u001b[0;34m\u001b[0m\u001b[0;34m\u001b[0m\u001b[0;34m\u001b[0m\u001b[0m\n\u001b[1;32m    198\u001b[0m         \u001b[0;31m# equivalent to the PySequence_Fast that ''.join() would do.\u001b[0m\u001b[0;34m\u001b[0m\u001b[0;34m\u001b[0m\u001b[0;34m\u001b[0m\u001b[0m\n\u001b[0;32m--> 199\u001b[0;31m         \u001b[0mchunks\u001b[0m \u001b[0;34m=\u001b[0m \u001b[0mself\u001b[0m\u001b[0;34m.\u001b[0m\u001b[0miterencode\u001b[0m\u001b[0;34m(\u001b[0m\u001b[0mo\u001b[0m\u001b[0;34m,\u001b[0m \u001b[0m_one_shot\u001b[0m\u001b[0;34m=\u001b[0m\u001b[0;32mTrue\u001b[0m\u001b[0;34m)\u001b[0m\u001b[0;34m\u001b[0m\u001b[0;34m\u001b[0m\u001b[0m\n\u001b[0m\u001b[1;32m    200\u001b[0m         \u001b[0;32mif\u001b[0m \u001b[0;32mnot\u001b[0m \u001b[0misinstance\u001b[0m\u001b[0;34m(\u001b[0m\u001b[0mchunks\u001b[0m\u001b[0;34m,\u001b[0m \u001b[0;34m(\u001b[0m\u001b[0mlist\u001b[0m\u001b[0;34m,\u001b[0m \u001b[0mtuple\u001b[0m\u001b[0;34m)\u001b[0m\u001b[0;34m)\u001b[0m\u001b[0;34m:\u001b[0m\u001b[0;34m\u001b[0m\u001b[0;34m\u001b[0m\u001b[0m\n\u001b[1;32m    201\u001b[0m             \u001b[0mchunks\u001b[0m \u001b[0;34m=\u001b[0m \u001b[0mlist\u001b[0m\u001b[0;34m(\u001b[0m\u001b[0mchunks\u001b[0m\u001b[0;34m)\u001b[0m\u001b[0;34m\u001b[0m\u001b[0;34m\u001b[0m\u001b[0m\n",
            "\u001b[0;32m/usr/lib/python3.6/json/encoder.py\u001b[0m in \u001b[0;36miterencode\u001b[0;34m(self, o, _one_shot)\u001b[0m\n\u001b[1;32m    255\u001b[0m                 \u001b[0mself\u001b[0m\u001b[0;34m.\u001b[0m\u001b[0mkey_separator\u001b[0m\u001b[0;34m,\u001b[0m \u001b[0mself\u001b[0m\u001b[0;34m.\u001b[0m\u001b[0mitem_separator\u001b[0m\u001b[0;34m,\u001b[0m \u001b[0mself\u001b[0m\u001b[0;34m.\u001b[0m\u001b[0msort_keys\u001b[0m\u001b[0;34m,\u001b[0m\u001b[0;34m\u001b[0m\u001b[0;34m\u001b[0m\u001b[0m\n\u001b[1;32m    256\u001b[0m                 self.skipkeys, _one_shot)\n\u001b[0;32m--> 257\u001b[0;31m         \u001b[0;32mreturn\u001b[0m \u001b[0m_iterencode\u001b[0m\u001b[0;34m(\u001b[0m\u001b[0mo\u001b[0m\u001b[0;34m,\u001b[0m \u001b[0;36m0\u001b[0m\u001b[0;34m)\u001b[0m\u001b[0;34m\u001b[0m\u001b[0;34m\u001b[0m\u001b[0m\n\u001b[0m\u001b[1;32m    258\u001b[0m \u001b[0;34m\u001b[0m\u001b[0m\n\u001b[1;32m    259\u001b[0m def _make_iterencode(markers, _default, _encoder, _indent, _floatstr,\n",
            "\u001b[0;32m/usr/lib/python3.6/json/encoder.py\u001b[0m in \u001b[0;36mdefault\u001b[0;34m(self, o)\u001b[0m\n\u001b[1;32m    178\u001b[0m         \"\"\"\n\u001b[1;32m    179\u001b[0m         raise TypeError(\"Object of type '%s' is not JSON serializable\" %\n\u001b[0;32m--> 180\u001b[0;31m                         o.__class__.__name__)\n\u001b[0m\u001b[1;32m    181\u001b[0m \u001b[0;34m\u001b[0m\u001b[0m\n\u001b[1;32m    182\u001b[0m     \u001b[0;32mdef\u001b[0m \u001b[0mencode\u001b[0m\u001b[0;34m(\u001b[0m\u001b[0mself\u001b[0m\u001b[0;34m,\u001b[0m \u001b[0mo\u001b[0m\u001b[0;34m)\u001b[0m\u001b[0;34m:\u001b[0m\u001b[0;34m\u001b[0m\u001b[0;34m\u001b[0m\u001b[0m\n",
            "\u001b[0;31mTypeError\u001b[0m: Object of type 'Person' is not JSON serializable"
          ]
        }
      ]
    },
    {
      "cell_type": "code",
      "metadata": {
        "id": "O9uv8ttQ0aXd",
        "colab_type": "code",
        "colab": {
          "base_uri": "https://localhost:8080/",
          "height": 34
        },
        "outputId": "46f74b65-d431-4472-aae5-b4d832e23c52"
      },
      "source": [
        "# Serializing Custom Types\n",
        "def complex_encoder(z):\n",
        "  if isinstance(z, complex):\n",
        "    return(z.real, z.imag)\n",
        "  else:\n",
        "    type_name = z.__class__.__name__\n",
        "    raise TypeError(f\"Object of type {type_name} is not JSON serializable\")\n",
        "\n",
        "\n",
        "\n",
        "json_string = json.dumps(4+6j, default=complex_encoder)\n",
        "print(json_string)"
      ],
      "execution_count": 25,
      "outputs": [
        {
          "output_type": "stream",
          "text": [
            "[4.0, 6.0]\n"
          ],
          "name": "stdout"
        }
      ]
    },
    {
      "cell_type": "code",
      "metadata": {
        "id": "H77nazTj55D-",
        "colab_type": "code",
        "colab": {}
      },
      "source": [
        ""
      ],
      "execution_count": 0,
      "outputs": []
    }
  ]
}