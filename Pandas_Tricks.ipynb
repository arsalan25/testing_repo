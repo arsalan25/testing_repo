{
  "nbformat": 4,
  "nbformat_minor": 0,
  "metadata": {
    "colab": {
      "name": "Pandas Tricks",
      "provenance": []
    },
    "kernelspec": {
      "name": "python3",
      "display_name": "Python 3"
    }
  },
  "cells": [
    {
      "cell_type": "code",
      "metadata": {
        "id": "FH0ixPnZy4Nk",
        "colab_type": "code",
        "colab": {}
      },
      "source": [
        "import pandas as pd\n",
        "\n",
        "# Making Toy Data Structures with Testing Module\n",
        "import pandas.util.testing as tm\n",
        "\n",
        "# Create variables\n",
        "tm.N, tm.K = 15, 3\n",
        "\n",
        "# Set seed for random data\n",
        "import numpy as np\n",
        "np.random.seed(444)"
      ],
      "execution_count": 0,
      "outputs": []
    },
    {
      "cell_type": "markdown",
      "metadata": {
        "id": "hVQUVqLk3RF2",
        "colab_type": "text"
      },
      "source": [
        "**Fake/Toy/ Dummy Data**"
      ]
    },
    {
      "cell_type": "code",
      "metadata": {
        "id": "KGe6H-y51N7s",
        "colab_type": "code",
        "colab": {
          "base_uri": "https://localhost:8080/",
          "height": 195
        },
        "outputId": "dcf143a6-a4b4-4d4c-e71c-41961655e1b2"
      },
      "source": [
        "# Create toy Date-time DataFrame at the Month frequency\n",
        "tm.makeTimeDataFrame(freq='M').head()"
      ],
      "execution_count": 2,
      "outputs": [
        {
          "output_type": "execute_result",
          "data": {
            "text/html": [
              "<div>\n",
              "<style scoped>\n",
              "    .dataframe tbody tr th:only-of-type {\n",
              "        vertical-align: middle;\n",
              "    }\n",
              "\n",
              "    .dataframe tbody tr th {\n",
              "        vertical-align: top;\n",
              "    }\n",
              "\n",
              "    .dataframe thead th {\n",
              "        text-align: right;\n",
              "    }\n",
              "</style>\n",
              "<table border=\"1\" class=\"dataframe\">\n",
              "  <thead>\n",
              "    <tr style=\"text-align: right;\">\n",
              "      <th></th>\n",
              "      <th>A</th>\n",
              "      <th>B</th>\n",
              "      <th>C</th>\n",
              "    </tr>\n",
              "  </thead>\n",
              "  <tbody>\n",
              "    <tr>\n",
              "      <th>2000-01-31</th>\n",
              "      <td>0.357440</td>\n",
              "      <td>-0.880396</td>\n",
              "      <td>0.266873</td>\n",
              "    </tr>\n",
              "    <tr>\n",
              "      <th>2000-02-29</th>\n",
              "      <td>0.377538</td>\n",
              "      <td>0.152631</td>\n",
              "      <td>-0.480331</td>\n",
              "    </tr>\n",
              "    <tr>\n",
              "      <th>2000-03-31</th>\n",
              "      <td>1.382338</td>\n",
              "      <td>0.250250</td>\n",
              "      <td>0.300781</td>\n",
              "    </tr>\n",
              "    <tr>\n",
              "      <th>2000-04-30</th>\n",
              "      <td>1.175549</td>\n",
              "      <td>0.078508</td>\n",
              "      <td>-0.179054</td>\n",
              "    </tr>\n",
              "    <tr>\n",
              "      <th>2000-05-31</th>\n",
              "      <td>-0.939276</td>\n",
              "      <td>-0.903904</td>\n",
              "      <td>1.183669</td>\n",
              "    </tr>\n",
              "  </tbody>\n",
              "</table>\n",
              "</div>"
            ],
            "text/plain": [
              "                   A         B         C\n",
              "2000-01-31  0.357440 -0.880396  0.266873\n",
              "2000-02-29  0.377538  0.152631 -0.480331\n",
              "2000-03-31  1.382338  0.250250  0.300781\n",
              "2000-04-30  1.175549  0.078508 -0.179054\n",
              "2000-05-31 -0.939276 -0.903904  1.183669"
            ]
          },
          "metadata": {
            "tags": []
          },
          "execution_count": 2
        }
      ]
    },
    {
      "cell_type": "code",
      "metadata": {
        "id": "e4EzJFBb2M8U",
        "colab_type": "code",
        "colab": {
          "base_uri": "https://localhost:8080/",
          "height": 195
        },
        "outputId": "71f72fc9-314f-4fe9-bb6e-bae555462b3b"
      },
      "source": [
        "# Create dummy DataFrame\n",
        "tm.makeDataFrame().head()"
      ],
      "execution_count": 3,
      "outputs": [
        {
          "output_type": "execute_result",
          "data": {
            "text/html": [
              "<div>\n",
              "<style scoped>\n",
              "    .dataframe tbody tr th:only-of-type {\n",
              "        vertical-align: middle;\n",
              "    }\n",
              "\n",
              "    .dataframe tbody tr th {\n",
              "        vertical-align: top;\n",
              "    }\n",
              "\n",
              "    .dataframe thead th {\n",
              "        text-align: right;\n",
              "    }\n",
              "</style>\n",
              "<table border=\"1\" class=\"dataframe\">\n",
              "  <thead>\n",
              "    <tr style=\"text-align: right;\">\n",
              "      <th></th>\n",
              "      <th>A</th>\n",
              "      <th>B</th>\n",
              "      <th>C</th>\n",
              "    </tr>\n",
              "  </thead>\n",
              "  <tbody>\n",
              "    <tr>\n",
              "      <th>nTLGGTiRHF</th>\n",
              "      <td>-0.622768</td>\n",
              "      <td>0.645943</td>\n",
              "      <td>0.125115</td>\n",
              "    </tr>\n",
              "    <tr>\n",
              "      <th>WPBRn9jtsR</th>\n",
              "      <td>-0.318718</td>\n",
              "      <td>-0.809053</td>\n",
              "      <td>1.150051</td>\n",
              "    </tr>\n",
              "    <tr>\n",
              "      <th>7B3wWfvuDA</th>\n",
              "      <td>-1.987207</td>\n",
              "      <td>-1.079496</td>\n",
              "      <td>0.298679</td>\n",
              "    </tr>\n",
              "    <tr>\n",
              "      <th>yJ0BTjehH1</th>\n",
              "      <td>0.880243</td>\n",
              "      <td>0.740308</td>\n",
              "      <td>-1.215363</td>\n",
              "    </tr>\n",
              "    <tr>\n",
              "      <th>0luaYUYvy1</th>\n",
              "      <td>-0.931956</td>\n",
              "      <td>1.291187</td>\n",
              "      <td>-0.290725</td>\n",
              "    </tr>\n",
              "  </tbody>\n",
              "</table>\n",
              "</div>"
            ],
            "text/plain": [
              "                   A         B         C\n",
              "nTLGGTiRHF -0.622768  0.645943  0.125115\n",
              "WPBRn9jtsR -0.318718 -0.809053  1.150051\n",
              "7B3wWfvuDA -1.987207 -1.079496  0.298679\n",
              "yJ0BTjehH1  0.880243  0.740308 -1.215363\n",
              "0luaYUYvy1 -0.931956  1.291187 -0.290725"
            ]
          },
          "metadata": {
            "tags": []
          },
          "execution_count": 3
        }
      ]
    },
    {
      "cell_type": "code",
      "metadata": {
        "id": "zw-4pbYg2fDP",
        "colab_type": "code",
        "colab": {
          "base_uri": "https://localhost:8080/",
          "height": 454
        },
        "outputId": "6aafeebb-f36c-4289-80bc-17c1d9cbe381"
      },
      "source": [
        "# Check all attributes of tm module\n",
        "# List comprehension to loop through tm's directory\n",
        "[i for i in dir(tm) if i.startswith('make')]"
      ],
      "execution_count": 4,
      "outputs": [
        {
          "output_type": "execute_result",
          "data": {
            "text/plain": [
              "['makeBoolIndex',\n",
              " 'makeCategoricalIndex',\n",
              " 'makeCustomDataframe',\n",
              " 'makeCustomIndex',\n",
              " 'makeDataFrame',\n",
              " 'makeDateIndex',\n",
              " 'makeFloatIndex',\n",
              " 'makeFloatSeries',\n",
              " 'makeIntIndex',\n",
              " 'makeIntervalIndex',\n",
              " 'makeMissingCustomDataframe',\n",
              " 'makeMissingDataframe',\n",
              " 'makeMixedDataFrame',\n",
              " 'makeMultiIndex',\n",
              " 'makeObjectSeries',\n",
              " 'makePeriodFrame',\n",
              " 'makePeriodIndex',\n",
              " 'makePeriodSeries',\n",
              " 'makeRangeIndex',\n",
              " 'makeStringIndex',\n",
              " 'makeStringSeries',\n",
              " 'makeTimeDataFrame',\n",
              " 'makeTimeSeries',\n",
              " 'makeTimedeltaIndex',\n",
              " 'makeUIntIndex',\n",
              " 'makeUnicodeIndex']"
            ]
          },
          "metadata": {
            "tags": []
          },
          "execution_count": 4
        }
      ]
    },
    {
      "cell_type": "markdown",
      "metadata": {
        "id": "7c5oJERg3ip9",
        "colab_type": "text"
      },
      "source": [
        "**Accessor Methods**"
      ]
    },
    {
      "cell_type": "code",
      "metadata": {
        "id": "4OtF1MIM2_9c",
        "colab_type": "code",
        "colab": {
          "base_uri": "https://localhost:8080/",
          "height": 34
        },
        "outputId": "4451feb4-744d-461a-dca2-51202673b4a1"
      },
      "source": [
        "# Check accessor methods\n",
        "pd.Series._accessors"
      ],
      "execution_count": 6,
      "outputs": [
        {
          "output_type": "execute_result",
          "data": {
            "text/plain": [
              "{'cat', 'dt', 'sparse', 'str'}"
            ]
          },
          "metadata": {
            "tags": []
          },
          "execution_count": 6
        }
      ]
    },
    {
      "cell_type": "code",
      "metadata": {
        "id": "dWRZCMt23hM-",
        "colab_type": "code",
        "colab": {
          "base_uri": "https://localhost:8080/",
          "height": 101
        },
        "outputId": "03d2b52f-12b5-4879-f80b-f33a3398b85d"
      },
      "source": [
        "# Create small series\n",
        "addr = pd.Series([\n",
        "                  'Washington DC 2003',\n",
        "                  'Brookly, NY 11211-1755',\n",
        "                  'Omaha, NE 68154',\n",
        "                  'Pittsburgh, PA 15211'\n",
        "])\n",
        "\n",
        "# Turn data to CAPS using string accessor\n",
        "addr.str.upper()"
      ],
      "execution_count": 8,
      "outputs": [
        {
          "output_type": "execute_result",
          "data": {
            "text/plain": [
              "0        WASHINGTON DC 2003\n",
              "1    BROOKLY, NY 11211-1755\n",
              "2           OMAHA, NE 68154\n",
              "3      PITTSBURGH, PA 15211\n",
              "dtype: object"
            ]
          },
          "metadata": {
            "tags": []
          },
          "execution_count": 8
        }
      ]
    },
    {
      "cell_type": "code",
      "metadata": {
        "id": "YXPlbE244Qt9",
        "colab_type": "code",
        "colab": {
          "base_uri": "https://localhost:8080/",
          "height": 185
        },
        "outputId": "4d0b50aa-0354-44de-88f5-fa70ea4b0a4c"
      },
      "source": [
        "# Create a range of dates\n",
        "daterng = pd.Series(pd.date_range('2019', periods=9, freq='Q'))\n",
        "daterng"
      ],
      "execution_count": 9,
      "outputs": [
        {
          "output_type": "execute_result",
          "data": {
            "text/plain": [
              "0   2019-03-31\n",
              "1   2019-06-30\n",
              "2   2019-09-30\n",
              "3   2019-12-31\n",
              "4   2020-03-31\n",
              "5   2020-06-30\n",
              "6   2020-09-30\n",
              "7   2020-12-31\n",
              "8   2021-03-31\n",
              "dtype: datetime64[ns]"
            ]
          },
          "metadata": {
            "tags": []
          },
          "execution_count": 9
        }
      ]
    },
    {
      "cell_type": "code",
      "metadata": {
        "id": "u4R3owzC4xyk",
        "colab_type": "code",
        "colab": {
          "base_uri": "https://localhost:8080/",
          "height": 185
        },
        "outputId": "4880298c-b980-43a5-c2a1-04cdd92557b8"
      },
      "source": [
        "# Access day name through dt accessor\n",
        "daterng.dt.day_name()"
      ],
      "execution_count": 11,
      "outputs": [
        {
          "output_type": "execute_result",
          "data": {
            "text/plain": [
              "0       Sunday\n",
              "1       Sunday\n",
              "2       Monday\n",
              "3      Tuesday\n",
              "4      Tuesday\n",
              "5      Tuesday\n",
              "6    Wednesday\n",
              "7     Thursday\n",
              "8    Wednesday\n",
              "dtype: object"
            ]
          },
          "metadata": {
            "tags": []
          },
          "execution_count": 11
        }
      ]
    },
    {
      "cell_type": "code",
      "metadata": {
        "id": "Tns4jzPS4_ZU",
        "colab_type": "code",
        "colab": {
          "base_uri": "https://localhost:8080/",
          "height": 67
        },
        "outputId": "285574bc-9d30-4906-f813-93e63b9af3af"
      },
      "source": [
        "# Check for year end dates in variable\n",
        "daterng[daterng.dt.is_year_end]"
      ],
      "execution_count": 13,
      "outputs": [
        {
          "output_type": "execute_result",
          "data": {
            "text/plain": [
              "3   2019-12-31\n",
              "7   2020-12-31\n",
              "dtype: datetime64[ns]"
            ]
          },
          "metadata": {
            "tags": []
          },
          "execution_count": 13
        }
      ]
    },
    {
      "cell_type": "markdown",
      "metadata": {
        "id": "j4Ecahoe5p4-",
        "colab_type": "text"
      },
      "source": [
        "**DatetimeIndex from Component Columns**"
      ]
    },
    {
      "cell_type": "code",
      "metadata": {
        "id": "2bl4d9Fu5YHE",
        "colab_type": "code",
        "colab": {
          "base_uri": "https://localhost:8080/",
          "height": 402
        },
        "outputId": "2a394306-0a5e-45d8-c602-4016a148e5d3"
      },
      "source": [
        "# Make some data\n",
        "from itertools import product\n",
        "\n",
        "# Create column names\n",
        "datecols = ['year', 'month', 'day']\n",
        "\n",
        "# Create dataframe\n",
        "df = pd.DataFrame(list(product([2019, 2020], [1,2], [1,2,3])), columns=datecols)\n",
        "df['data'] = np.random.randn(len(df))\n",
        "df"
      ],
      "execution_count": 15,
      "outputs": [
        {
          "output_type": "execute_result",
          "data": {
            "text/html": [
              "<div>\n",
              "<style scoped>\n",
              "    .dataframe tbody tr th:only-of-type {\n",
              "        vertical-align: middle;\n",
              "    }\n",
              "\n",
              "    .dataframe tbody tr th {\n",
              "        vertical-align: top;\n",
              "    }\n",
              "\n",
              "    .dataframe thead th {\n",
              "        text-align: right;\n",
              "    }\n",
              "</style>\n",
              "<table border=\"1\" class=\"dataframe\">\n",
              "  <thead>\n",
              "    <tr style=\"text-align: right;\">\n",
              "      <th></th>\n",
              "      <th>year</th>\n",
              "      <th>month</th>\n",
              "      <th>day</th>\n",
              "      <th>data</th>\n",
              "    </tr>\n",
              "  </thead>\n",
              "  <tbody>\n",
              "    <tr>\n",
              "      <th>0</th>\n",
              "      <td>2019</td>\n",
              "      <td>1</td>\n",
              "      <td>1</td>\n",
              "      <td>2.042335</td>\n",
              "    </tr>\n",
              "    <tr>\n",
              "      <th>1</th>\n",
              "      <td>2019</td>\n",
              "      <td>1</td>\n",
              "      <td>2</td>\n",
              "      <td>0.125750</td>\n",
              "    </tr>\n",
              "    <tr>\n",
              "      <th>2</th>\n",
              "      <td>2019</td>\n",
              "      <td>1</td>\n",
              "      <td>3</td>\n",
              "      <td>-0.416462</td>\n",
              "    </tr>\n",
              "    <tr>\n",
              "      <th>3</th>\n",
              "      <td>2019</td>\n",
              "      <td>2</td>\n",
              "      <td>1</td>\n",
              "      <td>1.922173</td>\n",
              "    </tr>\n",
              "    <tr>\n",
              "      <th>4</th>\n",
              "      <td>2019</td>\n",
              "      <td>2</td>\n",
              "      <td>2</td>\n",
              "      <td>-0.431847</td>\n",
              "    </tr>\n",
              "    <tr>\n",
              "      <th>5</th>\n",
              "      <td>2019</td>\n",
              "      <td>2</td>\n",
              "      <td>3</td>\n",
              "      <td>-0.903792</td>\n",
              "    </tr>\n",
              "    <tr>\n",
              "      <th>6</th>\n",
              "      <td>2020</td>\n",
              "      <td>1</td>\n",
              "      <td>1</td>\n",
              "      <td>-0.200899</td>\n",
              "    </tr>\n",
              "    <tr>\n",
              "      <th>7</th>\n",
              "      <td>2020</td>\n",
              "      <td>1</td>\n",
              "      <td>2</td>\n",
              "      <td>0.916061</td>\n",
              "    </tr>\n",
              "    <tr>\n",
              "      <th>8</th>\n",
              "      <td>2020</td>\n",
              "      <td>1</td>\n",
              "      <td>3</td>\n",
              "      <td>-0.371112</td>\n",
              "    </tr>\n",
              "    <tr>\n",
              "      <th>9</th>\n",
              "      <td>2020</td>\n",
              "      <td>2</td>\n",
              "      <td>1</td>\n",
              "      <td>0.628953</td>\n",
              "    </tr>\n",
              "    <tr>\n",
              "      <th>10</th>\n",
              "      <td>2020</td>\n",
              "      <td>2</td>\n",
              "      <td>2</td>\n",
              "      <td>-0.859525</td>\n",
              "    </tr>\n",
              "    <tr>\n",
              "      <th>11</th>\n",
              "      <td>2020</td>\n",
              "      <td>2</td>\n",
              "      <td>3</td>\n",
              "      <td>1.640053</td>\n",
              "    </tr>\n",
              "  </tbody>\n",
              "</table>\n",
              "</div>"
            ],
            "text/plain": [
              "    year  month  day      data\n",
              "0   2019      1    1  2.042335\n",
              "1   2019      1    2  0.125750\n",
              "2   2019      1    3 -0.416462\n",
              "3   2019      2    1  1.922173\n",
              "4   2019      2    2 -0.431847\n",
              "5   2019      2    3 -0.903792\n",
              "6   2020      1    1 -0.200899\n",
              "7   2020      1    2  0.916061\n",
              "8   2020      1    3 -0.371112\n",
              "9   2020      2    1  0.628953\n",
              "10  2020      2    2 -0.859525\n",
              "11  2020      2    3  1.640053"
            ]
          },
          "metadata": {
            "tags": []
          },
          "execution_count": 15
        }
      ]
    },
    {
      "cell_type": "code",
      "metadata": {
        "id": "T15WC2VH6Oy2",
        "colab_type": "code",
        "colab": {
          "base_uri": "https://localhost:8080/",
          "height": 402
        },
        "outputId": "a6cbd4ba-19c1-4c39-a5de-a3fdc9b24cb5"
      },
      "source": [
        "# Create Datetime Index by setting index to columns\n",
        "df.index = pd.to_datetime(df[datecols])\n",
        "df"
      ],
      "execution_count": 16,
      "outputs": [
        {
          "output_type": "execute_result",
          "data": {
            "text/html": [
              "<div>\n",
              "<style scoped>\n",
              "    .dataframe tbody tr th:only-of-type {\n",
              "        vertical-align: middle;\n",
              "    }\n",
              "\n",
              "    .dataframe tbody tr th {\n",
              "        vertical-align: top;\n",
              "    }\n",
              "\n",
              "    .dataframe thead th {\n",
              "        text-align: right;\n",
              "    }\n",
              "</style>\n",
              "<table border=\"1\" class=\"dataframe\">\n",
              "  <thead>\n",
              "    <tr style=\"text-align: right;\">\n",
              "      <th></th>\n",
              "      <th>year</th>\n",
              "      <th>month</th>\n",
              "      <th>day</th>\n",
              "      <th>data</th>\n",
              "    </tr>\n",
              "  </thead>\n",
              "  <tbody>\n",
              "    <tr>\n",
              "      <th>2019-01-01</th>\n",
              "      <td>2019</td>\n",
              "      <td>1</td>\n",
              "      <td>1</td>\n",
              "      <td>2.042335</td>\n",
              "    </tr>\n",
              "    <tr>\n",
              "      <th>2019-01-02</th>\n",
              "      <td>2019</td>\n",
              "      <td>1</td>\n",
              "      <td>2</td>\n",
              "      <td>0.125750</td>\n",
              "    </tr>\n",
              "    <tr>\n",
              "      <th>2019-01-03</th>\n",
              "      <td>2019</td>\n",
              "      <td>1</td>\n",
              "      <td>3</td>\n",
              "      <td>-0.416462</td>\n",
              "    </tr>\n",
              "    <tr>\n",
              "      <th>2019-02-01</th>\n",
              "      <td>2019</td>\n",
              "      <td>2</td>\n",
              "      <td>1</td>\n",
              "      <td>1.922173</td>\n",
              "    </tr>\n",
              "    <tr>\n",
              "      <th>2019-02-02</th>\n",
              "      <td>2019</td>\n",
              "      <td>2</td>\n",
              "      <td>2</td>\n",
              "      <td>-0.431847</td>\n",
              "    </tr>\n",
              "    <tr>\n",
              "      <th>2019-02-03</th>\n",
              "      <td>2019</td>\n",
              "      <td>2</td>\n",
              "      <td>3</td>\n",
              "      <td>-0.903792</td>\n",
              "    </tr>\n",
              "    <tr>\n",
              "      <th>2020-01-01</th>\n",
              "      <td>2020</td>\n",
              "      <td>1</td>\n",
              "      <td>1</td>\n",
              "      <td>-0.200899</td>\n",
              "    </tr>\n",
              "    <tr>\n",
              "      <th>2020-01-02</th>\n",
              "      <td>2020</td>\n",
              "      <td>1</td>\n",
              "      <td>2</td>\n",
              "      <td>0.916061</td>\n",
              "    </tr>\n",
              "    <tr>\n",
              "      <th>2020-01-03</th>\n",
              "      <td>2020</td>\n",
              "      <td>1</td>\n",
              "      <td>3</td>\n",
              "      <td>-0.371112</td>\n",
              "    </tr>\n",
              "    <tr>\n",
              "      <th>2020-02-01</th>\n",
              "      <td>2020</td>\n",
              "      <td>2</td>\n",
              "      <td>1</td>\n",
              "      <td>0.628953</td>\n",
              "    </tr>\n",
              "    <tr>\n",
              "      <th>2020-02-02</th>\n",
              "      <td>2020</td>\n",
              "      <td>2</td>\n",
              "      <td>2</td>\n",
              "      <td>-0.859525</td>\n",
              "    </tr>\n",
              "    <tr>\n",
              "      <th>2020-02-03</th>\n",
              "      <td>2020</td>\n",
              "      <td>2</td>\n",
              "      <td>3</td>\n",
              "      <td>1.640053</td>\n",
              "    </tr>\n",
              "  </tbody>\n",
              "</table>\n",
              "</div>"
            ],
            "text/plain": [
              "            year  month  day      data\n",
              "2019-01-01  2019      1    1  2.042335\n",
              "2019-01-02  2019      1    2  0.125750\n",
              "2019-01-03  2019      1    3 -0.416462\n",
              "2019-02-01  2019      2    1  1.922173\n",
              "2019-02-02  2019      2    2 -0.431847\n",
              "2019-02-03  2019      2    3 -0.903792\n",
              "2020-01-01  2020      1    1 -0.200899\n",
              "2020-01-02  2020      1    2  0.916061\n",
              "2020-01-03  2020      1    3 -0.371112\n",
              "2020-02-01  2020      2    1  0.628953\n",
              "2020-02-02  2020      2    2 -0.859525\n",
              "2020-02-03  2020      2    3  1.640053"
            ]
          },
          "metadata": {
            "tags": []
          },
          "execution_count": 16
        }
      ]
    },
    {
      "cell_type": "code",
      "metadata": {
        "id": "x-hrvRgp6ep8",
        "colab_type": "code",
        "colab": {
          "base_uri": "https://localhost:8080/",
          "height": 402
        },
        "outputId": "09042dff-56e5-448e-da6b-6deac64d212d"
      },
      "source": [
        "# Drop extra date columns\n",
        "df = df.drop(datecols, axis=1)\n",
        "df"
      ],
      "execution_count": 20,
      "outputs": [
        {
          "output_type": "execute_result",
          "data": {
            "text/html": [
              "<div>\n",
              "<style scoped>\n",
              "    .dataframe tbody tr th:only-of-type {\n",
              "        vertical-align: middle;\n",
              "    }\n",
              "\n",
              "    .dataframe tbody tr th {\n",
              "        vertical-align: top;\n",
              "    }\n",
              "\n",
              "    .dataframe thead th {\n",
              "        text-align: right;\n",
              "    }\n",
              "</style>\n",
              "<table border=\"1\" class=\"dataframe\">\n",
              "  <thead>\n",
              "    <tr style=\"text-align: right;\">\n",
              "      <th></th>\n",
              "      <th>data</th>\n",
              "    </tr>\n",
              "  </thead>\n",
              "  <tbody>\n",
              "    <tr>\n",
              "      <th>2019-01-01</th>\n",
              "      <td>2.042335</td>\n",
              "    </tr>\n",
              "    <tr>\n",
              "      <th>2019-01-02</th>\n",
              "      <td>0.125750</td>\n",
              "    </tr>\n",
              "    <tr>\n",
              "      <th>2019-01-03</th>\n",
              "      <td>-0.416462</td>\n",
              "    </tr>\n",
              "    <tr>\n",
              "      <th>2019-02-01</th>\n",
              "      <td>1.922173</td>\n",
              "    </tr>\n",
              "    <tr>\n",
              "      <th>2019-02-02</th>\n",
              "      <td>-0.431847</td>\n",
              "    </tr>\n",
              "    <tr>\n",
              "      <th>2019-02-03</th>\n",
              "      <td>-0.903792</td>\n",
              "    </tr>\n",
              "    <tr>\n",
              "      <th>2020-01-01</th>\n",
              "      <td>-0.200899</td>\n",
              "    </tr>\n",
              "    <tr>\n",
              "      <th>2020-01-02</th>\n",
              "      <td>0.916061</td>\n",
              "    </tr>\n",
              "    <tr>\n",
              "      <th>2020-01-03</th>\n",
              "      <td>-0.371112</td>\n",
              "    </tr>\n",
              "    <tr>\n",
              "      <th>2020-02-01</th>\n",
              "      <td>0.628953</td>\n",
              "    </tr>\n",
              "    <tr>\n",
              "      <th>2020-02-02</th>\n",
              "      <td>-0.859525</td>\n",
              "    </tr>\n",
              "    <tr>\n",
              "      <th>2020-02-03</th>\n",
              "      <td>1.640053</td>\n",
              "    </tr>\n",
              "  </tbody>\n",
              "</table>\n",
              "</div>"
            ],
            "text/plain": [
              "                data\n",
              "2019-01-01  2.042335\n",
              "2019-01-02  0.125750\n",
              "2019-01-03 -0.416462\n",
              "2019-02-01  1.922173\n",
              "2019-02-02 -0.431847\n",
              "2019-02-03 -0.903792\n",
              "2020-01-01 -0.200899\n",
              "2020-01-02  0.916061\n",
              "2020-01-03 -0.371112\n",
              "2020-02-01  0.628953\n",
              "2020-02-02 -0.859525\n",
              "2020-02-03  1.640053"
            ]
          },
          "metadata": {
            "tags": []
          },
          "execution_count": 20
        }
      ]
    },
    {
      "cell_type": "code",
      "metadata": {
        "id": "CSNjG3mx6x00",
        "colab_type": "code",
        "colab": {
          "base_uri": "https://localhost:8080/",
          "height": 235
        },
        "outputId": "9713c6b4-971f-4077-9ec7-c24c3412f2dc"
      },
      "source": [
        "# Squeeze remaining column into a series\n",
        "df.squeeze()"
      ],
      "execution_count": 21,
      "outputs": [
        {
          "output_type": "execute_result",
          "data": {
            "text/plain": [
              "2019-01-01    2.042335\n",
              "2019-01-02    0.125750\n",
              "2019-01-03   -0.416462\n",
              "2019-02-01    1.922173\n",
              "2019-02-02   -0.431847\n",
              "2019-02-03   -0.903792\n",
              "2020-01-01   -0.200899\n",
              "2020-01-02    0.916061\n",
              "2020-01-03   -0.371112\n",
              "2020-02-01    0.628953\n",
              "2020-02-02   -0.859525\n",
              "2020-02-03    1.640053\n",
              "Name: data, dtype: float64"
            ]
          },
          "metadata": {
            "tags": []
          },
          "execution_count": 21
        }
      ]
    },
    {
      "cell_type": "markdown",
      "metadata": {
        "id": "Eocp-4DJ7Vw8",
        "colab_type": "text"
      },
      "source": [
        "**Categorical Data**"
      ]
    },
    {
      "cell_type": "code",
      "metadata": {
        "id": "21EIKLo57X3D",
        "colab_type": "code",
        "colab": {
          "base_uri": "https://localhost:8080/",
          "height": 34
        },
        "outputId": "eedb050d-cadb-4529-ee56-a02a4af0ac5c"
      },
      "source": [
        "# Simple series - some repeated items\n",
        "colors = pd.Series([\n",
        "                    'periwinkle',\n",
        "                    'mint green',\n",
        "                    'burnt orange',\n",
        "                    'rose',\n",
        "                    'rose',\n",
        "                    'mint green',\n",
        "                    'rose',\n",
        "                    'navy'\n",
        "])\n",
        "\n",
        "# Create dictionary of keys and values\n",
        "# Each unique color will be assigned an integer key, generated by enumerate\n",
        "# Mapper is a dictionary with keys and value of the color\n",
        "mapper = {v : k for k, v in enumerate(colors.unique())}\n",
        "\n",
        "mapper"
      ],
      "execution_count": 24,
      "outputs": [
        {
          "output_type": "execute_result",
          "data": {
            "text/plain": [
              "{'burnt orange': 2, 'mint green': 1, 'navy': 4, 'periwinkle': 0, 'rose': 3}"
            ]
          },
          "metadata": {
            "tags": []
          },
          "execution_count": 24
        }
      ]
    },
    {
      "cell_type": "code",
      "metadata": {
        "id": "WVfgyl4eBKkx",
        "colab_type": "code",
        "colab": {
          "base_uri": "https://localhost:8080/",
          "height": 168
        },
        "outputId": "3de78284-dbec-45ed-d58a-c63e9f0aae0e"
      },
      "source": [
        "# Map mapper variable to colors for new numeric variable\n",
        "as_int = colors.map(mapper)\n",
        "as_int"
      ],
      "execution_count": 25,
      "outputs": [
        {
          "output_type": "execute_result",
          "data": {
            "text/plain": [
              "0    0\n",
              "1    1\n",
              "2    2\n",
              "3    3\n",
              "4    3\n",
              "5    1\n",
              "6    3\n",
              "7    4\n",
              "dtype: int64"
            ]
          },
          "metadata": {
            "tags": []
          },
          "execution_count": 25
        }
      ]
    },
    {
      "cell_type": "code",
      "metadata": {
        "id": "YMW3pd2IBwEH",
        "colab_type": "code",
        "colab": {
          "base_uri": "https://localhost:8080/",
          "height": 34
        },
        "outputId": "25ce5359-efac-406e-a61f-05cedb1bd9ec"
      },
      "source": [
        "# Another approach\n",
        "ccolors = colors.astype('category')\n",
        "ccolors.cat.categories"
      ],
      "execution_count": 26,
      "outputs": [
        {
          "output_type": "execute_result",
          "data": {
            "text/plain": [
              "Index(['burnt orange', 'mint green', 'navy', 'periwinkle', 'rose'], dtype='object')"
            ]
          },
          "metadata": {
            "tags": []
          },
          "execution_count": 26
        }
      ]
    },
    {
      "cell_type": "markdown",
      "metadata": {
        "id": "bd3n100NCm5_",
        "colab_type": "text"
      },
      "source": [
        "**Groupby Object Iteration**"
      ]
    },
    {
      "cell_type": "code",
      "metadata": {
        "id": "DwpDSAiCCCb9",
        "colab_type": "code",
        "colab": {
          "base_uri": "https://localhost:8080/",
          "height": 487
        },
        "outputId": "dbd410dd-cd2f-4314-8cb3-411ab4228efe"
      },
      "source": [
        "# Create url variable pointing to dataset\n",
        "url = 'https://archive.ics.uci.edu/ml/machine-learning-databases/abalone/abalone.data'\n",
        "\n",
        "# Create column Names\n",
        "cols = ['sex', 'length', 'diam', 'height', 'weight', 'rings']\n",
        "\n",
        "# Create dataframe\n",
        "abalone = pd.read_csv(url, usecols=[0,1,2,3,4,8], names=cols)\n",
        "\n",
        "abalone['ring_quartile'] = pd.qcut(abalone['rings'], q=4, labels=range(1,5))\n",
        "\n",
        "grouped = abalone.groupby('ring_quartile')\n",
        "\n",
        "# Create view of grouped data by looping through iterable\n",
        "for idx, frame in grouped:\n",
        "  print(f'Ring Quartile: {idx}')\n",
        "  print('-'*16)\n",
        "  print(frame.nlargest(3, 'weight'), end='\\n\\n')"
      ],
      "execution_count": 31,
      "outputs": [
        {
          "output_type": "stream",
          "text": [
            "Ring Quartile: 1\n",
            "----------------\n",
            "     sex  length   diam  height  weight  rings ring_quartile\n",
            "2619   M   0.690  0.540   0.185  1.7100      8             1\n",
            "1044   M   0.690  0.525   0.175  1.7005      8             1\n",
            "1026   M   0.645  0.520   0.175  1.5610      8             1\n",
            "\n",
            "Ring Quartile: 2\n",
            "----------------\n",
            "     sex  length  diam  height  weight  rings ring_quartile\n",
            "2811   M   0.725  0.57   0.190  2.3305      9             2\n",
            "1426   F   0.745  0.57   0.215  2.2500      9             2\n",
            "1821   F   0.720  0.55   0.195  2.0730      9             2\n",
            "\n",
            "Ring Quartile: 3\n",
            "----------------\n",
            "     sex  length  diam  height  weight  rings ring_quartile\n",
            "1209   F   0.780  0.63   0.215   2.657     11             3\n",
            "1051   F   0.735  0.60   0.220   2.555     11             3\n",
            "3715   M   0.780  0.60   0.210   2.548     11             3\n",
            "\n",
            "Ring Quartile: 4\n",
            "----------------\n",
            "     sex  length   diam  height  weight  rings ring_quartile\n",
            "891    M   0.730  0.595    0.23  2.8255     17             4\n",
            "1763   M   0.775  0.630    0.25  2.7795     12             4\n",
            "165    M   0.725  0.570    0.19  2.5500     14             4\n",
            "\n"
          ],
          "name": "stdout"
        }
      ]
    },
    {
      "cell_type": "code",
      "metadata": {
        "id": "Gix1pmQCCqPV",
        "colab_type": "code",
        "colab": {
          "base_uri": "https://localhost:8080/",
          "height": 34
        },
        "outputId": "e5313d6c-e44d-427c-8cfa-c4852339868b"
      },
      "source": [
        "# Explore keys for the grouped dataframe\n",
        "grouped.groups.keys()"
      ],
      "execution_count": 32,
      "outputs": [
        {
          "output_type": "execute_result",
          "data": {
            "text/plain": [
              "dict_keys([1, 2, 3, 4])"
            ]
          },
          "metadata": {
            "tags": []
          },
          "execution_count": 32
        }
      ]
    },
    {
      "cell_type": "code",
      "metadata": {
        "id": "IeWUmBVfF74S",
        "colab_type": "code",
        "colab": {
          "base_uri": "https://localhost:8080/",
          "height": 195
        },
        "outputId": "3f426dd8-e395-44bd-b64e-e4f13ee3942d"
      },
      "source": [
        "# Access group 2 rows\n",
        "grouped.get_group(2).head()"
      ],
      "execution_count": 34,
      "outputs": [
        {
          "output_type": "execute_result",
          "data": {
            "text/html": [
              "<div>\n",
              "<style scoped>\n",
              "    .dataframe tbody tr th:only-of-type {\n",
              "        vertical-align: middle;\n",
              "    }\n",
              "\n",
              "    .dataframe tbody tr th {\n",
              "        vertical-align: top;\n",
              "    }\n",
              "\n",
              "    .dataframe thead th {\n",
              "        text-align: right;\n",
              "    }\n",
              "</style>\n",
              "<table border=\"1\" class=\"dataframe\">\n",
              "  <thead>\n",
              "    <tr style=\"text-align: right;\">\n",
              "      <th></th>\n",
              "      <th>sex</th>\n",
              "      <th>length</th>\n",
              "      <th>diam</th>\n",
              "      <th>height</th>\n",
              "      <th>weight</th>\n",
              "      <th>rings</th>\n",
              "      <th>ring_quartile</th>\n",
              "    </tr>\n",
              "  </thead>\n",
              "  <tbody>\n",
              "    <tr>\n",
              "      <th>2</th>\n",
              "      <td>F</td>\n",
              "      <td>0.530</td>\n",
              "      <td>0.420</td>\n",
              "      <td>0.135</td>\n",
              "      <td>0.6770</td>\n",
              "      <td>9</td>\n",
              "      <td>2</td>\n",
              "    </tr>\n",
              "    <tr>\n",
              "      <th>8</th>\n",
              "      <td>M</td>\n",
              "      <td>0.475</td>\n",
              "      <td>0.370</td>\n",
              "      <td>0.125</td>\n",
              "      <td>0.5095</td>\n",
              "      <td>9</td>\n",
              "      <td>2</td>\n",
              "    </tr>\n",
              "    <tr>\n",
              "      <th>19</th>\n",
              "      <td>M</td>\n",
              "      <td>0.450</td>\n",
              "      <td>0.320</td>\n",
              "      <td>0.100</td>\n",
              "      <td>0.3810</td>\n",
              "      <td>9</td>\n",
              "      <td>2</td>\n",
              "    </tr>\n",
              "    <tr>\n",
              "      <th>23</th>\n",
              "      <td>F</td>\n",
              "      <td>0.550</td>\n",
              "      <td>0.415</td>\n",
              "      <td>0.135</td>\n",
              "      <td>0.7635</td>\n",
              "      <td>9</td>\n",
              "      <td>2</td>\n",
              "    </tr>\n",
              "    <tr>\n",
              "      <th>39</th>\n",
              "      <td>M</td>\n",
              "      <td>0.355</td>\n",
              "      <td>0.290</td>\n",
              "      <td>0.090</td>\n",
              "      <td>0.3275</td>\n",
              "      <td>9</td>\n",
              "      <td>2</td>\n",
              "    </tr>\n",
              "  </tbody>\n",
              "</table>\n",
              "</div>"
            ],
            "text/plain": [
              "   sex  length   diam  height  weight  rings ring_quartile\n",
              "2    F   0.530  0.420   0.135  0.6770      9             2\n",
              "8    M   0.475  0.370   0.125  0.5095      9             2\n",
              "19   M   0.450  0.320   0.100  0.3810      9             2\n",
              "23   F   0.550  0.415   0.135  0.7635      9             2\n",
              "39   M   0.355  0.290   0.090  0.3275      9             2"
            ]
          },
          "metadata": {
            "tags": []
          },
          "execution_count": 34
        }
      ]
    },
    {
      "cell_type": "code",
      "metadata": {
        "id": "HdRjAEKXF984",
        "colab_type": "code",
        "colab": {
          "base_uri": "https://localhost:8080/",
          "height": 225
        },
        "outputId": "aed09792-0f0f-418c-95c4-b632b8f25132"
      },
      "source": [
        "# Check mean and median per group\n",
        "grouped['height', 'weight'].agg(['mean', 'median'])"
      ],
      "execution_count": 36,
      "outputs": [
        {
          "output_type": "execute_result",
          "data": {
            "text/html": [
              "<div>\n",
              "<style scoped>\n",
              "    .dataframe tbody tr th:only-of-type {\n",
              "        vertical-align: middle;\n",
              "    }\n",
              "\n",
              "    .dataframe tbody tr th {\n",
              "        vertical-align: top;\n",
              "    }\n",
              "\n",
              "    .dataframe thead tr th {\n",
              "        text-align: left;\n",
              "    }\n",
              "\n",
              "    .dataframe thead tr:last-of-type th {\n",
              "        text-align: right;\n",
              "    }\n",
              "</style>\n",
              "<table border=\"1\" class=\"dataframe\">\n",
              "  <thead>\n",
              "    <tr>\n",
              "      <th></th>\n",
              "      <th colspan=\"2\" halign=\"left\">height</th>\n",
              "      <th colspan=\"2\" halign=\"left\">weight</th>\n",
              "    </tr>\n",
              "    <tr>\n",
              "      <th></th>\n",
              "      <th>mean</th>\n",
              "      <th>median</th>\n",
              "      <th>mean</th>\n",
              "      <th>median</th>\n",
              "    </tr>\n",
              "    <tr>\n",
              "      <th>ring_quartile</th>\n",
              "      <th></th>\n",
              "      <th></th>\n",
              "      <th></th>\n",
              "      <th></th>\n",
              "    </tr>\n",
              "  </thead>\n",
              "  <tbody>\n",
              "    <tr>\n",
              "      <th>1</th>\n",
              "      <td>0.106596</td>\n",
              "      <td>0.105</td>\n",
              "      <td>0.432374</td>\n",
              "      <td>0.3685</td>\n",
              "    </tr>\n",
              "    <tr>\n",
              "      <th>2</th>\n",
              "      <td>0.142721</td>\n",
              "      <td>0.145</td>\n",
              "      <td>0.852013</td>\n",
              "      <td>0.8440</td>\n",
              "    </tr>\n",
              "    <tr>\n",
              "      <th>3</th>\n",
              "      <td>0.157203</td>\n",
              "      <td>0.155</td>\n",
              "      <td>1.066880</td>\n",
              "      <td>1.0645</td>\n",
              "    </tr>\n",
              "    <tr>\n",
              "      <th>4</th>\n",
              "      <td>0.164813</td>\n",
              "      <td>0.165</td>\n",
              "      <td>1.114892</td>\n",
              "      <td>1.0655</td>\n",
              "    </tr>\n",
              "  </tbody>\n",
              "</table>\n",
              "</div>"
            ],
            "text/plain": [
              "                 height           weight        \n",
              "                   mean median      mean  median\n",
              "ring_quartile                                   \n",
              "1              0.106596  0.105  0.432374  0.3685\n",
              "2              0.142721  0.145  0.852013  0.8440\n",
              "3              0.157203  0.155  1.066880  1.0645\n",
              "4              0.164813  0.165  1.114892  1.0655"
            ]
          },
          "metadata": {
            "tags": []
          },
          "execution_count": 36
        }
      ]
    },
    {
      "cell_type": "markdown",
      "metadata": {
        "id": "8ZZnJB_gGi_K",
        "colab_type": "text"
      },
      "source": [
        "**Mapping Trick for Membership Binning**"
      ]
    },
    {
      "cell_type": "code",
      "metadata": {
        "id": "7tKRv3AmINcB",
        "colab_type": "code",
        "colab": {
          "base_uri": "https://localhost:8080/",
          "height": 134
        },
        "outputId": "306fc8a7-bb78-4b75-ebe7-557ab534c3da"
      },
      "source": [
        "countries = pd. Series([\n",
        "                        'United States',\n",
        "                        'Canada',\n",
        "                        'Mexico',\n",
        "                        'Belgium',\n",
        "                        'United Kingdom',\n",
        "                        'Thailand'\n",
        "])\n",
        "\n",
        "groups = {\n",
        "    'North America': (\n",
        "        'United States',\n",
        "        'Canada',\n",
        "        'Mexico',\n",
        "        'Greenland'\n",
        "    ),\n",
        "    'Europe': (\n",
        "        'France',\n",
        "        'Germany',\n",
        "        'United Kingdom',\n",
        "        'Belgium'\n",
        "    )\n",
        "}\n",
        "\n",
        "from typing import Any\n",
        "\n",
        "# New function to map membership\n",
        "def membership_map(s: pd.Series, groups: dict, fillvalue: Any=-1) -> pd.Series:\n",
        "                   groups = {x: k for k, v in groups.items() for x in v}\n",
        "                   return s.map(groups).fillna(fillvalue)\n",
        "\n",
        "# Try function\n",
        "membership_map(countries, groups, fillvalue='other')"
      ],
      "execution_count": 38,
      "outputs": [
        {
          "output_type": "execute_result",
          "data": {
            "text/plain": [
              "0    North America\n",
              "1    North America\n",
              "2    North America\n",
              "3           Europe\n",
              "4           Europe\n",
              "5            other\n",
              "dtype: object"
            ]
          },
          "metadata": {
            "tags": []
          },
          "execution_count": 38
        }
      ]
    },
    {
      "cell_type": "code",
      "metadata": {
        "id": "SkTwUajtMNTa",
        "colab_type": "code",
        "colab": {}
      },
      "source": [
        "# Compressing DFs\n",
        "abalone.to_json('df.json.gz', orient='records', lines=True, compression='gzip')"
      ],
      "execution_count": 0,
      "outputs": []
    },
    {
      "cell_type": "code",
      "metadata": {
        "id": "kEPZvWRVMjT1",
        "colab_type": "code",
        "colab": {}
      },
      "source": [
        "import os.path\n",
        "abalone.to_json('df.json', orient='records', lines=True)"
      ],
      "execution_count": 0,
      "outputs": []
    },
    {
      "cell_type": "code",
      "metadata": {
        "id": "3L-I8IEOMsev",
        "colab_type": "code",
        "colab": {
          "base_uri": "https://localhost:8080/",
          "height": 34
        },
        "outputId": "9bdea65b-dc61-471d-fa54-570ef225604b"
      },
      "source": [
        "os.path.getsize('df.json') / os.path.getsize('df.json.gz')"
      ],
      "execution_count": 41,
      "outputs": [
        {
          "output_type": "execute_result",
          "data": {
            "text/plain": [
              "11.603035760226396"
            ]
          },
          "metadata": {
            "tags": []
          },
          "execution_count": 41
        }
      ]
    }
  ]
}