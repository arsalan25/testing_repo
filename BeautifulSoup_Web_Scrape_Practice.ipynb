{
  "nbformat": 4,
  "nbformat_minor": 0,
  "metadata": {
    "colab": {
      "name": "BeautifulSoup Web Scrape Practice",
      "provenance": [],
      "authorship_tag": "ABX9TyN+swg7D6hThkptj32fq3Q8"
    },
    "kernelspec": {
      "name": "python3",
      "display_name": "Python 3"
    }
  },
  "cells": [
    {
      "cell_type": "code",
      "metadata": {
        "id": "d9kv2sC4z6_i",
        "colab_type": "code",
        "colab": {}
      },
      "source": [
        "# Get yourself set up\n",
        "import requests as r\n",
        "from bs4 import BeautifulSoup\n",
        "import seaborn as sns\n",
        "import pandas as pd\n",
        "import matplotlib.pyplot as plt"
      ],
      "execution_count": 0,
      "outputs": []
    },
    {
      "cell_type": "code",
      "metadata": {
        "id": "b0jFvmdO3ayK",
        "colab_type": "code",
        "colab": {}
      },
      "source": [
        "# Empty list to store scraped attributes\n",
        "names = []\n",
        "numbers = []\n",
        "ages = []\n",
        "positions = []\n",
        "hometowns = []\n",
        "heights = []\n",
        "weights = []"
      ],
      "execution_count": 0,
      "outputs": []
    },
    {
      "cell_type": "code",
      "metadata": {
        "id": "3Yc8vlpE1S7K",
        "colab_type": "code",
        "colab": {}
      },
      "source": [
        "# Scrape html content\n",
        "url = 'https://www.lafc.com/players'\n",
        "response = r.get(url)\n",
        "html = response.text\n",
        "soup = BeautifulSoup(html)\n",
        "lafc_players_rows = soup.find('ul', class_ = 'player_list list-reset')\n",
        "players = soup.find_all('li', class_='row')\n",
        "\n",
        "# Place specific player attributes into corresponding lists\n",
        "for player in players:\n",
        "  if player.find('div', class_='name'):\n",
        "    names.append(player.find('a', class_='name_link').text)         \n",
        "  if player.find('span', class_='jersey'):\n",
        "    numbers.append(player.find('span', class_='jersey').text)\n",
        "  if player.find('div', class_='birthdate'):\n",
        "    ages.append(player.find('span', class_='stat age').text)\n",
        "  if player.find('span', class_='position'):\n",
        "    positions.append(player.find('span', class_='position').text)\n",
        "  if player.find('div', class_='hometown'):\n",
        "    hometowns.append(player.find('div', class_='hometown').text)\n",
        "  if player.find('span', class_='stat height'):\n",
        "    heights.append(player.find('span', class_='stat height').text)\n",
        "  if player.find('span', class_='stat weight'):\n",
        "    weights.append(player.find('span', class_='stat weight').text)"
      ],
      "execution_count": 0,
      "outputs": []
    },
    {
      "cell_type": "code",
      "metadata": {
        "id": "Pf4QbI5t7Rjp",
        "colab_type": "code",
        "outputId": "82635d68-e11d-46c1-a717-e5b42f74b135",
        "colab": {
          "base_uri": "https://localhost:8080/",
          "height": 279
        }
      },
      "source": [
        "# Spot validate\n",
        "print(len(names))\n",
        "print(len(numbers))\n",
        "print(len(ages))\n",
        "print(len(positions))\n",
        "print(len(hometowns))\n",
        "print(len(heights))\n",
        "print(len(weights))\n",
        "print(names)\n",
        "print(numbers)\n",
        "print(ages)\n",
        "print(positions)\n",
        "print(hometowns)\n",
        "print(heights)\n",
        "print(weights)"
      ],
      "execution_count": 4,
      "outputs": [
        {
          "output_type": "stream",
          "text": [
            "23\n",
            "23\n",
            "23\n",
            "23\n",
            "23\n",
            "23\n",
            "23\n",
            "['Eduard Atuesta', 'Tristan Blackmon', 'Latif Blessing', 'José Cifuentes', 'Adama Diomande', 'Mohamed El-Munir', 'Francisco Ginella', 'Alejandro Guido', 'Jordan Harvey', 'Dejan Jaković', 'Mark-Anthony Kaye', 'Tyler Miller', 'Danny Musovski', 'Diego Palacios', 'Josh Pérez', 'Adrien Perez', 'Brian Rodríguez', 'Diego Rossi', 'Eddie Segura', 'Danilo Silva', 'Pablo Sisniega', 'Carlos Vela', 'Walker Zimmerman']\n",
            "['20', '27', '7', '', '99', '13', '', '15', '2', '5', '14', '1', '', '12', '18', '26', '17', '9', '4', '6', '23', '10', '25']\n",
            "['22', '23', '23', '20', '29', '27', '20', '25', '35', '34', '25', '26', '24', '20', '21', '24', '19', '21', '22', '33', '24', '30', '26']\n",
            "['Midfielder', 'Defender', 'Forward/Midfielder', 'Midfielder', 'Forward', 'Defender', 'Midfielder', 'Midfielder', 'Defender', 'Defender', 'Midfielder', 'Goalkeeper', 'Forward', 'Defender', 'Forward', 'Forward', 'Forward', 'Forward', 'Defender', 'Defender', 'Goalkeeper', 'Forward', 'Defender']\n",
            "['Vélez, Colombia ', 'Las Vegas, NV', 'Accra, Ghana', 'Esmeraldas, Ecuador', 'Oslo, Norway', 'Tripoli, Libya', 'Montevideo, Uruguay', 'San Diego, CA', 'Mission Viejo, CA', 'Karlovac, Yugoslavia', 'Toronto, Canada', 'Woodbury, NJ', 'Henderson, NV', 'Guayaquil, Ecuador', 'Montebello, CA', 'Ontario, CA', 'Tranqueras, Uruguay', 'Montevideo, Uruguay', 'Pereira, Colombia', 'Campinas, Brazil', 'Mexico City, Mexico', 'Cancun, Mexico', 'Lawrenceville, GA']\n",
            "['5\\' 11\"', '6\\' 1\"', '5\\' 3\"', '5\\' 8\"', '5\\' 11\"', '5\\' 9\"', '5\\' 10\"', '5\\' 11\"', '5\\' 11\"', '6\\' 2\"', '6\\' 1\"', '6\\' 4\"', '6\\' 0\"', '5\\' 7\"', '5\\' 5\"', '6\\' 0\"', '5\\' 8\"', '5\\' 7\"', '5\\' 9\"', '6\\' 1\"', '6\\' 3\"', '5\\' 10\"', '6\\' 3\"']\n",
            "['157', '178', '140', '155', '180', '154', '160', '170', '176', '176', '170', '205', '160', '143', '140', '170', '150', '143', '155', '154', '175', '162', '196']\n"
          ],
          "name": "stdout"
        }
      ]
    },
    {
      "cell_type": "code",
      "metadata": {
        "id": "QY2APi1XHS5m",
        "colab_type": "code",
        "colab": {
          "base_uri": "https://localhost:8080/",
          "height": 415
        },
        "outputId": "4eb8308c-51bc-41c6-f9a9-148f2eda5753"
      },
      "source": [
        "# Turn Weights into Int\n",
        "weight_int = [int(x) for x in weights]\n",
        "weight_int"
      ],
      "execution_count": 6,
      "outputs": [
        {
          "output_type": "execute_result",
          "data": {
            "text/plain": [
              "[157,\n",
              " 178,\n",
              " 140,\n",
              " 155,\n",
              " 180,\n",
              " 154,\n",
              " 160,\n",
              " 170,\n",
              " 176,\n",
              " 176,\n",
              " 170,\n",
              " 205,\n",
              " 160,\n",
              " 143,\n",
              " 140,\n",
              " 170,\n",
              " 150,\n",
              " 143,\n",
              " 155,\n",
              " 154,\n",
              " 175,\n",
              " 162,\n",
              " 196]"
            ]
          },
          "metadata": {
            "tags": []
          },
          "execution_count": 6
        }
      ]
    },
    {
      "cell_type": "code",
      "metadata": {
        "id": "SFFVFDGl7q4M",
        "colab_type": "code",
        "outputId": "3289dd71-f904-460d-c58e-60159a183516",
        "colab": {
          "base_uri": "https://localhost:8080/",
          "height": 228
        }
      },
      "source": [
        "# Turn lists into DataFrame\n",
        "zipped_lists = list(zip(names, numbers, ages, positions, hometowns, heights, weights))\n",
        "data = pd.DataFrame(zipped_lists, columns=['Names', 'Numbers', 'Ages', 'Positions', 'Hometowns', 'Heights', 'Weights'])\n",
        "data.head()\n",
        "data = data.set_index('Names')\n",
        "data.head()"
      ],
      "execution_count": 7,
      "outputs": [
        {
          "output_type": "execute_result",
          "data": {
            "text/html": [
              "<div>\n",
              "<style scoped>\n",
              "    .dataframe tbody tr th:only-of-type {\n",
              "        vertical-align: middle;\n",
              "    }\n",
              "\n",
              "    .dataframe tbody tr th {\n",
              "        vertical-align: top;\n",
              "    }\n",
              "\n",
              "    .dataframe thead th {\n",
              "        text-align: right;\n",
              "    }\n",
              "</style>\n",
              "<table border=\"1\" class=\"dataframe\">\n",
              "  <thead>\n",
              "    <tr style=\"text-align: right;\">\n",
              "      <th></th>\n",
              "      <th>Numbers</th>\n",
              "      <th>Ages</th>\n",
              "      <th>Positions</th>\n",
              "      <th>Hometowns</th>\n",
              "      <th>Heights</th>\n",
              "      <th>Weights</th>\n",
              "    </tr>\n",
              "    <tr>\n",
              "      <th>Names</th>\n",
              "      <th></th>\n",
              "      <th></th>\n",
              "      <th></th>\n",
              "      <th></th>\n",
              "      <th></th>\n",
              "      <th></th>\n",
              "    </tr>\n",
              "  </thead>\n",
              "  <tbody>\n",
              "    <tr>\n",
              "      <th>Eduard Atuesta</th>\n",
              "      <td>20</td>\n",
              "      <td>22</td>\n",
              "      <td>Midfielder</td>\n",
              "      <td>Vélez, Colombia</td>\n",
              "      <td>5' 11\"</td>\n",
              "      <td>157</td>\n",
              "    </tr>\n",
              "    <tr>\n",
              "      <th>Tristan Blackmon</th>\n",
              "      <td>27</td>\n",
              "      <td>23</td>\n",
              "      <td>Defender</td>\n",
              "      <td>Las Vegas, NV</td>\n",
              "      <td>6' 1\"</td>\n",
              "      <td>178</td>\n",
              "    </tr>\n",
              "    <tr>\n",
              "      <th>Latif Blessing</th>\n",
              "      <td>7</td>\n",
              "      <td>23</td>\n",
              "      <td>Forward/Midfielder</td>\n",
              "      <td>Accra, Ghana</td>\n",
              "      <td>5' 3\"</td>\n",
              "      <td>140</td>\n",
              "    </tr>\n",
              "    <tr>\n",
              "      <th>José Cifuentes</th>\n",
              "      <td></td>\n",
              "      <td>20</td>\n",
              "      <td>Midfielder</td>\n",
              "      <td>Esmeraldas, Ecuador</td>\n",
              "      <td>5' 8\"</td>\n",
              "      <td>155</td>\n",
              "    </tr>\n",
              "    <tr>\n",
              "      <th>Adama Diomande</th>\n",
              "      <td>99</td>\n",
              "      <td>29</td>\n",
              "      <td>Forward</td>\n",
              "      <td>Oslo, Norway</td>\n",
              "      <td>5' 11\"</td>\n",
              "      <td>180</td>\n",
              "    </tr>\n",
              "  </tbody>\n",
              "</table>\n",
              "</div>"
            ],
            "text/plain": [
              "                 Numbers Ages  ... Heights Weights\n",
              "Names                          ...                \n",
              "Eduard Atuesta        20   22  ...  5' 11\"     157\n",
              "Tristan Blackmon      27   23  ...   6' 1\"     178\n",
              "Latif Blessing         7   23  ...   5' 3\"     140\n",
              "José Cifuentes             20  ...   5' 8\"     155\n",
              "Adama Diomande        99   29  ...  5' 11\"     180\n",
              "\n",
              "[5 rows x 6 columns]"
            ]
          },
          "metadata": {
            "tags": []
          },
          "execution_count": 7
        }
      ]
    },
    {
      "cell_type": "code",
      "metadata": {
        "id": "WGmV3fCiBIsR",
        "colab_type": "code",
        "outputId": "471638c9-b95d-45c0-c9c7-5f586bbf733b",
        "colab": {
          "base_uri": "https://localhost:8080/",
          "height": 565
        }
      },
      "source": [
        "# Explore Player Weights by Position\n",
        "plt.figure(figsize=(8,8))\n",
        "sns.swarmplot(x='Positions', y='Weights', data=data)\n",
        "plt.title('LAFC Player Weight by Position')"
      ],
      "execution_count": 8,
      "outputs": [
        {
          "output_type": "stream",
          "text": [
            "/usr/local/lib/python3.6/dist-packages/seaborn/categorical.py:1243: RuntimeWarning: invalid value encountered in sqrt\n",
            "  dx = np.sqrt(d ** 2 - dy ** 2) * 1.05\n"
          ],
          "name": "stderr"
        },
        {
          "output_type": "execute_result",
          "data": {
            "text/plain": [
              "Text(0.5, 1.0, 'LAFC Player Weight by Position')"
            ]
          },
          "metadata": {
            "tags": []
          },
          "execution_count": 8
        },
        {
          "output_type": "display_data",
          "data": {
            "image/png": "[encoded data removed]",
            "text/plain": [
              "<Figure size 576x576 with 1 Axes>"
            ]
          },
          "metadata": {
            "tags": []
          }
        }
      ]
    }
  ]
}