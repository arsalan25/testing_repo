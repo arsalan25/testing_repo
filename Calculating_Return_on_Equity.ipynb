{
  "nbformat": 4,
  "nbformat_minor": 0,
  "metadata": {
    "colab": {
      "name": "Calculating Return on Equity",
      "provenance": [],
      "authorship_tag": "ABX9TyNxPMZUQZyag+coyrmM/V7Y"
    },
    "kernelspec": {
      "name": "python3",
      "display_name": "Python 3"
    }
  },
  "cells": [
    {
      "cell_type": "code",
      "metadata": {
        "id": "XCT4_6udTHAZ",
        "colab_type": "code",
        "colab": {}
      },
      "source": [
        "# Calculating Return on Equity with Python\n",
        "# https://towardsdatascience.com/calculating-return-on-equity-with-python-1ea583cd53bd"
      ],
      "execution_count": 0,
      "outputs": []
    },
    {
      "cell_type": "code",
      "metadata": {
        "id": "M1qZM80JTN2X",
        "colab_type": "code",
        "colab": {}
      },
      "source": [
        "# Set up\n",
        "import requests as r\n",
        "\n",
        "# Create data for given stock\n",
        "stock = 't'\n",
        "income_statement = r.get(f\"https://financialmodelingprep.com/api/v3/financials/income-statement/{stock}?period=quarter\")\n",
        "data = income_statement.json()\n",
        "data"
      ],
      "execution_count": 0,
      "outputs": []
    },
    {
      "cell_type": "code",
      "metadata": {
        "id": "6zjSzzBGVrhO",
        "colab_type": "code",
        "colab": {
          "base_uri": "https://localhost:8080/",
          "height": 35
        },
        "outputId": "c3dca3cf-3a2c-4dfd-c4f4-3f4a0c47503e"
      },
      "source": [
        "# Main ingredients for Return on Equity: Net Income & Book Value\n",
        "net_income = float(data['financials'][0]['Net Income Com'])\n",
        "display(f'Net Income = {net_income}')"
      ],
      "execution_count": 30,
      "outputs": [
        {
          "output_type": "display_data",
          "data": {
            "text/plain": [
              "'Net Income = 3700000000.0'"
            ]
          },
          "metadata": {
            "tags": []
          }
        }
      ]
    },
    {
      "cell_type": "code",
      "metadata": {
        "id": "zXSnKyvCXPry",
        "colab_type": "code",
        "colab": {}
      },
      "source": [
        "# Total Share Holder Equity\n",
        "balance_sheet = r.get(f\"https://financialmodelingprep.com/api/v3/financials/balance-sheet-statement/{stock}?period=quarter\")\n",
        "balance_sheet = balance_sheet.json()\n",
        "balance_sheet"
      ],
      "execution_count": 0,
      "outputs": []
    },
    {
      "cell_type": "code",
      "metadata": {
        "id": "0AllXLKaZGUV",
        "colab_type": "code",
        "colab": {
          "base_uri": "https://localhost:8080/",
          "height": 69
        },
        "outputId": "b73a045e-3a71-443d-870e-5790b16e92d6"
      },
      "source": [
        "# Shareholder Equity\n",
        "equity_now = float(balance_sheet['financials'][0]['Total shareholders equity'])\n",
        "print(f'Total Shareholder Equity Today = {equity_now}')\n",
        "\n",
        "equity_lastyr = float(balance_sheet['financials'][4]['Total shareholders equity'])\n",
        "print(f'Total Shareholder Equity Last Year = {equity_lastyr}')\n",
        "\n",
        "average_equity = (equity_now + equity_lastyr)/2\n",
        "print(f'Average Equity = {average_equity}')"
      ],
      "execution_count": 38,
      "outputs": [
        {
          "output_type": "stream",
          "text": [
            "Total Shareholder Equity Today = 194327000000.0\n",
            "Total Shareholder Equity Last Year = 184971000000.0\n",
            "Average Equity = 189649000000.0\n"
          ],
          "name": "stdout"
        }
      ]
    },
    {
      "cell_type": "code",
      "metadata": {
        "id": "Iu0lo5ZiZ-ig",
        "colab_type": "code",
        "colab": {
          "base_uri": "https://localhost:8080/",
          "height": 35
        },
        "outputId": "934cdbe9-527c-4069-a5ef-63ce205cb0b8"
      },
      "source": [
        "# Calculate Return On Equity\n",
        "ROE = net_income/average_equity\n",
        "print(f'ROE for {stock}= {ROE}')"
      ],
      "execution_count": 39,
      "outputs": [
        {
          "output_type": "stream",
          "text": [
            "ROE = 0.019509725861987143\n"
          ],
          "name": "stdout"
        }
      ]
    },
    {
      "cell_type": "code",
      "metadata": {
        "id": "gZsL6ApXbWAH",
        "colab_type": "code",
        "colab": {}
      },
      "source": [
        "# Stitch together into function\n",
        "def getROE(stock):\n",
        "  income_statement = r.get(f\"https://financialmodelingprep.com/api/v3/financials/income-statement/{stock}?period=quarter\")\n",
        "  data = income_statement.json()\n",
        "  net_income = float(data['financials'][0]['Net Income Com'])\n",
        "  balance_sheet = r.get(f\"https://financialmodelingprep.com/api/v3/financials/balance-sheet-statement/{stock}?period=quarter\")\n",
        "  balance_sheet = balance_sheet.json()\n",
        "  equity_now = float(balance_sheet['financials'][0]['Total shareholders equity'])\n",
        "  equity_lastyr = float(balance_sheet['financials'][4]['Total shareholders equity'])\n",
        "  average_equity = (equity_now + equity_lastyr)/2\n",
        "  ROE = net_income/average_equity\n",
        "  print(f'ROE for {stock}= {ROE}')"
      ],
      "execution_count": 0,
      "outputs": []
    },
    {
      "cell_type": "code",
      "metadata": {
        "id": "fgGBeXXzfxgT",
        "colab_type": "code",
        "colab": {
          "base_uri": "https://localhost:8080/",
          "height": 35
        },
        "outputId": "50e96936-de97-4e11-807f-bc9e3b47eb0e"
      },
      "source": [
        "getROE(\"t\")"
      ],
      "execution_count": 41,
      "outputs": [
        {
          "output_type": "stream",
          "text": [
            "ROE for t= 0.019509725861987143\n"
          ],
          "name": "stdout"
        }
      ]
    },
    {
      "cell_type": "code",
      "metadata": {
        "id": "fH5ubmtTfzSu",
        "colab_type": "code",
        "colab": {}
      },
      "source": [
        "stocks = ['t', 'nrz', 'aapl']"
      ],
      "execution_count": 0,
      "outputs": []
    },
    {
      "cell_type": "code",
      "metadata": {
        "id": "o54ESSyugAgf",
        "colab_type": "code",
        "colab": {
          "base_uri": "https://localhost:8080/",
          "height": 69
        },
        "outputId": "664f8cf2-82ad-4f24-f30f-d41a5d7c3dfc"
      },
      "source": [
        "for i in stocks:\n",
        "  getROE(i)"
      ],
      "execution_count": 47,
      "outputs": [
        {
          "output_type": "stream",
          "text": [
            "ROE for t= 0.019509725861987143\n",
            "ROE for nrz= 0.03476052263677193\n",
            "ROE for aapl= 0.21440245295844723\n"
          ],
          "name": "stdout"
        }
      ]
    },
    {
      "cell_type": "code",
      "metadata": {
        "id": "121xItA-gEwJ",
        "colab_type": "code",
        "colab": {}
      },
      "source": [
        ""
      ],
      "execution_count": 0,
      "outputs": []
    }
  ]
}