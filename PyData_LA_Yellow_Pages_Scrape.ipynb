{
  "nbformat": 4,
  "nbformat_minor": 0,
  "metadata": {
    "colab": {
      "name": "PyData LA Yellow Pages Scrape",
      "provenance": [],
      "collapsed_sections": [],
      "include_colab_link": true
    },
    "kernelspec": {
      "name": "python3",
      "display_name": "Python 3"
    }
  },
  "cells": [
    {
      "cell_type": "markdown",
      "metadata": {
        "id": "view-in-github",
        "colab_type": "text"
      },
      "source": [
        "<a href=\"https://colab.research.google.com/github/juansvas/testing_repo/blob/master/PyData_LA_Yellow_Pages_Scrape.ipynb\" target=\"_parent\"><img src=\"https://colab.research.google.com/assets/colab-badge.svg\" alt=\"Open In Colab\"/></a>"
      ]
    },
    {
      "cell_type": "markdown",
      "metadata": {
        "id": "CBVnlBMHvc2V",
        "colab_type": "text"
      },
      "source": [
        "**Import Libraries**"
      ]
    },
    {
      "cell_type": "code",
      "metadata": {
        "id": "xZadXjHSudgE",
        "colab_type": "code",
        "colab": {}
      },
      "source": [
        "import requests as r\n",
        "from bs4 import BeautifulSoup\n",
        "import pandas as pd"
      ],
      "execution_count": 0,
      "outputs": []
    },
    {
      "cell_type": "markdown",
      "metadata": {
        "id": "xWTCdlQ7viEv",
        "colab_type": "text"
      },
      "source": [
        "**Create list of 102 with URLs holding the Legal section**"
      ]
    },
    {
      "cell_type": "code",
      "metadata": {
        "id": "FjF-YhoRuoLE",
        "colab_type": "code",
        "colab": {}
      },
      "source": [
        "legal = 'https://www.yellowpages.com/los-angeles-ca/legal?page='\n",
        "pages = range(1, 102)\n",
        "business_list = []\n",
        "for page in pages:\n",
        "  legal_url = f'{legal}{page}'\n",
        "  business_list.append(legal_url)"
      ],
      "execution_count": 0,
      "outputs": []
    },
    {
      "cell_type": "code",
      "metadata": {
        "id": "RpkjCeoPv7Ne",
        "colab_type": "code",
        "outputId": "64687337-4948-4eda-e105-57e1971d81b8",
        "colab": {
          "base_uri": "https://localhost:8080/",
          "height": 34
        }
      },
      "source": [
        "print(len(business_list))"
      ],
      "execution_count": 3,
      "outputs": [
        {
          "output_type": "stream",
          "text": [
            "101\n"
          ],
          "name": "stdout"
        }
      ]
    },
    {
      "cell_type": "markdown",
      "metadata": {
        "id": "W1BR3baNQ81g",
        "colab_type": "text"
      },
      "source": [
        "**5 Empty Lists**"
      ]
    },
    {
      "cell_type": "code",
      "metadata": {
        "id": "fFRfbDdxQ75T",
        "colab_type": "code",
        "colab": {}
      },
      "source": [
        "name = []\n",
        "phone = []\n",
        "address = []\n",
        "locality = []\n",
        "categories = [] "
      ],
      "execution_count": 0,
      "outputs": []
    },
    {
      "cell_type": "markdown",
      "metadata": {
        "id": "_PDFTJXZxHjq",
        "colab_type": "text"
      },
      "source": [
        "**Nested For loops: Outer loops through pages, Inner targets, scrapes, & appends text data from specific html tags**"
      ]
    },
    {
      "cell_type": "code",
      "metadata": {
        "id": "79e3XRbxv-Xf",
        "colab_type": "code",
        "colab": {}
      },
      "source": [
        "for page in business_list:\n",
        "  req = r.get(page)\n",
        "  html_doc = req.text\n",
        "  soup = BeautifulSoup(html_doc)\n",
        "  organic_listings = soup.find_all('div', class_='info')\n",
        "  for i in organic_listings:\n",
        "    if i.find('h2', class_ = 'n'):\n",
        "      name.append(i.find('h2', class_='n').text)\n",
        "    else:\n",
        "      name.append('no_name')\n",
        "    if i.find('div', class_ = 'phones phone primary'):\n",
        "      phone.append(i.find('div', class_ = 'phones phone primary').text)\n",
        "    else:\n",
        "      phone.append('no_phone')\n",
        "    if i.find('div', class_ = 'street-address'):\n",
        "      address.append(i.find('div', class_ = 'street-address').text)\n",
        "    else:\n",
        "      address.append('no_address')\n",
        "    if i.find('div', class_ = 'locality'):\n",
        "      locality.append(i.find('div', class_ = 'locality').text)\n",
        "    else:\n",
        "      locality.append('no_locality')\n",
        "    if i.find('div', class_ = 'categories'):\n",
        "      categories.append(i.find('div', class_ = 'categories').text)\n",
        "    else:\n",
        "      categories.append('no_categories')"
      ],
      "execution_count": 0,
      "outputs": []
    },
    {
      "cell_type": "code",
      "metadata": {
        "id": "wIvqSf0KWCcO",
        "colab_type": "code",
        "outputId": "243efdee-b0db-4fe7-b786-2710892cc277",
        "colab": {
          "base_uri": "https://localhost:8080/",
          "height": 101
        }
      },
      "source": [
        "print(len(name))\n",
        "print(len(phone))\n",
        "print(len(address))\n",
        "print(len(locality))\n",
        "print(len(categories))"
      ],
      "execution_count": 6,
      "outputs": [
        {
          "output_type": "stream",
          "text": [
            "3031\n",
            "3031\n",
            "3031\n",
            "3031\n",
            "3031\n"
          ],
          "name": "stdout"
        }
      ]
    },
    {
      "cell_type": "markdown",
      "metadata": {
        "id": "cCcxxnwwv0Zd",
        "colab_type": "text"
      },
      "source": [
        "**Turn your individual lists into 1 Dataframe**"
      ]
    },
    {
      "cell_type": "code",
      "metadata": {
        "id": "HKatLIOUv-kr",
        "colab_type": "code",
        "colab": {}
      },
      "source": [
        "zipped_lists = list(zip(name, phone, address, locality, categories))"
      ],
      "execution_count": 0,
      "outputs": []
    },
    {
      "cell_type": "code",
      "metadata": {
        "id": "fYOWIEq-W6ZJ",
        "colab_type": "code",
        "colab": {}
      },
      "source": [
        "df = pd.DataFrame(zipped_lists, columns=['Name', 'Phone', 'Address', 'City Zip', 'Categories'])"
      ],
      "execution_count": 0,
      "outputs": []
    },
    {
      "cell_type": "code",
      "metadata": {
        "id": "cYQX9ylNXP_6",
        "colab_type": "code",
        "outputId": "c8bf36c6-1d62-41f1-9577-c6d2cf6d32f0",
        "colab": {
          "base_uri": "https://localhost:8080/",
          "height": 195
        }
      },
      "source": [
        "df.head()"
      ],
      "execution_count": 9,
      "outputs": [
        {
          "output_type": "execute_result",
          "data": {
            "text/html": [
              "<div>\n",
              "<style scoped>\n",
              "    .dataframe tbody tr th:only-of-type {\n",
              "        vertical-align: middle;\n",
              "    }\n",
              "\n",
              "    .dataframe tbody tr th {\n",
              "        vertical-align: top;\n",
              "    }\n",
              "\n",
              "    .dataframe thead th {\n",
              "        text-align: right;\n",
              "    }\n",
              "</style>\n",
              "<table border=\"1\" class=\"dataframe\">\n",
              "  <thead>\n",
              "    <tr style=\"text-align: right;\">\n",
              "      <th></th>\n",
              "      <th>Name</th>\n",
              "      <th>Phone</th>\n",
              "      <th>Address</th>\n",
              "      <th>City Zip</th>\n",
              "      <th>Categories</th>\n",
              "    </tr>\n",
              "  </thead>\n",
              "  <tbody>\n",
              "    <tr>\n",
              "      <th>0</th>\n",
              "      <td>AdCommunity Legal Solutions</td>\n",
              "      <td>no_phone</td>\n",
              "      <td>no_address</td>\n",
              "      <td>no_locality</td>\n",
              "      <td>Legal ClinicsAttorneysDivorce AttorneysCrimina...</td>\n",
              "    </tr>\n",
              "    <tr>\n",
              "      <th>1</th>\n",
              "      <td>1. Legal</td>\n",
              "      <td>(424) 298-8420</td>\n",
              "      <td>2476 Overland Ave</td>\n",
              "      <td>Los Angeles, CA 90064</td>\n",
              "      <td>no_categories</td>\n",
              "    </tr>\n",
              "    <tr>\n",
              "      <th>2</th>\n",
              "      <td>2. Miller &amp; Miller</td>\n",
              "      <td>(323) 472-4189</td>\n",
              "      <td>3418 W 6th St</td>\n",
              "      <td>Los Angeles, CA 90020</td>\n",
              "      <td>Wills, Trusts &amp; Estate Planning AttorneysReal ...</td>\n",
              "    </tr>\n",
              "    <tr>\n",
              "      <th>3</th>\n",
              "      <td>3. Your Way Out Bail Bonds</td>\n",
              "      <td>(805) 395-2171</td>\n",
              "      <td>1547 W Martin Luther King Jr Blvd</td>\n",
              "      <td>Los Angeles, CA 90062</td>\n",
              "      <td>Financial ServicesBail Bond Referral ServiceBa...</td>\n",
              "    </tr>\n",
              "    <tr>\n",
              "      <th>4</th>\n",
              "      <td>4. Direct Legal Support Inc</td>\n",
              "      <td>(213) 454-0747</td>\n",
              "      <td>1541 Wilshire Blvd Ste 550</td>\n",
              "      <td>Los Angeles, CA 90017</td>\n",
              "      <td>Printing ServicesLegal Service PlansCopying &amp; ...</td>\n",
              "    </tr>\n",
              "  </tbody>\n",
              "</table>\n",
              "</div>"
            ],
            "text/plain": [
              "                          Name  ...                                         Categories\n",
              "0  AdCommunity Legal Solutions  ...  Legal ClinicsAttorneysDivorce AttorneysCrimina...\n",
              "1                     1. Legal  ...                                      no_categories\n",
              "2           2. Miller & Miller  ...  Wills, Trusts & Estate Planning AttorneysReal ...\n",
              "3   3. Your Way Out Bail Bonds  ...  Financial ServicesBail Bond Referral ServiceBa...\n",
              "4  4. Direct Legal Support Inc  ...  Printing ServicesLegal Service PlansCopying & ...\n",
              "\n",
              "[5 rows x 5 columns]"
            ]
          },
          "metadata": {
            "tags": []
          },
          "execution_count": 9
        }
      ]
    },
    {
      "cell_type": "code",
      "metadata": {
        "id": "Svtt764dXRGP",
        "colab_type": "code",
        "colab": {}
      },
      "source": [
        ""
      ],
      "execution_count": 0,
      "outputs": []
    }
  ]
}